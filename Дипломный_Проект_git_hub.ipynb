{
 "cells": [
  {
   "cell_type": "markdown",
   "metadata": {
    "id": "LMuaGIE3lGcr"
   },
   "source": [
    "### Исследовательский анализ данных сервиса Яндекс Афиша за период с 01.06.2024 по 31.10.2024\n",
    "\n",
    "Автор: Дзержговский Евгений Александрович\n",
    "\n",
    "Дата: 27.08.2025"
   ]
  },
  {
   "cell_type": "markdown",
   "metadata": {},
   "source": [
    "### Цель и задачи проекта\n",
    "\n",
    "Проверить как повлияла на продажи билетов сезонность, изменилась ли аудитория клиентов, какие события стали чаще привлекать клиентов, какие площадки и организаторы популярнее и зависит ли активность пользователей от их устройств, а также проверить гипотезы о разнице в поведении пользователей с мобильными и стационарными устройствами."
   ]
  },
  {
   "cell_type": "markdown",
   "metadata": {},
   "source": [
    "### Содержание проекта\n",
    "\n",
    "1. Загрузка данных и знакомство с ними.\n",
    "2. Предобработка данных.\n",
    "3. Исследовательский анализ данных и проверка гипотез.\n",
    "4. Итоговые выводы."
   ]
  },
  {
   "cell_type": "markdown",
   "metadata": {},
   "source": [
    "## 1. Загрузка данных и знакомство с ними"
   ]
  },
  {
   "cell_type": "code",
   "execution_count": 1,
   "metadata": {},
   "outputs": [],
   "source": [
    "# Импортируем библиотеки\n",
    "import pandas as pd\n",
    "import matplotlib.pyplot as plt\n",
    "from scipy.stats import ttest_ind, mannwhitneyu ,shapiro"
   ]
  },
  {
   "cell_type": "code",
   "execution_count": 1,
   "metadata": {},
   "outputs": [
    {
     "ename": "NameError",
     "evalue": "name 'pd' is not defined",
     "output_type": "error",
     "traceback": [
      "\u001b[1;31m---------------------------------------------------------------------------\u001b[0m",
      "\u001b[1;31mNameError\u001b[0m                                 Traceback (most recent call last)",
      "\u001b[1;32mC:\\Users\\B7E3~1\\AppData\\Local\\Temp/ipykernel_7796/3807114614.py\u001b[0m in \u001b[0;36m<module>\u001b[1;34m\u001b[0m\n\u001b[0;32m      1\u001b[0m \u001b[1;31m# Выгружаем данные\u001b[0m\u001b[1;33m\u001b[0m\u001b[1;33m\u001b[0m\u001b[0m\n\u001b[1;32m----> 2\u001b[1;33m \u001b[0morders\u001b[0m \u001b[1;33m=\u001b[0m \u001b[0mpd\u001b[0m\u001b[1;33m.\u001b[0m\u001b[0mread_csv\u001b[0m\u001b[1;33m(\u001b[0m\u001b[1;33m...\u001b[0m\u001b[1;33m)\u001b[0m\u001b[1;33m\u001b[0m\u001b[1;33m\u001b[0m\u001b[0m\n\u001b[0m\u001b[0;32m      3\u001b[0m \u001b[0mevents\u001b[0m \u001b[1;33m=\u001b[0m \u001b[0mpd\u001b[0m\u001b[1;33m.\u001b[0m\u001b[0mread_csv\u001b[0m\u001b[1;33m(\u001b[0m\u001b[1;33m...\u001b[0m\u001b[1;33m)\u001b[0m\u001b[1;33m\u001b[0m\u001b[1;33m\u001b[0m\u001b[0m\n\u001b[0;32m      4\u001b[0m \u001b[0mtenge\u001b[0m \u001b[1;33m=\u001b[0m \u001b[0mpd\u001b[0m\u001b[1;33m.\u001b[0m\u001b[0mread_csv\u001b[0m\u001b[1;33m(\u001b[0m\u001b[1;33m...\u001b[0m\u001b[1;33m)\u001b[0m\u001b[1;33m\u001b[0m\u001b[1;33m\u001b[0m\u001b[0m\n",
      "\u001b[1;31mNameError\u001b[0m: name 'pd' is not defined"
     ]
    }
   ],
   "source": [
    "# Выгружаем данные\n",
    "orders = pd.read_csv(...)\n",
    "events = pd.read_csv(...)\n",
    "tenge = pd.read_csv(...)"
   ]
  },
  {
   "cell_type": "code",
   "execution_count": 3,
   "metadata": {},
   "outputs": [
    {
     "data": {
      "text/html": [
       "<div>\n",
       "<style scoped>\n",
       "    .dataframe tbody tr th:only-of-type {\n",
       "        vertical-align: middle;\n",
       "    }\n",
       "\n",
       "    .dataframe tbody tr th {\n",
       "        vertical-align: top;\n",
       "    }\n",
       "\n",
       "    .dataframe thead th {\n",
       "        text-align: right;\n",
       "    }\n",
       "</style>\n",
       "<table border=\"1\" class=\"dataframe\">\n",
       "  <thead>\n",
       "    <tr style=\"text-align: right;\">\n",
       "      <th></th>\n",
       "      <th>order_id</th>\n",
       "      <th>user_id</th>\n",
       "      <th>created_dt_msk</th>\n",
       "      <th>created_ts_msk</th>\n",
       "      <th>event_id</th>\n",
       "      <th>cinema_circuit</th>\n",
       "      <th>age_limit</th>\n",
       "      <th>currency_code</th>\n",
       "      <th>device_type_canonical</th>\n",
       "      <th>revenue</th>\n",
       "      <th>service_name</th>\n",
       "      <th>tickets_count</th>\n",
       "      <th>total</th>\n",
       "      <th>days_since_prev</th>\n",
       "    </tr>\n",
       "  </thead>\n",
       "  <tbody>\n",
       "    <tr>\n",
       "      <th>0</th>\n",
       "      <td>4359165</td>\n",
       "      <td>0002849b70a3ce2</td>\n",
       "      <td>2024-08-20</td>\n",
       "      <td>2024-08-20 16:08:03</td>\n",
       "      <td>169230</td>\n",
       "      <td>нет</td>\n",
       "      <td>16</td>\n",
       "      <td>rub</td>\n",
       "      <td>mobile</td>\n",
       "      <td>1521.94</td>\n",
       "      <td>Край билетов</td>\n",
       "      <td>4</td>\n",
       "      <td>10870.99</td>\n",
       "      <td>NaN</td>\n",
       "    </tr>\n",
       "    <tr>\n",
       "      <th>1</th>\n",
       "      <td>7965605</td>\n",
       "      <td>0005ca5e93f2cf4</td>\n",
       "      <td>2024-07-23</td>\n",
       "      <td>2024-07-23 18:36:24</td>\n",
       "      <td>237325</td>\n",
       "      <td>нет</td>\n",
       "      <td>0</td>\n",
       "      <td>rub</td>\n",
       "      <td>mobile</td>\n",
       "      <td>289.45</td>\n",
       "      <td>Мой билет</td>\n",
       "      <td>2</td>\n",
       "      <td>2067.51</td>\n",
       "      <td>NaN</td>\n",
       "    </tr>\n",
       "    <tr>\n",
       "      <th>2</th>\n",
       "      <td>7292370</td>\n",
       "      <td>0005ca5e93f2cf4</td>\n",
       "      <td>2024-10-06</td>\n",
       "      <td>2024-10-06 13:56:02</td>\n",
       "      <td>578454</td>\n",
       "      <td>нет</td>\n",
       "      <td>0</td>\n",
       "      <td>rub</td>\n",
       "      <td>mobile</td>\n",
       "      <td>1258.57</td>\n",
       "      <td>За билетом!</td>\n",
       "      <td>4</td>\n",
       "      <td>13984.16</td>\n",
       "      <td>75.0</td>\n",
       "    </tr>\n",
       "    <tr>\n",
       "      <th>3</th>\n",
       "      <td>1139875</td>\n",
       "      <td>000898990054619</td>\n",
       "      <td>2024-07-13</td>\n",
       "      <td>2024-07-13 19:40:48</td>\n",
       "      <td>387271</td>\n",
       "      <td>нет</td>\n",
       "      <td>0</td>\n",
       "      <td>rub</td>\n",
       "      <td>mobile</td>\n",
       "      <td>8.49</td>\n",
       "      <td>Лови билет!</td>\n",
       "      <td>2</td>\n",
       "      <td>212.28</td>\n",
       "      <td>NaN</td>\n",
       "    </tr>\n",
       "    <tr>\n",
       "      <th>4</th>\n",
       "      <td>972400</td>\n",
       "      <td>000898990054619</td>\n",
       "      <td>2024-10-04</td>\n",
       "      <td>2024-10-04 22:33:15</td>\n",
       "      <td>509453</td>\n",
       "      <td>нет</td>\n",
       "      <td>18</td>\n",
       "      <td>rub</td>\n",
       "      <td>mobile</td>\n",
       "      <td>1390.41</td>\n",
       "      <td>Билеты без проблем</td>\n",
       "      <td>3</td>\n",
       "      <td>10695.43</td>\n",
       "      <td>83.0</td>\n",
       "    </tr>\n",
       "  </tbody>\n",
       "</table>\n",
       "</div>"
      ],
      "text/plain": [
       "   order_id          user_id created_dt_msk       created_ts_msk  event_id  \\\n",
       "0   4359165  0002849b70a3ce2     2024-08-20  2024-08-20 16:08:03    169230   \n",
       "1   7965605  0005ca5e93f2cf4     2024-07-23  2024-07-23 18:36:24    237325   \n",
       "2   7292370  0005ca5e93f2cf4     2024-10-06  2024-10-06 13:56:02    578454   \n",
       "3   1139875  000898990054619     2024-07-13  2024-07-13 19:40:48    387271   \n",
       "4    972400  000898990054619     2024-10-04  2024-10-04 22:33:15    509453   \n",
       "\n",
       "  cinema_circuit  age_limit currency_code device_type_canonical  revenue  \\\n",
       "0            нет         16           rub                mobile  1521.94   \n",
       "1            нет          0           rub                mobile   289.45   \n",
       "2            нет          0           rub                mobile  1258.57   \n",
       "3            нет          0           rub                mobile     8.49   \n",
       "4            нет         18           rub                mobile  1390.41   \n",
       "\n",
       "         service_name  tickets_count     total  days_since_prev  \n",
       "0        Край билетов              4  10870.99              NaN  \n",
       "1           Мой билет              2   2067.51              NaN  \n",
       "2         За билетом!              4  13984.16             75.0  \n",
       "3         Лови билет!              2    212.28              NaN  \n",
       "4  Билеты без проблем              3  10695.43             83.0  "
      ]
     },
     "execution_count": 3,
     "metadata": {},
     "output_type": "execute_result"
    }
   ],
   "source": [
    "# Выводим первые строки\n",
    "orders.head()"
   ]
  },
  {
   "cell_type": "code",
   "execution_count": 4,
   "metadata": {},
   "outputs": [
    {
     "name": "stdout",
     "output_type": "stream",
     "text": [
      "<class 'pandas.core.frame.DataFrame'>\n",
      "RangeIndex: 290849 entries, 0 to 290848\n",
      "Data columns (total 14 columns):\n",
      " #   Column                 Non-Null Count   Dtype  \n",
      "---  ------                 --------------   -----  \n",
      " 0   order_id               290849 non-null  int64  \n",
      " 1   user_id                290849 non-null  object \n",
      " 2   created_dt_msk         290849 non-null  object \n",
      " 3   created_ts_msk         290849 non-null  object \n",
      " 4   event_id               290849 non-null  int64  \n",
      " 5   cinema_circuit         290849 non-null  object \n",
      " 6   age_limit              290849 non-null  int64  \n",
      " 7   currency_code          290849 non-null  object \n",
      " 8   device_type_canonical  290849 non-null  object \n",
      " 9   revenue                290849 non-null  float64\n",
      " 10  service_name           290849 non-null  object \n",
      " 11  tickets_count          290849 non-null  int64  \n",
      " 12  total                  290849 non-null  float64\n",
      " 13  days_since_prev        268909 non-null  float64\n",
      "dtypes: float64(3), int64(4), object(7)\n",
      "memory usage: 31.1+ MB\n"
     ]
    }
   ],
   "source": [
    "# Выводим информацию\n",
    "orders.info()"
   ]
  },
  {
   "cell_type": "markdown",
   "metadata": {},
   "source": [
    "Полученный датафрейм `orders` состоит из 290849 строк и 14 столбцов. Пропуски есть только в поле `days_since_prev` как и предполагалось изначально. Типы данных не во всех столбцах представлены корректно, возможно изменим их при необходимости в будущем."
   ]
  },
  {
   "cell_type": "code",
   "execution_count": 5,
   "metadata": {},
   "outputs": [
    {
     "data": {
      "text/html": [
       "<div>\n",
       "<style scoped>\n",
       "    .dataframe tbody tr th:only-of-type {\n",
       "        vertical-align: middle;\n",
       "    }\n",
       "\n",
       "    .dataframe tbody tr th {\n",
       "        vertical-align: top;\n",
       "    }\n",
       "\n",
       "    .dataframe thead th {\n",
       "        text-align: right;\n",
       "    }\n",
       "</style>\n",
       "<table border=\"1\" class=\"dataframe\">\n",
       "  <thead>\n",
       "    <tr style=\"text-align: right;\">\n",
       "      <th></th>\n",
       "      <th>event_id</th>\n",
       "      <th>event_name</th>\n",
       "      <th>event_type_description</th>\n",
       "      <th>event_type_main</th>\n",
       "      <th>organizers</th>\n",
       "      <th>region_name</th>\n",
       "      <th>city_name</th>\n",
       "      <th>city_id</th>\n",
       "      <th>venue_id</th>\n",
       "      <th>venue_name</th>\n",
       "      <th>venue_address</th>\n",
       "    </tr>\n",
       "  </thead>\n",
       "  <tbody>\n",
       "    <tr>\n",
       "      <th>0</th>\n",
       "      <td>4436</td>\n",
       "      <td>e4f26fba-da77-4c61-928a-6c3e434d793f</td>\n",
       "      <td>спектакль</td>\n",
       "      <td>театр</td>\n",
       "      <td>№4893</td>\n",
       "      <td>Североярская область</td>\n",
       "      <td>Озёрск</td>\n",
       "      <td>2</td>\n",
       "      <td>1600</td>\n",
       "      <td>Кладбище искусств \"Проблема\" и партнеры</td>\n",
       "      <td>наб. Загородная, д. 785</td>\n",
       "    </tr>\n",
       "    <tr>\n",
       "      <th>1</th>\n",
       "      <td>5785</td>\n",
       "      <td>5cc08a60-fdea-4186-9bb2-bffc3603fb77</td>\n",
       "      <td>спектакль</td>\n",
       "      <td>театр</td>\n",
       "      <td>№1931</td>\n",
       "      <td>Светополянский округ</td>\n",
       "      <td>Глиноград</td>\n",
       "      <td>54</td>\n",
       "      <td>2196</td>\n",
       "      <td>Лекции по искусству \"Свет\" Групп</td>\n",
       "      <td>ул. Ягодная, д. 942</td>\n",
       "    </tr>\n",
       "    <tr>\n",
       "      <th>2</th>\n",
       "      <td>8817</td>\n",
       "      <td>8e379a89-3a10-4811-ba06-ec22ebebe989</td>\n",
       "      <td>спектакль</td>\n",
       "      <td>театр</td>\n",
       "      <td>№4896</td>\n",
       "      <td>Североярская область</td>\n",
       "      <td>Озёрск</td>\n",
       "      <td>2</td>\n",
       "      <td>4043</td>\n",
       "      <td>Кинокомитет \"Золотая\" Инк</td>\n",
       "      <td>ш. Коммуны, д. 92 стр. 6</td>\n",
       "    </tr>\n",
       "    <tr>\n",
       "      <th>3</th>\n",
       "      <td>8849</td>\n",
       "      <td>682e3129-6a32-4952-9d8a-ef7f60d4c247</td>\n",
       "      <td>спектакль</td>\n",
       "      <td>театр</td>\n",
       "      <td>№4960</td>\n",
       "      <td>Каменевский регион</td>\n",
       "      <td>Глиногорск</td>\n",
       "      <td>213</td>\n",
       "      <td>1987</td>\n",
       "      <td>Выставка ремесел \"Свет\" Лтд</td>\n",
       "      <td>пер. Набережный, д. 35</td>\n",
       "    </tr>\n",
       "    <tr>\n",
       "      <th>4</th>\n",
       "      <td>8850</td>\n",
       "      <td>d6e99176-c77f-4af0-9222-07c571f6c624</td>\n",
       "      <td>спектакль</td>\n",
       "      <td>театр</td>\n",
       "      <td>№4770</td>\n",
       "      <td>Лесодальний край</td>\n",
       "      <td>Родниковец</td>\n",
       "      <td>55</td>\n",
       "      <td>4230</td>\n",
       "      <td>Фестивальный проект \"Листья\" Групп</td>\n",
       "      <td>пер. Проезжий, д. 9</td>\n",
       "    </tr>\n",
       "  </tbody>\n",
       "</table>\n",
       "</div>"
      ],
      "text/plain": [
       "   event_id                            event_name event_type_description  \\\n",
       "0      4436  e4f26fba-da77-4c61-928a-6c3e434d793f              спектакль   \n",
       "1      5785  5cc08a60-fdea-4186-9bb2-bffc3603fb77              спектакль   \n",
       "2      8817  8e379a89-3a10-4811-ba06-ec22ebebe989              спектакль   \n",
       "3      8849  682e3129-6a32-4952-9d8a-ef7f60d4c247              спектакль   \n",
       "4      8850  d6e99176-c77f-4af0-9222-07c571f6c624              спектакль   \n",
       "\n",
       "  event_type_main organizers           region_name   city_name  city_id  \\\n",
       "0           театр      №4893  Североярская область      Озёрск        2   \n",
       "1           театр      №1931  Светополянский округ   Глиноград       54   \n",
       "2           театр      №4896  Североярская область      Озёрск        2   \n",
       "3           театр      №4960    Каменевский регион  Глиногорск      213   \n",
       "4           театр      №4770      Лесодальний край  Родниковец       55   \n",
       "\n",
       "   venue_id                               venue_name             venue_address  \n",
       "0      1600  Кладбище искусств \"Проблема\" и партнеры   наб. Загородная, д. 785  \n",
       "1      2196         Лекции по искусству \"Свет\" Групп       ул. Ягодная, д. 942  \n",
       "2      4043                Кинокомитет \"Золотая\" Инк  ш. Коммуны, д. 92 стр. 6  \n",
       "3      1987              Выставка ремесел \"Свет\" Лтд    пер. Набережный, д. 35  \n",
       "4      4230       Фестивальный проект \"Листья\" Групп       пер. Проезжий, д. 9  "
      ]
     },
     "execution_count": 5,
     "metadata": {},
     "output_type": "execute_result"
    }
   ],
   "source": [
    "# Выводим первые строки\n",
    "events.head()"
   ]
  },
  {
   "cell_type": "code",
   "execution_count": 6,
   "metadata": {},
   "outputs": [
    {
     "name": "stdout",
     "output_type": "stream",
     "text": [
      "<class 'pandas.core.frame.DataFrame'>\n",
      "RangeIndex: 22427 entries, 0 to 22426\n",
      "Data columns (total 11 columns):\n",
      " #   Column                  Non-Null Count  Dtype \n",
      "---  ------                  --------------  ----- \n",
      " 0   event_id                22427 non-null  int64 \n",
      " 1   event_name              22427 non-null  object\n",
      " 2   event_type_description  22427 non-null  object\n",
      " 3   event_type_main         22427 non-null  object\n",
      " 4   organizers              22427 non-null  object\n",
      " 5   region_name             22427 non-null  object\n",
      " 6   city_name               22427 non-null  object\n",
      " 7   city_id                 22427 non-null  int64 \n",
      " 8   venue_id                22427 non-null  int64 \n",
      " 9   venue_name              22427 non-null  object\n",
      " 10  venue_address           22427 non-null  object\n",
      "dtypes: int64(3), object(8)\n",
      "memory usage: 1.9+ MB\n"
     ]
    }
   ],
   "source": [
    "# Выводим информацию\n",
    "events.info()"
   ]
  },
  {
   "cell_type": "markdown",
   "metadata": {},
   "source": [
    "Полученный датафрейм `events` состоит из 22427 строк и 11 столбцов. Пропусков в данных нет. Типы данных не во всех столбцах представлены корректно, возможно изменим их при необходимости в будущем."
   ]
  },
  {
   "cell_type": "code",
   "execution_count": 7,
   "metadata": {},
   "outputs": [
    {
     "data": {
      "text/html": [
       "<div>\n",
       "<style scoped>\n",
       "    .dataframe tbody tr th:only-of-type {\n",
       "        vertical-align: middle;\n",
       "    }\n",
       "\n",
       "    .dataframe tbody tr th {\n",
       "        vertical-align: top;\n",
       "    }\n",
       "\n",
       "    .dataframe thead th {\n",
       "        text-align: right;\n",
       "    }\n",
       "</style>\n",
       "<table border=\"1\" class=\"dataframe\">\n",
       "  <thead>\n",
       "    <tr style=\"text-align: right;\">\n",
       "      <th></th>\n",
       "      <th>data</th>\n",
       "      <th>nominal</th>\n",
       "      <th>curs</th>\n",
       "      <th>cdx</th>\n",
       "    </tr>\n",
       "  </thead>\n",
       "  <tbody>\n",
       "    <tr>\n",
       "      <th>0</th>\n",
       "      <td>2024-01-10</td>\n",
       "      <td>100</td>\n",
       "      <td>19.9391</td>\n",
       "      <td>kzt</td>\n",
       "    </tr>\n",
       "    <tr>\n",
       "      <th>1</th>\n",
       "      <td>2024-01-11</td>\n",
       "      <td>100</td>\n",
       "      <td>19.7255</td>\n",
       "      <td>kzt</td>\n",
       "    </tr>\n",
       "    <tr>\n",
       "      <th>2</th>\n",
       "      <td>2024-01-12</td>\n",
       "      <td>100</td>\n",
       "      <td>19.5839</td>\n",
       "      <td>kzt</td>\n",
       "    </tr>\n",
       "    <tr>\n",
       "      <th>3</th>\n",
       "      <td>2024-01-13</td>\n",
       "      <td>100</td>\n",
       "      <td>19.4501</td>\n",
       "      <td>kzt</td>\n",
       "    </tr>\n",
       "    <tr>\n",
       "      <th>4</th>\n",
       "      <td>2024-01-14</td>\n",
       "      <td>100</td>\n",
       "      <td>19.4501</td>\n",
       "      <td>kzt</td>\n",
       "    </tr>\n",
       "  </tbody>\n",
       "</table>\n",
       "</div>"
      ],
      "text/plain": [
       "         data  nominal     curs  cdx\n",
       "0  2024-01-10      100  19.9391  kzt\n",
       "1  2024-01-11      100  19.7255  kzt\n",
       "2  2024-01-12      100  19.5839  kzt\n",
       "3  2024-01-13      100  19.4501  kzt\n",
       "4  2024-01-14      100  19.4501  kzt"
      ]
     },
     "execution_count": 7,
     "metadata": {},
     "output_type": "execute_result"
    }
   ],
   "source": [
    "# Выводим первые строки\n",
    "tenge.head()"
   ]
  },
  {
   "cell_type": "code",
   "execution_count": 8,
   "metadata": {},
   "outputs": [
    {
     "name": "stdout",
     "output_type": "stream",
     "text": [
      "<class 'pandas.core.frame.DataFrame'>\n",
      "RangeIndex: 357 entries, 0 to 356\n",
      "Data columns (total 4 columns):\n",
      " #   Column   Non-Null Count  Dtype  \n",
      "---  ------   --------------  -----  \n",
      " 0   data     357 non-null    object \n",
      " 1   nominal  357 non-null    int64  \n",
      " 2   curs     357 non-null    float64\n",
      " 3   cdx      357 non-null    object \n",
      "dtypes: float64(1), int64(1), object(2)\n",
      "memory usage: 11.3+ KB\n"
     ]
    }
   ],
   "source": [
    "# Выводим информацию\n",
    "tenge.info()"
   ]
  },
  {
   "cell_type": "markdown",
   "metadata": {},
   "source": [
    "Полученный датафрейм `tenge` состоит из 357 строк и 4 столбцов. Пропусков в данных нет. Типы данных представлены не корректно в поле `data`, возможно приведем в будущем к формату `datetime` при необходимости."
   ]
  },
  {
   "cell_type": "markdown",
   "metadata": {},
   "source": [
    "### Промежуточный вывод\n",
    "\n",
    "Первичное знакомство показывает, что данные соответствуют описанию и выглядят корректными. Типы данных во многих столбцах представлены не корректно, возможно изменим нужные столбцы на этапе предобработки. В датасетах `events` и `tenge` нет пропущенных значений, а в датасете `orders` пропущенные значения есть только в поле `days_since_prev` как и ожидалось."
   ]
  },
  {
   "cell_type": "markdown",
   "metadata": {},
   "source": [
    "### Создаем единый датафрейм"
   ]
  },
  {
   "cell_type": "code",
   "execution_count": 9,
   "metadata": {},
   "outputs": [],
   "source": [
    "# Объединяем датафреймы orders и events\n",
    "dfs = pd.merge(orders, events, on='event_id', how='left')"
   ]
  },
  {
   "cell_type": "code",
   "execution_count": 10,
   "metadata": {},
   "outputs": [],
   "source": [
    "# Объединяем датафреймы dfs и tenge\n",
    "df = pd.merge(dfs, tenge, left_on='created_dt_msk', right_on='data', how='left')"
   ]
  },
  {
   "cell_type": "code",
   "execution_count": 11,
   "metadata": {},
   "outputs": [
    {
     "data": {
      "text/html": [
       "<style type=\"text/css\">\n",
       "</style>\n",
       "<table id=\"T_e788e_\">\n",
       "  <thead>\n",
       "    <tr>\n",
       "      <th class=\"blank level0\" >&nbsp;</th>\n",
       "      <th class=\"col_heading level0 col0\" >order_id</th>\n",
       "      <th class=\"col_heading level0 col1\" >user_id</th>\n",
       "      <th class=\"col_heading level0 col2\" >created_dt_msk</th>\n",
       "      <th class=\"col_heading level0 col3\" >created_ts_msk</th>\n",
       "      <th class=\"col_heading level0 col4\" >event_id</th>\n",
       "      <th class=\"col_heading level0 col5\" >cinema_circuit</th>\n",
       "      <th class=\"col_heading level0 col6\" >age_limit</th>\n",
       "      <th class=\"col_heading level0 col7\" >currency_code</th>\n",
       "      <th class=\"col_heading level0 col8\" >device_type_canonical</th>\n",
       "      <th class=\"col_heading level0 col9\" >revenue</th>\n",
       "      <th class=\"col_heading level0 col10\" >service_name</th>\n",
       "      <th class=\"col_heading level0 col11\" >tickets_count</th>\n",
       "      <th class=\"col_heading level0 col12\" >total</th>\n",
       "      <th class=\"col_heading level0 col13\" >days_since_prev</th>\n",
       "      <th class=\"col_heading level0 col14\" >event_name</th>\n",
       "      <th class=\"col_heading level0 col15\" >event_type_description</th>\n",
       "      <th class=\"col_heading level0 col16\" >event_type_main</th>\n",
       "      <th class=\"col_heading level0 col17\" >organizers</th>\n",
       "      <th class=\"col_heading level0 col18\" >region_name</th>\n",
       "      <th class=\"col_heading level0 col19\" >city_name</th>\n",
       "      <th class=\"col_heading level0 col20\" >city_id</th>\n",
       "      <th class=\"col_heading level0 col21\" >venue_id</th>\n",
       "      <th class=\"col_heading level0 col22\" >venue_name</th>\n",
       "      <th class=\"col_heading level0 col23\" >venue_address</th>\n",
       "      <th class=\"col_heading level0 col24\" >data</th>\n",
       "      <th class=\"col_heading level0 col25\" >nominal</th>\n",
       "      <th class=\"col_heading level0 col26\" >curs</th>\n",
       "      <th class=\"col_heading level0 col27\" >cdx</th>\n",
       "    </tr>\n",
       "  </thead>\n",
       "  <tbody>\n",
       "    <tr>\n",
       "      <th id=\"T_e788e_level0_row0\" class=\"row_heading level0 row0\" >0</th>\n",
       "      <td id=\"T_e788e_row0_col0\" class=\"data row0 col0\" >4359165</td>\n",
       "      <td id=\"T_e788e_row0_col1\" class=\"data row0 col1\" >0002849b70a3ce2</td>\n",
       "      <td id=\"T_e788e_row0_col2\" class=\"data row0 col2\" >2024-08-20</td>\n",
       "      <td id=\"T_e788e_row0_col3\" class=\"data row0 col3\" >2024-08-20 16:08:03</td>\n",
       "      <td id=\"T_e788e_row0_col4\" class=\"data row0 col4\" >169230</td>\n",
       "      <td id=\"T_e788e_row0_col5\" class=\"data row0 col5\" >нет</td>\n",
       "      <td id=\"T_e788e_row0_col6\" class=\"data row0 col6\" >16</td>\n",
       "      <td id=\"T_e788e_row0_col7\" class=\"data row0 col7\" >rub</td>\n",
       "      <td id=\"T_e788e_row0_col8\" class=\"data row0 col8\" >mobile</td>\n",
       "      <td id=\"T_e788e_row0_col9\" class=\"data row0 col9\" >1521.940000</td>\n",
       "      <td id=\"T_e788e_row0_col10\" class=\"data row0 col10\" >Край билетов</td>\n",
       "      <td id=\"T_e788e_row0_col11\" class=\"data row0 col11\" >4</td>\n",
       "      <td id=\"T_e788e_row0_col12\" class=\"data row0 col12\" >10870.990000</td>\n",
       "      <td id=\"T_e788e_row0_col13\" class=\"data row0 col13\" >nan</td>\n",
       "      <td id=\"T_e788e_row0_col14\" class=\"data row0 col14\" >f0f7b271-04eb-4af6-bcb8-8f05cf46d6ad</td>\n",
       "      <td id=\"T_e788e_row0_col15\" class=\"data row0 col15\" >спектакль</td>\n",
       "      <td id=\"T_e788e_row0_col16\" class=\"data row0 col16\" >театр</td>\n",
       "      <td id=\"T_e788e_row0_col17\" class=\"data row0 col17\" >№3322</td>\n",
       "      <td id=\"T_e788e_row0_col18\" class=\"data row0 col18\" >Каменевский регион</td>\n",
       "      <td id=\"T_e788e_row0_col19\" class=\"data row0 col19\" >Глиногорск</td>\n",
       "      <td id=\"T_e788e_row0_col20\" class=\"data row0 col20\" >213.000000</td>\n",
       "      <td id=\"T_e788e_row0_col21\" class=\"data row0 col21\" >3972.000000</td>\n",
       "      <td id=\"T_e788e_row0_col22\" class=\"data row0 col22\" >Сценический центр \"Деталь\" Групп</td>\n",
       "      <td id=\"T_e788e_row0_col23\" class=\"data row0 col23\" >алл. Машиностроителей, д. 19 стр. 6</td>\n",
       "      <td id=\"T_e788e_row0_col24\" class=\"data row0 col24\" >2024-08-20</td>\n",
       "      <td id=\"T_e788e_row0_col25\" class=\"data row0 col25\" >100</td>\n",
       "      <td id=\"T_e788e_row0_col26\" class=\"data row0 col26\" >18.697200</td>\n",
       "      <td id=\"T_e788e_row0_col27\" class=\"data row0 col27\" >kzt</td>\n",
       "    </tr>\n",
       "    <tr>\n",
       "      <th id=\"T_e788e_level0_row1\" class=\"row_heading level0 row1\" >1</th>\n",
       "      <td id=\"T_e788e_row1_col0\" class=\"data row1 col0\" >7965605</td>\n",
       "      <td id=\"T_e788e_row1_col1\" class=\"data row1 col1\" >0005ca5e93f2cf4</td>\n",
       "      <td id=\"T_e788e_row1_col2\" class=\"data row1 col2\" >2024-07-23</td>\n",
       "      <td id=\"T_e788e_row1_col3\" class=\"data row1 col3\" >2024-07-23 18:36:24</td>\n",
       "      <td id=\"T_e788e_row1_col4\" class=\"data row1 col4\" >237325</td>\n",
       "      <td id=\"T_e788e_row1_col5\" class=\"data row1 col5\" >нет</td>\n",
       "      <td id=\"T_e788e_row1_col6\" class=\"data row1 col6\" >0</td>\n",
       "      <td id=\"T_e788e_row1_col7\" class=\"data row1 col7\" >rub</td>\n",
       "      <td id=\"T_e788e_row1_col8\" class=\"data row1 col8\" >mobile</td>\n",
       "      <td id=\"T_e788e_row1_col9\" class=\"data row1 col9\" >289.450000</td>\n",
       "      <td id=\"T_e788e_row1_col10\" class=\"data row1 col10\" >Мой билет</td>\n",
       "      <td id=\"T_e788e_row1_col11\" class=\"data row1 col11\" >2</td>\n",
       "      <td id=\"T_e788e_row1_col12\" class=\"data row1 col12\" >2067.510000</td>\n",
       "      <td id=\"T_e788e_row1_col13\" class=\"data row1 col13\" >nan</td>\n",
       "      <td id=\"T_e788e_row1_col14\" class=\"data row1 col14\" >40efeb04-81b7-4135-b41f-708ff00cc64c</td>\n",
       "      <td id=\"T_e788e_row1_col15\" class=\"data row1 col15\" >событие</td>\n",
       "      <td id=\"T_e788e_row1_col16\" class=\"data row1 col16\" >выставки</td>\n",
       "      <td id=\"T_e788e_row1_col17\" class=\"data row1 col17\" >№4850</td>\n",
       "      <td id=\"T_e788e_row1_col18\" class=\"data row1 col18\" >Каменевский регион</td>\n",
       "      <td id=\"T_e788e_row1_col19\" class=\"data row1 col19\" >Глиногорск</td>\n",
       "      <td id=\"T_e788e_row1_col20\" class=\"data row1 col20\" >213.000000</td>\n",
       "      <td id=\"T_e788e_row1_col21\" class=\"data row1 col21\" >2941.000000</td>\n",
       "      <td id=\"T_e788e_row1_col22\" class=\"data row1 col22\" >Музыкальная школа для детей \"Аккаунт\" Лтд</td>\n",
       "      <td id=\"T_e788e_row1_col23\" class=\"data row1 col23\" >алл. Шмидта, д. 9 стр. 4</td>\n",
       "      <td id=\"T_e788e_row1_col24\" class=\"data row1 col24\" >2024-07-23</td>\n",
       "      <td id=\"T_e788e_row1_col25\" class=\"data row1 col25\" >100</td>\n",
       "      <td id=\"T_e788e_row1_col26\" class=\"data row1 col26\" >18.341900</td>\n",
       "      <td id=\"T_e788e_row1_col27\" class=\"data row1 col27\" >kzt</td>\n",
       "    </tr>\n",
       "    <tr>\n",
       "      <th id=\"T_e788e_level0_row2\" class=\"row_heading level0 row2\" >2</th>\n",
       "      <td id=\"T_e788e_row2_col0\" class=\"data row2 col0\" >7292370</td>\n",
       "      <td id=\"T_e788e_row2_col1\" class=\"data row2 col1\" >0005ca5e93f2cf4</td>\n",
       "      <td id=\"T_e788e_row2_col2\" class=\"data row2 col2\" >2024-10-06</td>\n",
       "      <td id=\"T_e788e_row2_col3\" class=\"data row2 col3\" >2024-10-06 13:56:02</td>\n",
       "      <td id=\"T_e788e_row2_col4\" class=\"data row2 col4\" >578454</td>\n",
       "      <td id=\"T_e788e_row2_col5\" class=\"data row2 col5\" >нет</td>\n",
       "      <td id=\"T_e788e_row2_col6\" class=\"data row2 col6\" >0</td>\n",
       "      <td id=\"T_e788e_row2_col7\" class=\"data row2 col7\" >rub</td>\n",
       "      <td id=\"T_e788e_row2_col8\" class=\"data row2 col8\" >mobile</td>\n",
       "      <td id=\"T_e788e_row2_col9\" class=\"data row2 col9\" >1258.570000</td>\n",
       "      <td id=\"T_e788e_row2_col10\" class=\"data row2 col10\" >За билетом!</td>\n",
       "      <td id=\"T_e788e_row2_col11\" class=\"data row2 col11\" >4</td>\n",
       "      <td id=\"T_e788e_row2_col12\" class=\"data row2 col12\" >13984.160000</td>\n",
       "      <td id=\"T_e788e_row2_col13\" class=\"data row2 col13\" >75.000000</td>\n",
       "      <td id=\"T_e788e_row2_col14\" class=\"data row2 col14\" >01f3fb7b-ed07-4f94-b1d3-9a2e1ee5a8ca</td>\n",
       "      <td id=\"T_e788e_row2_col15\" class=\"data row2 col15\" >цирковое шоу</td>\n",
       "      <td id=\"T_e788e_row2_col16\" class=\"data row2 col16\" >другое</td>\n",
       "      <td id=\"T_e788e_row2_col17\" class=\"data row2 col17\" >№1540</td>\n",
       "      <td id=\"T_e788e_row2_col18\" class=\"data row2 col18\" >Каменевский регион</td>\n",
       "      <td id=\"T_e788e_row2_col19\" class=\"data row2 col19\" >Глиногорск</td>\n",
       "      <td id=\"T_e788e_row2_col20\" class=\"data row2 col20\" >213.000000</td>\n",
       "      <td id=\"T_e788e_row2_col21\" class=\"data row2 col21\" >4507.000000</td>\n",
       "      <td id=\"T_e788e_row2_col22\" class=\"data row2 col22\" >Училище искусств \"Нирвана\" Инк</td>\n",
       "      <td id=\"T_e788e_row2_col23\" class=\"data row2 col23\" >алл. Юбилейная, д. 5/6</td>\n",
       "      <td id=\"T_e788e_row2_col24\" class=\"data row2 col24\" >2024-10-06</td>\n",
       "      <td id=\"T_e788e_row2_col25\" class=\"data row2 col25\" >100</td>\n",
       "      <td id=\"T_e788e_row2_col26\" class=\"data row2 col26\" >19.647500</td>\n",
       "      <td id=\"T_e788e_row2_col27\" class=\"data row2 col27\" >kzt</td>\n",
       "    </tr>\n",
       "    <tr>\n",
       "      <th id=\"T_e788e_level0_row3\" class=\"row_heading level0 row3\" >3</th>\n",
       "      <td id=\"T_e788e_row3_col0\" class=\"data row3 col0\" >1139875</td>\n",
       "      <td id=\"T_e788e_row3_col1\" class=\"data row3 col1\" >000898990054619</td>\n",
       "      <td id=\"T_e788e_row3_col2\" class=\"data row3 col2\" >2024-07-13</td>\n",
       "      <td id=\"T_e788e_row3_col3\" class=\"data row3 col3\" >2024-07-13 19:40:48</td>\n",
       "      <td id=\"T_e788e_row3_col4\" class=\"data row3 col4\" >387271</td>\n",
       "      <td id=\"T_e788e_row3_col5\" class=\"data row3 col5\" >нет</td>\n",
       "      <td id=\"T_e788e_row3_col6\" class=\"data row3 col6\" >0</td>\n",
       "      <td id=\"T_e788e_row3_col7\" class=\"data row3 col7\" >rub</td>\n",
       "      <td id=\"T_e788e_row3_col8\" class=\"data row3 col8\" >mobile</td>\n",
       "      <td id=\"T_e788e_row3_col9\" class=\"data row3 col9\" >8.490000</td>\n",
       "      <td id=\"T_e788e_row3_col10\" class=\"data row3 col10\" >Лови билет!</td>\n",
       "      <td id=\"T_e788e_row3_col11\" class=\"data row3 col11\" >2</td>\n",
       "      <td id=\"T_e788e_row3_col12\" class=\"data row3 col12\" >212.280000</td>\n",
       "      <td id=\"T_e788e_row3_col13\" class=\"data row3 col13\" >nan</td>\n",
       "      <td id=\"T_e788e_row3_col14\" class=\"data row3 col14\" >2f638715-8844-466c-b43f-378a627c419f</td>\n",
       "      <td id=\"T_e788e_row3_col15\" class=\"data row3 col15\" >выставка</td>\n",
       "      <td id=\"T_e788e_row3_col16\" class=\"data row3 col16\" >другое</td>\n",
       "      <td id=\"T_e788e_row3_col17\" class=\"data row3 col17\" >№5049</td>\n",
       "      <td id=\"T_e788e_row3_col18\" class=\"data row3 col18\" >Североярская область</td>\n",
       "      <td id=\"T_e788e_row3_col19\" class=\"data row3 col19\" >Озёрск</td>\n",
       "      <td id=\"T_e788e_row3_col20\" class=\"data row3 col20\" >2.000000</td>\n",
       "      <td id=\"T_e788e_row3_col21\" class=\"data row3 col21\" >3574.000000</td>\n",
       "      <td id=\"T_e788e_row3_col22\" class=\"data row3 col22\" >Театр альтернативного искусства \"Ода\" Лимитед</td>\n",
       "      <td id=\"T_e788e_row3_col23\" class=\"data row3 col23\" >алл. Есенина, д. 243 к. 3/8</td>\n",
       "      <td id=\"T_e788e_row3_col24\" class=\"data row3 col24\" >2024-07-13</td>\n",
       "      <td id=\"T_e788e_row3_col25\" class=\"data row3 col25\" >100</td>\n",
       "      <td id=\"T_e788e_row3_col26\" class=\"data row3 col26\" >18.501000</td>\n",
       "      <td id=\"T_e788e_row3_col27\" class=\"data row3 col27\" >kzt</td>\n",
       "    </tr>\n",
       "    <tr>\n",
       "      <th id=\"T_e788e_level0_row4\" class=\"row_heading level0 row4\" >4</th>\n",
       "      <td id=\"T_e788e_row4_col0\" class=\"data row4 col0\" >972400</td>\n",
       "      <td id=\"T_e788e_row4_col1\" class=\"data row4 col1\" >000898990054619</td>\n",
       "      <td id=\"T_e788e_row4_col2\" class=\"data row4 col2\" >2024-10-04</td>\n",
       "      <td id=\"T_e788e_row4_col3\" class=\"data row4 col3\" >2024-10-04 22:33:15</td>\n",
       "      <td id=\"T_e788e_row4_col4\" class=\"data row4 col4\" >509453</td>\n",
       "      <td id=\"T_e788e_row4_col5\" class=\"data row4 col5\" >нет</td>\n",
       "      <td id=\"T_e788e_row4_col6\" class=\"data row4 col6\" >18</td>\n",
       "      <td id=\"T_e788e_row4_col7\" class=\"data row4 col7\" >rub</td>\n",
       "      <td id=\"T_e788e_row4_col8\" class=\"data row4 col8\" >mobile</td>\n",
       "      <td id=\"T_e788e_row4_col9\" class=\"data row4 col9\" >1390.410000</td>\n",
       "      <td id=\"T_e788e_row4_col10\" class=\"data row4 col10\" >Билеты без проблем</td>\n",
       "      <td id=\"T_e788e_row4_col11\" class=\"data row4 col11\" >3</td>\n",
       "      <td id=\"T_e788e_row4_col12\" class=\"data row4 col12\" >10695.430000</td>\n",
       "      <td id=\"T_e788e_row4_col13\" class=\"data row4 col13\" >83.000000</td>\n",
       "      <td id=\"T_e788e_row4_col14\" class=\"data row4 col14\" >10d805d3-9809-4d8a-834e-225b7d03f95d</td>\n",
       "      <td id=\"T_e788e_row4_col15\" class=\"data row4 col15\" >шоу</td>\n",
       "      <td id=\"T_e788e_row4_col16\" class=\"data row4 col16\" >стендап</td>\n",
       "      <td id=\"T_e788e_row4_col17\" class=\"data row4 col17\" >№832</td>\n",
       "      <td id=\"T_e788e_row4_col18\" class=\"data row4 col18\" >Озернинский край</td>\n",
       "      <td id=\"T_e788e_row4_col19\" class=\"data row4 col19\" >Родниковецк</td>\n",
       "      <td id=\"T_e788e_row4_col20\" class=\"data row4 col20\" >240.000000</td>\n",
       "      <td id=\"T_e788e_row4_col21\" class=\"data row4 col21\" >1896.000000</td>\n",
       "      <td id=\"T_e788e_row4_col22\" class=\"data row4 col22\" >Театр кукол \"Огни\" Инкорпорэйтед</td>\n",
       "      <td id=\"T_e788e_row4_col23\" class=\"data row4 col23\" >ш. Набережное, д. 595 стр. 8</td>\n",
       "      <td id=\"T_e788e_row4_col24\" class=\"data row4 col24\" >2024-10-04</td>\n",
       "      <td id=\"T_e788e_row4_col25\" class=\"data row4 col25\" >100</td>\n",
       "      <td id=\"T_e788e_row4_col26\" class=\"data row4 col26\" >19.664800</td>\n",
       "      <td id=\"T_e788e_row4_col27\" class=\"data row4 col27\" >kzt</td>\n",
       "    </tr>\n",
       "  </tbody>\n",
       "</table>\n"
      ],
      "text/plain": [
       "<pandas.io.formats.style.Styler at 0x2ad50e61a90>"
      ]
     },
     "execution_count": 11,
     "metadata": {},
     "output_type": "execute_result"
    }
   ],
   "source": [
    "# ВЫводим первые строки\n",
    "df.head().style"
   ]
  },
  {
   "cell_type": "code",
   "execution_count": 12,
   "metadata": {},
   "outputs": [],
   "source": [
    "# Приводим столбцы с категориальными значениями к типу category\n",
    "df[['cinema_circuit', 'age_limit', 'currency_code', 'device_type_canonical', 'service_name', 'event_type_description', \n",
    "    'event_type_main', 'region_name', 'city_name', 'venue_name', 'venue_address']] = df[['cinema_circuit', 'age_limit', 'currency_code', 'device_type_canonical', 'service_name', 'event_type_description', \n",
    "    'event_type_main', 'region_name', 'city_name', 'venue_name', 'venue_address']].astype('category')"
   ]
  },
  {
   "cell_type": "code",
   "execution_count": 13,
   "metadata": {},
   "outputs": [
    {
     "name": "stdout",
     "output_type": "stream",
     "text": [
      "<class 'pandas.core.frame.DataFrame'>\n",
      "Int64Index: 290849 entries, 0 to 290848\n",
      "Data columns (total 28 columns):\n",
      " #   Column                  Non-Null Count   Dtype   \n",
      "---  ------                  --------------   -----   \n",
      " 0   order_id                290849 non-null  int64   \n",
      " 1   user_id                 290849 non-null  object  \n",
      " 2   created_dt_msk          290849 non-null  object  \n",
      " 3   created_ts_msk          290849 non-null  object  \n",
      " 4   event_id                290849 non-null  int64   \n",
      " 5   cinema_circuit          290849 non-null  category\n",
      " 6   age_limit               290849 non-null  category\n",
      " 7   currency_code           290849 non-null  category\n",
      " 8   device_type_canonical   290849 non-null  category\n",
      " 9   revenue                 290849 non-null  float64 \n",
      " 10  service_name            290849 non-null  category\n",
      " 11  tickets_count           290849 non-null  int64   \n",
      " 12  total                   290849 non-null  float64 \n",
      " 13  days_since_prev         268909 non-null  float64 \n",
      " 14  event_name              290611 non-null  object  \n",
      " 15  event_type_description  290611 non-null  category\n",
      " 16  event_type_main         290611 non-null  category\n",
      " 17  organizers              290611 non-null  object  \n",
      " 18  region_name             290611 non-null  category\n",
      " 19  city_name               290611 non-null  category\n",
      " 20  city_id                 290611 non-null  float64 \n",
      " 21  venue_id                290611 non-null  float64 \n",
      " 22  venue_name              290611 non-null  category\n",
      " 23  venue_address           290611 non-null  category\n",
      " 24  data                    290849 non-null  object  \n",
      " 25  nominal                 290849 non-null  int64   \n",
      " 26  curs                    290849 non-null  float64 \n",
      " 27  cdx                     290849 non-null  object  \n",
      "dtypes: category(11), float64(6), int64(4), object(7)\n",
      "memory usage: 44.1+ MB\n"
     ]
    }
   ],
   "source": [
    "# Выводим информацию\n",
    "df.info()"
   ]
  },
  {
   "cell_type": "code",
   "execution_count": 14,
   "metadata": {},
   "outputs": [
    {
     "name": "stdout",
     "output_type": "stream",
     "text": [
      "Размер orders: 290849\n",
      "Размер events: 22427\n",
      "Размер tenge: 357\n",
      "Размер dfs: 290849\n",
      "Размер df: 290849\n"
     ]
    }
   ],
   "source": [
    "# Проверяем размеры датасетов до объединения и после\n",
    "print(\"Размер orders:\", len(orders))\n",
    "print(\"Размер events:\", len(events))\n",
    "print(\"Размер tenge:\", len(tenge))\n",
    "print(\"Размер dfs:\", len(dfs))\n",
    "print(\"Размер df:\", len(df))\n"
   ]
  },
  {
   "cell_type": "markdown",
   "metadata": {},
   "source": [
    "Размер датасета после объединения соответсвует ожидаемому, значит объединение прошло успешно и проблем с данными нет."
   ]
  },
  {
   "cell_type": "markdown",
   "metadata": {},
   "source": [
    "## 2. Предобработка данных"
   ]
  },
  {
   "cell_type": "code",
   "execution_count": 15,
   "metadata": {},
   "outputs": [
    {
     "name": "stdout",
     "output_type": "stream",
     "text": [
      "Уникальные значения в столбце age_limit:\n",
      "[0, 6, 12, 16, 18]\n",
      "Categories (5, int64): [0, 6, 12, 16, 18]\n",
      "\n",
      "Уникальные значения в столбце currency_code:\n",
      "['kzt', 'rub']\n",
      "Categories (2, object): ['kzt', 'rub']\n",
      "\n",
      "Уникальные значения в столбце device_type_canonical:\n",
      "['desktop', 'mobile']\n",
      "Categories (2, object): ['desktop', 'mobile']\n",
      "\n",
      "Уникальные значения в столбце event_type_main:\n",
      "['выставки', 'другое', 'концерты', 'спорт', 'стендап', 'театр', 'ёлки', NaN]\n",
      "Categories (7, object): ['выставки', 'другое', 'концерты', 'спорт', 'стендап', 'театр', 'ёлки']\n",
      "\n"
     ]
    }
   ],
   "source": [
    "# Проверяем нужные категориальные столбцы на неявные дубликаты\n",
    "for column in ['age_limit', 'currency_code', 'device_type_canonical', 'event_type_main']:\n",
    "    print(f'Уникальные значения в столбце {column}:')\n",
    "    print(df[column].sort_values().unique())\n",
    "    print()"
   ]
  },
  {
   "cell_type": "code",
   "execution_count": 16,
   "metadata": {},
   "outputs": [
    {
     "data": {
      "text/plain": [
       "42"
      ]
     },
     "execution_count": 16,
     "metadata": {},
     "output_type": "execute_result"
    }
   ],
   "source": [
    "# Проверяем на наличие дубликатов столбцы по всем основным признакам, кроме order_id\n",
    "df.duplicated(subset=['user_id', 'created_ts_msk', 'event_id', 'age_limit', 'currency_code', 'device_type_canonical', \n",
    "                      'revenue', 'service_name', 'total']).sum()"
   ]
  },
  {
   "cell_type": "code",
   "execution_count": 17,
   "metadata": {},
   "outputs": [],
   "source": [
    "# Удаляем обнаруженные дубликаты\n",
    "df = df.drop_duplicates(subset=['user_id', 'created_ts_msk', 'event_id', 'age_limit', 'currency_code', 'device_type_canonical',\n",
    "                                'revenue', 'service_name', 'total'], keep='first')"
   ]
  },
  {
   "cell_type": "markdown",
   "metadata": {},
   "source": [
    "Неявных дубликатов обнаружено и удалено 42 строки. Видим, что после соединения таблиц в поле `event_type_main` появилось значение `Nan`. Оставим как есть, удаление может повлиять на результат анализа."
   ]
  },
  {
   "cell_type": "code",
   "execution_count": 18,
   "metadata": {},
   "outputs": [
    {
     "name": "stdout",
     "output_type": "stream",
     "text": [
      "\n",
      "Column: age_limit\n",
      "Unique values: [16, 0, 18, 12, 6]\n",
      "Categories (5, int64): [0, 6, 12, 16, 18]\n",
      "Missing values count: 0\n",
      "Value counts:\n",
      "16    78573\n",
      "12    62551\n",
      "0     61475\n",
      "6     52164\n",
      "18    36044\n",
      "Name: age_limit, dtype: int64 \n",
      "\n",
      "\n",
      "Column: currency_code\n",
      "Unique values: ['rub', 'kzt']\n",
      "Categories (2, object): ['kzt', 'rub']\n",
      "Missing values count: 0\n",
      "Value counts:\n",
      "rub    285739\n",
      "kzt      5068\n",
      "Name: currency_code, dtype: int64 \n",
      "\n",
      "\n",
      "Column: device_type_canonical\n",
      "Unique values: ['mobile', 'desktop']\n",
      "Categories (2, object): ['desktop', 'mobile']\n",
      "Missing values count: 0\n",
      "Value counts:\n",
      "mobile     232647\n",
      "desktop     58160\n",
      "Name: device_type_canonical, dtype: int64 \n",
      "\n",
      "\n",
      "Column: service_name\n",
      "Unique values: ['Край билетов', 'Мой билет', 'За билетом!', 'Лови билет!', 'Билеты без проблем', ..., 'Цвет и билет', 'Зе Бест!', 'Тех билет', 'Лимоны', 'Билеты в интернете']\n",
      "Length: 36\n",
      "Categories (36, object): ['Crazy ticket!', 'Show_ticket', 'Билет по телефону', 'Билеты без проблем', ..., 'Тех билет', 'Цвет и билет', 'Шоу начинается!', 'Яблоко']\n",
      "Missing values count: 0\n",
      "Value counts:\n",
      "Билеты без проблем        63691\n",
      "Лови билет!               41120\n",
      "Билеты в руки             40357\n",
      "Мой билет                 34839\n",
      "Облачко                   26642\n",
      "Лучшие билеты             17793\n",
      "Весь в билетах            16848\n",
      "Прачечная                 10273\n",
      "Край билетов               6207\n",
      "Тебе билет!                5227\n",
      "Яблоко                     5039\n",
      "Дом культуры               4502\n",
      "За билетом!                2864\n",
      "Городской дом культуры     2733\n",
      "Show_ticket                2200\n",
      "Мир касс                   2166\n",
      "Быстробилет                2002\n",
      "Выступления.ру             1616\n",
      "Восьмёрка                  1118\n",
      "Crazy ticket!               790\n",
      "Росбилет                    539\n",
      "Шоу начинается!             499\n",
      "Быстрый кассир              381\n",
      "Радио ticket                376\n",
      "Телебилет                   321\n",
      "КарандашРУ                  133\n",
      "Реестр                      125\n",
      "Билет по телефону            85\n",
      "Вперёд!                      80\n",
      "Дырокол                      74\n",
      "Кино билет                   67\n",
      "Цвет и билет                 61\n",
      "Тех билет                    22\n",
      "Лимоны                        8\n",
      "Зе Бест!                      5\n",
      "Билеты в интернете            4\n",
      "Name: service_name, dtype: int64 \n",
      "\n"
     ]
    }
   ],
   "source": [
    "# Анализ категориальных значений\n",
    "for column in ['age_limit', 'currency_code', 'device_type_canonical', 'service_name']:\n",
    "    print(f\"\\nColumn: {column}\")\n",
    "    print(\"Unique values:\", df[column].unique())\n",
    "    print(\"Missing values count:\", df[column].isna().sum())\n",
    "    print(\"Value counts:\")\n",
    "    print(df[column].value_counts(dropna=False), \"\\n\")"
   ]
  },
  {
   "cell_type": "code",
   "execution_count": 19,
   "metadata": {},
   "outputs": [
    {
     "data": {
      "text/plain": [
       "0"
      ]
     },
     "execution_count": 19,
     "metadata": {},
     "output_type": "execute_result"
    }
   ],
   "source": [
    "# Проверяем данные на явные дубликаты\n",
    "df.duplicated().sum()"
   ]
  },
  {
   "cell_type": "code",
   "execution_count": 20,
   "metadata": {},
   "outputs": [],
   "source": [
    "# Приводим столбцы с датой created_dt_msk, created_ts_msk, data к формату datetime\n",
    "df[['created_dt_msk', 'created_ts_msk', 'data']] = df[['created_dt_msk', 'created_ts_msk', 'data']].apply(pd.to_datetime)"
   ]
  },
  {
   "cell_type": "code",
   "execution_count": 21,
   "metadata": {},
   "outputs": [
    {
     "name": "stdout",
     "output_type": "stream",
     "text": [
      "<class 'pandas.core.frame.DataFrame'>\n",
      "Int64Index: 290807 entries, 0 to 290848\n",
      "Data columns (total 28 columns):\n",
      " #   Column                  Non-Null Count   Dtype         \n",
      "---  ------                  --------------   -----         \n",
      " 0   order_id                290807 non-null  int64         \n",
      " 1   user_id                 290807 non-null  object        \n",
      " 2   created_dt_msk          290807 non-null  datetime64[ns]\n",
      " 3   created_ts_msk          290807 non-null  datetime64[ns]\n",
      " 4   event_id                290807 non-null  int64         \n",
      " 5   cinema_circuit          290807 non-null  category      \n",
      " 6   age_limit               290807 non-null  category      \n",
      " 7   currency_code           290807 non-null  category      \n",
      " 8   device_type_canonical   290807 non-null  category      \n",
      " 9   revenue                 290807 non-null  float64       \n",
      " 10  service_name            290807 non-null  category      \n",
      " 11  tickets_count           290807 non-null  int64         \n",
      " 12  total                   290807 non-null  float64       \n",
      " 13  days_since_prev         268867 non-null  float64       \n",
      " 14  event_name              290569 non-null  object        \n",
      " 15  event_type_description  290569 non-null  category      \n",
      " 16  event_type_main         290569 non-null  category      \n",
      " 17  organizers              290569 non-null  object        \n",
      " 18  region_name             290569 non-null  category      \n",
      " 19  city_name               290569 non-null  category      \n",
      " 20  city_id                 290569 non-null  float64       \n",
      " 21  venue_id                290569 non-null  float64       \n",
      " 22  venue_name              290569 non-null  category      \n",
      " 23  venue_address           290569 non-null  category      \n",
      " 24  data                    290807 non-null  datetime64[ns]\n",
      " 25  nominal                 290807 non-null  int64         \n",
      " 26  curs                    290807 non-null  float64       \n",
      " 27  cdx                     290807 non-null  object        \n",
      "dtypes: category(11), datetime64[ns](3), float64(6), int64(4), object(4)\n",
      "memory usage: 44.1+ MB\n"
     ]
    }
   ],
   "source": [
    "# Выводим информацию\n",
    "df.info()"
   ]
  },
  {
   "cell_type": "markdown",
   "metadata": {},
   "source": [
    "### Создаем новые столбцы"
   ]
  },
  {
   "cell_type": "code",
   "execution_count": 22,
   "metadata": {},
   "outputs": [],
   "source": [
    "# Определяем функцию, которая создаст новый столбец с конверсией валюты в зависимости от наличия данных в другом столбце\n",
    "def cur(a, b, c):\n",
    "    if a == 'rub':\n",
    "        return b\n",
    "    else:\n",
    "        return b / 100 * c"
   ]
  },
  {
   "cell_type": "code",
   "execution_count": 23,
   "metadata": {},
   "outputs": [],
   "source": [
    "# Создаем новый столбец revenue_rub с выручкой в единой валюте\n",
    "df['revenue_rub'] = df.apply(lambda x: cur(x['currency_code'], x['revenue'], x['curs']), axis=1)"
   ]
  },
  {
   "cell_type": "code",
   "execution_count": 24,
   "metadata": {},
   "outputs": [
    {
     "data": {
      "text/html": [
       "<style type=\"text/css\">\n",
       "</style>\n",
       "<table id=\"T_c9bcf_\">\n",
       "  <thead>\n",
       "    <tr>\n",
       "      <th class=\"blank level0\" >&nbsp;</th>\n",
       "      <th class=\"col_heading level0 col0\" >order_id</th>\n",
       "      <th class=\"col_heading level0 col1\" >user_id</th>\n",
       "      <th class=\"col_heading level0 col2\" >created_dt_msk</th>\n",
       "      <th class=\"col_heading level0 col3\" >created_ts_msk</th>\n",
       "      <th class=\"col_heading level0 col4\" >event_id</th>\n",
       "      <th class=\"col_heading level0 col5\" >cinema_circuit</th>\n",
       "      <th class=\"col_heading level0 col6\" >age_limit</th>\n",
       "      <th class=\"col_heading level0 col7\" >currency_code</th>\n",
       "      <th class=\"col_heading level0 col8\" >device_type_canonical</th>\n",
       "      <th class=\"col_heading level0 col9\" >revenue</th>\n",
       "      <th class=\"col_heading level0 col10\" >service_name</th>\n",
       "      <th class=\"col_heading level0 col11\" >tickets_count</th>\n",
       "      <th class=\"col_heading level0 col12\" >total</th>\n",
       "      <th class=\"col_heading level0 col13\" >days_since_prev</th>\n",
       "      <th class=\"col_heading level0 col14\" >event_name</th>\n",
       "      <th class=\"col_heading level0 col15\" >event_type_description</th>\n",
       "      <th class=\"col_heading level0 col16\" >event_type_main</th>\n",
       "      <th class=\"col_heading level0 col17\" >organizers</th>\n",
       "      <th class=\"col_heading level0 col18\" >region_name</th>\n",
       "      <th class=\"col_heading level0 col19\" >city_name</th>\n",
       "      <th class=\"col_heading level0 col20\" >city_id</th>\n",
       "      <th class=\"col_heading level0 col21\" >venue_id</th>\n",
       "      <th class=\"col_heading level0 col22\" >venue_name</th>\n",
       "      <th class=\"col_heading level0 col23\" >venue_address</th>\n",
       "      <th class=\"col_heading level0 col24\" >data</th>\n",
       "      <th class=\"col_heading level0 col25\" >nominal</th>\n",
       "      <th class=\"col_heading level0 col26\" >curs</th>\n",
       "      <th class=\"col_heading level0 col27\" >cdx</th>\n",
       "      <th class=\"col_heading level0 col28\" >revenue_rub</th>\n",
       "    </tr>\n",
       "  </thead>\n",
       "  <tbody>\n",
       "    <tr>\n",
       "      <th id=\"T_c9bcf_level0_row0\" class=\"row_heading level0 row0\" >73</th>\n",
       "      <td id=\"T_c9bcf_row0_col0\" class=\"data row0 col0\" >7850214</td>\n",
       "      <td id=\"T_c9bcf_row0_col1\" class=\"data row0 col1\" >0033403583a55ed</td>\n",
       "      <td id=\"T_c9bcf_row0_col2\" class=\"data row0 col2\" >2024-09-17 00:00:00</td>\n",
       "      <td id=\"T_c9bcf_row0_col3\" class=\"data row0 col3\" >2024-09-17 16:52:06</td>\n",
       "      <td id=\"T_c9bcf_row0_col4\" class=\"data row0 col4\" >559919</td>\n",
       "      <td id=\"T_c9bcf_row0_col5\" class=\"data row0 col5\" >нет</td>\n",
       "      <td id=\"T_c9bcf_row0_col6\" class=\"data row0 col6\" >6</td>\n",
       "      <td id=\"T_c9bcf_row0_col7\" class=\"data row0 col7\" >kzt</td>\n",
       "      <td id=\"T_c9bcf_row0_col8\" class=\"data row0 col8\" >mobile</td>\n",
       "      <td id=\"T_c9bcf_row0_col9\" class=\"data row0 col9\" >518.100000</td>\n",
       "      <td id=\"T_c9bcf_row0_col10\" class=\"data row0 col10\" >Билеты без проблем</td>\n",
       "      <td id=\"T_c9bcf_row0_col11\" class=\"data row0 col11\" >4</td>\n",
       "      <td id=\"T_c9bcf_row0_col12\" class=\"data row0 col12\" >10361.970000</td>\n",
       "      <td id=\"T_c9bcf_row0_col13\" class=\"data row0 col13\" >20.000000</td>\n",
       "      <td id=\"T_c9bcf_row0_col14\" class=\"data row0 col14\" >f5ec2467-ee48-42f3-89a0-a2d90d1d6fce</td>\n",
       "      <td id=\"T_c9bcf_row0_col15\" class=\"data row0 col15\" >событие</td>\n",
       "      <td id=\"T_c9bcf_row0_col16\" class=\"data row0 col16\" >другое</td>\n",
       "      <td id=\"T_c9bcf_row0_col17\" class=\"data row0 col17\" >№5088</td>\n",
       "      <td id=\"T_c9bcf_row0_col18\" class=\"data row0 col18\" >Верхоречная область</td>\n",
       "      <td id=\"T_c9bcf_row0_col19\" class=\"data row0 col19\" >Серебрянка</td>\n",
       "      <td id=\"T_c9bcf_row0_col20\" class=\"data row0 col20\" >163.000000</td>\n",
       "      <td id=\"T_c9bcf_row0_col21\" class=\"data row0 col21\" >1533.000000</td>\n",
       "      <td id=\"T_c9bcf_row0_col22\" class=\"data row0 col22\" >Клуб настольного тенниса \"Фазенда\" Инк</td>\n",
       "      <td id=\"T_c9bcf_row0_col23\" class=\"data row0 col23\" >пер. Семашко, д. 8/7 стр. 7</td>\n",
       "      <td id=\"T_c9bcf_row0_col24\" class=\"data row0 col24\" >2024-09-17 00:00:00</td>\n",
       "      <td id=\"T_c9bcf_row0_col25\" class=\"data row0 col25\" >100</td>\n",
       "      <td id=\"T_c9bcf_row0_col26\" class=\"data row0 col26\" >19.012500</td>\n",
       "      <td id=\"T_c9bcf_row0_col27\" class=\"data row0 col27\" >kzt</td>\n",
       "      <td id=\"T_c9bcf_row0_col28\" class=\"data row0 col28\" >98.503762</td>\n",
       "    </tr>\n",
       "    <tr>\n",
       "      <th id=\"T_c9bcf_level0_row1\" class=\"row_heading level0 row1\" >92</th>\n",
       "      <td id=\"T_c9bcf_row1_col0\" class=\"data row1 col0\" >8634925</td>\n",
       "      <td id=\"T_c9bcf_row1_col1\" class=\"data row1 col1\" >0040e12d70fae81</td>\n",
       "      <td id=\"T_c9bcf_row1_col2\" class=\"data row1 col2\" >2024-09-02 00:00:00</td>\n",
       "      <td id=\"T_c9bcf_row1_col3\" class=\"data row1 col3\" >2024-09-02 19:49:14</td>\n",
       "      <td id=\"T_c9bcf_row1_col4\" class=\"data row1 col4\" >559476</td>\n",
       "      <td id=\"T_c9bcf_row1_col5\" class=\"data row1 col5\" >нет</td>\n",
       "      <td id=\"T_c9bcf_row1_col6\" class=\"data row1 col6\" >6</td>\n",
       "      <td id=\"T_c9bcf_row1_col7\" class=\"data row1 col7\" >kzt</td>\n",
       "      <td id=\"T_c9bcf_row1_col8\" class=\"data row1 col8\" >desktop</td>\n",
       "      <td id=\"T_c9bcf_row1_col9\" class=\"data row1 col9\" >347.180000</td>\n",
       "      <td id=\"T_c9bcf_row1_col10\" class=\"data row1 col10\" >Билеты без проблем</td>\n",
       "      <td id=\"T_c9bcf_row1_col11\" class=\"data row1 col11\" >3</td>\n",
       "      <td id=\"T_c9bcf_row1_col12\" class=\"data row1 col12\" >6943.610000</td>\n",
       "      <td id=\"T_c9bcf_row1_col13\" class=\"data row1 col13\" >39.000000</td>\n",
       "      <td id=\"T_c9bcf_row1_col14\" class=\"data row1 col14\" >61ec7c0e-ea0c-4a3e-a63a-09cbe1bc6177</td>\n",
       "      <td id=\"T_c9bcf_row1_col15\" class=\"data row1 col15\" >событие</td>\n",
       "      <td id=\"T_c9bcf_row1_col16\" class=\"data row1 col16\" >другое</td>\n",
       "      <td id=\"T_c9bcf_row1_col17\" class=\"data row1 col17\" >№5088</td>\n",
       "      <td id=\"T_c9bcf_row1_col18\" class=\"data row1 col18\" >Верхоречная область</td>\n",
       "      <td id=\"T_c9bcf_row1_col19\" class=\"data row1 col19\" >Серебрянка</td>\n",
       "      <td id=\"T_c9bcf_row1_col20\" class=\"data row1 col20\" >163.000000</td>\n",
       "      <td id=\"T_c9bcf_row1_col21\" class=\"data row1 col21\" >1533.000000</td>\n",
       "      <td id=\"T_c9bcf_row1_col22\" class=\"data row1 col22\" >Клуб настольного тенниса \"Фазенда\" Инк</td>\n",
       "      <td id=\"T_c9bcf_row1_col23\" class=\"data row1 col23\" >пер. Семашко, д. 8/7 стр. 7</td>\n",
       "      <td id=\"T_c9bcf_row1_col24\" class=\"data row1 col24\" >2024-09-02 00:00:00</td>\n",
       "      <td id=\"T_c9bcf_row1_col25\" class=\"data row1 col25\" >100</td>\n",
       "      <td id=\"T_c9bcf_row1_col26\" class=\"data row1 col26\" >18.933000</td>\n",
       "      <td id=\"T_c9bcf_row1_col27\" class=\"data row1 col27\" >kzt</td>\n",
       "      <td id=\"T_c9bcf_row1_col28\" class=\"data row1 col28\" >65.731589</td>\n",
       "    </tr>\n",
       "    <tr>\n",
       "      <th id=\"T_c9bcf_level0_row2\" class=\"row_heading level0 row2\" >99</th>\n",
       "      <td id=\"T_c9bcf_row2_col0\" class=\"data row2 col0\" >7625522</td>\n",
       "      <td id=\"T_c9bcf_row2_col1\" class=\"data row2 col1\" >0054b38b2653e6e</td>\n",
       "      <td id=\"T_c9bcf_row2_col2\" class=\"data row2 col2\" >2024-09-09 00:00:00</td>\n",
       "      <td id=\"T_c9bcf_row2_col3\" class=\"data row2 col3\" >2024-09-09 18:06:04</td>\n",
       "      <td id=\"T_c9bcf_row2_col4\" class=\"data row2 col4\" >559582</td>\n",
       "      <td id=\"T_c9bcf_row2_col5\" class=\"data row2 col5\" >нет</td>\n",
       "      <td id=\"T_c9bcf_row2_col6\" class=\"data row2 col6\" >6</td>\n",
       "      <td id=\"T_c9bcf_row2_col7\" class=\"data row2 col7\" >kzt</td>\n",
       "      <td id=\"T_c9bcf_row2_col8\" class=\"data row2 col8\" >mobile</td>\n",
       "      <td id=\"T_c9bcf_row2_col9\" class=\"data row2 col9\" >328.770000</td>\n",
       "      <td id=\"T_c9bcf_row2_col10\" class=\"data row2 col10\" >Билеты без проблем</td>\n",
       "      <td id=\"T_c9bcf_row2_col11\" class=\"data row2 col11\" >4</td>\n",
       "      <td id=\"T_c9bcf_row2_col12\" class=\"data row2 col12\" >10959.070000</td>\n",
       "      <td id=\"T_c9bcf_row2_col13\" class=\"data row2 col13\" >nan</td>\n",
       "      <td id=\"T_c9bcf_row2_col14\" class=\"data row2 col14\" >524f434e-0381-4f47-9688-7c4e41961b65</td>\n",
       "      <td id=\"T_c9bcf_row2_col15\" class=\"data row2 col15\" >событие</td>\n",
       "      <td id=\"T_c9bcf_row2_col16\" class=\"data row2 col16\" >другое</td>\n",
       "      <td id=\"T_c9bcf_row2_col17\" class=\"data row2 col17\" >№5088</td>\n",
       "      <td id=\"T_c9bcf_row2_col18\" class=\"data row2 col18\" >Верхоречная область</td>\n",
       "      <td id=\"T_c9bcf_row2_col19\" class=\"data row2 col19\" >Серебрянка</td>\n",
       "      <td id=\"T_c9bcf_row2_col20\" class=\"data row2 col20\" >163.000000</td>\n",
       "      <td id=\"T_c9bcf_row2_col21\" class=\"data row2 col21\" >1533.000000</td>\n",
       "      <td id=\"T_c9bcf_row2_col22\" class=\"data row2 col22\" >Клуб настольного тенниса \"Фазенда\" Инк</td>\n",
       "      <td id=\"T_c9bcf_row2_col23\" class=\"data row2 col23\" >пер. Семашко, д. 8/7 стр. 7</td>\n",
       "      <td id=\"T_c9bcf_row2_col24\" class=\"data row2 col24\" >2024-09-09 00:00:00</td>\n",
       "      <td id=\"T_c9bcf_row2_col25\" class=\"data row2 col25\" >100</td>\n",
       "      <td id=\"T_c9bcf_row2_col26\" class=\"data row2 col26\" >18.599100</td>\n",
       "      <td id=\"T_c9bcf_row2_col27\" class=\"data row2 col27\" >kzt</td>\n",
       "      <td id=\"T_c9bcf_row2_col28\" class=\"data row2 col28\" >61.148261</td>\n",
       "    </tr>\n",
       "    <tr>\n",
       "      <th id=\"T_c9bcf_level0_row3\" class=\"row_heading level0 row3\" >289</th>\n",
       "      <td id=\"T_c9bcf_row3_col0\" class=\"data row3 col0\" >720419</td>\n",
       "      <td id=\"T_c9bcf_row3_col1\" class=\"data row3 col1\" >00f4f5244501ce6</td>\n",
       "      <td id=\"T_c9bcf_row3_col2\" class=\"data row3 col2\" >2024-06-11 00:00:00</td>\n",
       "      <td id=\"T_c9bcf_row3_col3\" class=\"data row3 col3\" >2024-06-11 20:15:57</td>\n",
       "      <td id=\"T_c9bcf_row3_col4\" class=\"data row3 col4\" >536826</td>\n",
       "      <td id=\"T_c9bcf_row3_col5\" class=\"data row3 col5\" >нет</td>\n",
       "      <td id=\"T_c9bcf_row3_col6\" class=\"data row3 col6\" >12</td>\n",
       "      <td id=\"T_c9bcf_row3_col7\" class=\"data row3 col7\" >kzt</td>\n",
       "      <td id=\"T_c9bcf_row3_col8\" class=\"data row3 col8\" >mobile</td>\n",
       "      <td id=\"T_c9bcf_row3_col9\" class=\"data row3 col9\" >22021.550000</td>\n",
       "      <td id=\"T_c9bcf_row3_col10\" class=\"data row3 col10\" >Мой билет</td>\n",
       "      <td id=\"T_c9bcf_row3_col11\" class=\"data row3 col11\" >5</td>\n",
       "      <td id=\"T_c9bcf_row3_col12\" class=\"data row3 col12\" >275269.400000</td>\n",
       "      <td id=\"T_c9bcf_row3_col13\" class=\"data row3 col13\" >nan</td>\n",
       "      <td id=\"T_c9bcf_row3_col14\" class=\"data row3 col14\" >76af4f88-c554-4e9e-9df4-1cc8aeec8959</td>\n",
       "      <td id=\"T_c9bcf_row3_col15\" class=\"data row3 col15\" >концерт</td>\n",
       "      <td id=\"T_c9bcf_row3_col16\" class=\"data row3 col16\" >концерты</td>\n",
       "      <td id=\"T_c9bcf_row3_col17\" class=\"data row3 col17\" >№4950</td>\n",
       "      <td id=\"T_c9bcf_row3_col18\" class=\"data row3 col18\" >Верхоречная область</td>\n",
       "      <td id=\"T_c9bcf_row3_col19\" class=\"data row3 col19\" >Серебрянка</td>\n",
       "      <td id=\"T_c9bcf_row3_col20\" class=\"data row3 col20\" >163.000000</td>\n",
       "      <td id=\"T_c9bcf_row3_col21\" class=\"data row3 col21\" >2066.000000</td>\n",
       "      <td id=\"T_c9bcf_row3_col22\" class=\"data row3 col22\" >Архитектурное бюро \"Секрет\" Инк</td>\n",
       "      <td id=\"T_c9bcf_row3_col23\" class=\"data row3 col23\" >пер. Проточный, д. 70 к. 881</td>\n",
       "      <td id=\"T_c9bcf_row3_col24\" class=\"data row3 col24\" >2024-06-11 00:00:00</td>\n",
       "      <td id=\"T_c9bcf_row3_col25\" class=\"data row3 col25\" >100</td>\n",
       "      <td id=\"T_c9bcf_row3_col26\" class=\"data row3 col26\" >19.892800</td>\n",
       "      <td id=\"T_c9bcf_row3_col27\" class=\"data row3 col27\" >kzt</td>\n",
       "      <td id=\"T_c9bcf_row3_col28\" class=\"data row3 col28\" >4380.702898</td>\n",
       "    </tr>\n",
       "    <tr>\n",
       "      <th id=\"T_c9bcf_level0_row4\" class=\"row_heading level0 row4\" >472</th>\n",
       "      <td id=\"T_c9bcf_row4_col0\" class=\"data row4 col0\" >5227657</td>\n",
       "      <td id=\"T_c9bcf_row4_col1\" class=\"data row4 col1\" >01370a0e9c1a7d5</td>\n",
       "      <td id=\"T_c9bcf_row4_col2\" class=\"data row4 col2\" >2024-06-04 00:00:00</td>\n",
       "      <td id=\"T_c9bcf_row4_col3\" class=\"data row4 col3\" >2024-06-04 13:28:17</td>\n",
       "      <td id=\"T_c9bcf_row4_col4\" class=\"data row4 col4\" >533803</td>\n",
       "      <td id=\"T_c9bcf_row4_col5\" class=\"data row4 col5\" >нет</td>\n",
       "      <td id=\"T_c9bcf_row4_col6\" class=\"data row4 col6\" >16</td>\n",
       "      <td id=\"T_c9bcf_row4_col7\" class=\"data row4 col7\" >kzt</td>\n",
       "      <td id=\"T_c9bcf_row4_col8\" class=\"data row4 col8\" >desktop</td>\n",
       "      <td id=\"T_c9bcf_row4_col9\" class=\"data row4 col9\" >7397.660000</td>\n",
       "      <td id=\"T_c9bcf_row4_col10\" class=\"data row4 col10\" >Мой билет</td>\n",
       "      <td id=\"T_c9bcf_row4_col11\" class=\"data row4 col11\" >4</td>\n",
       "      <td id=\"T_c9bcf_row4_col12\" class=\"data row4 col12\" >123294.320000</td>\n",
       "      <td id=\"T_c9bcf_row4_col13\" class=\"data row4 col13\" >1.000000</td>\n",
       "      <td id=\"T_c9bcf_row4_col14\" class=\"data row4 col14\" >0686ac7b-6f3e-4177-bb73-16b54acd1223</td>\n",
       "      <td id=\"T_c9bcf_row4_col15\" class=\"data row4 col15\" >фестиваль</td>\n",
       "      <td id=\"T_c9bcf_row4_col16\" class=\"data row4 col16\" >концерты</td>\n",
       "      <td id=\"T_c9bcf_row4_col17\" class=\"data row4 col17\" >№4950</td>\n",
       "      <td id=\"T_c9bcf_row4_col18\" class=\"data row4 col18\" >Шанырский регион</td>\n",
       "      <td id=\"T_c9bcf_row4_col19\" class=\"data row4 col19\" >Широковка</td>\n",
       "      <td id=\"T_c9bcf_row4_col20\" class=\"data row4 col20\" >162.000000</td>\n",
       "      <td id=\"T_c9bcf_row4_col21\" class=\"data row4 col21\" >3407.000000</td>\n",
       "      <td id=\"T_c9bcf_row4_col22\" class=\"data row4 col22\" >Арт-кафе \"Речка\" Лимитед</td>\n",
       "      <td id=\"T_c9bcf_row4_col23\" class=\"data row4 col23\" >алл. Путейская, д. 548 стр. 7</td>\n",
       "      <td id=\"T_c9bcf_row4_col24\" class=\"data row4 col24\" >2024-06-04 00:00:00</td>\n",
       "      <td id=\"T_c9bcf_row4_col25\" class=\"data row4 col25\" >100</td>\n",
       "      <td id=\"T_c9bcf_row4_col26\" class=\"data row4 col26\" >19.983300</td>\n",
       "      <td id=\"T_c9bcf_row4_col27\" class=\"data row4 col27\" >kzt</td>\n",
       "      <td id=\"T_c9bcf_row4_col28\" class=\"data row4 col28\" >1478.296591</td>\n",
       "    </tr>\n",
       "  </tbody>\n",
       "</table>\n"
      ],
      "text/plain": [
       "<pandas.io.formats.style.Styler at 0x2ad53605520>"
      ]
     },
     "execution_count": 24,
     "metadata": {},
     "output_type": "execute_result"
    }
   ],
   "source": [
    "# Проверяем добавление нового столбца\n",
    "df.loc[df['currency_code']=='kzt'].head().style"
   ]
  },
  {
   "cell_type": "code",
   "execution_count": 25,
   "metadata": {},
   "outputs": [],
   "source": [
    "# Создаем новый столбец one_ticket_revenue_rub с выручкой от продажи одного билета\n",
    "df['one_ticket_revenue_rub'] = df['revenue_rub'] / df['tickets_count']"
   ]
  },
  {
   "cell_type": "code",
   "execution_count": 26,
   "metadata": {},
   "outputs": [
    {
     "data": {
      "text/html": [
       "<style type=\"text/css\">\n",
       "</style>\n",
       "<table id=\"T_7c3c0_\">\n",
       "  <thead>\n",
       "    <tr>\n",
       "      <th class=\"blank level0\" >&nbsp;</th>\n",
       "      <th class=\"col_heading level0 col0\" >order_id</th>\n",
       "      <th class=\"col_heading level0 col1\" >user_id</th>\n",
       "      <th class=\"col_heading level0 col2\" >created_dt_msk</th>\n",
       "      <th class=\"col_heading level0 col3\" >created_ts_msk</th>\n",
       "      <th class=\"col_heading level0 col4\" >event_id</th>\n",
       "      <th class=\"col_heading level0 col5\" >cinema_circuit</th>\n",
       "      <th class=\"col_heading level0 col6\" >age_limit</th>\n",
       "      <th class=\"col_heading level0 col7\" >currency_code</th>\n",
       "      <th class=\"col_heading level0 col8\" >device_type_canonical</th>\n",
       "      <th class=\"col_heading level0 col9\" >revenue</th>\n",
       "      <th class=\"col_heading level0 col10\" >service_name</th>\n",
       "      <th class=\"col_heading level0 col11\" >tickets_count</th>\n",
       "      <th class=\"col_heading level0 col12\" >total</th>\n",
       "      <th class=\"col_heading level0 col13\" >days_since_prev</th>\n",
       "      <th class=\"col_heading level0 col14\" >event_name</th>\n",
       "      <th class=\"col_heading level0 col15\" >event_type_description</th>\n",
       "      <th class=\"col_heading level0 col16\" >event_type_main</th>\n",
       "      <th class=\"col_heading level0 col17\" >organizers</th>\n",
       "      <th class=\"col_heading level0 col18\" >region_name</th>\n",
       "      <th class=\"col_heading level0 col19\" >city_name</th>\n",
       "      <th class=\"col_heading level0 col20\" >city_id</th>\n",
       "      <th class=\"col_heading level0 col21\" >venue_id</th>\n",
       "      <th class=\"col_heading level0 col22\" >venue_name</th>\n",
       "      <th class=\"col_heading level0 col23\" >venue_address</th>\n",
       "      <th class=\"col_heading level0 col24\" >data</th>\n",
       "      <th class=\"col_heading level0 col25\" >nominal</th>\n",
       "      <th class=\"col_heading level0 col26\" >curs</th>\n",
       "      <th class=\"col_heading level0 col27\" >cdx</th>\n",
       "      <th class=\"col_heading level0 col28\" >revenue_rub</th>\n",
       "      <th class=\"col_heading level0 col29\" >one_ticket_revenue_rub</th>\n",
       "    </tr>\n",
       "  </thead>\n",
       "  <tbody>\n",
       "    <tr>\n",
       "      <th id=\"T_7c3c0_level0_row0\" class=\"row_heading level0 row0\" >0</th>\n",
       "      <td id=\"T_7c3c0_row0_col0\" class=\"data row0 col0\" >4359165</td>\n",
       "      <td id=\"T_7c3c0_row0_col1\" class=\"data row0 col1\" >0002849b70a3ce2</td>\n",
       "      <td id=\"T_7c3c0_row0_col2\" class=\"data row0 col2\" >2024-08-20 00:00:00</td>\n",
       "      <td id=\"T_7c3c0_row0_col3\" class=\"data row0 col3\" >2024-08-20 16:08:03</td>\n",
       "      <td id=\"T_7c3c0_row0_col4\" class=\"data row0 col4\" >169230</td>\n",
       "      <td id=\"T_7c3c0_row0_col5\" class=\"data row0 col5\" >нет</td>\n",
       "      <td id=\"T_7c3c0_row0_col6\" class=\"data row0 col6\" >16</td>\n",
       "      <td id=\"T_7c3c0_row0_col7\" class=\"data row0 col7\" >rub</td>\n",
       "      <td id=\"T_7c3c0_row0_col8\" class=\"data row0 col8\" >mobile</td>\n",
       "      <td id=\"T_7c3c0_row0_col9\" class=\"data row0 col9\" >1521.940000</td>\n",
       "      <td id=\"T_7c3c0_row0_col10\" class=\"data row0 col10\" >Край билетов</td>\n",
       "      <td id=\"T_7c3c0_row0_col11\" class=\"data row0 col11\" >4</td>\n",
       "      <td id=\"T_7c3c0_row0_col12\" class=\"data row0 col12\" >10870.990000</td>\n",
       "      <td id=\"T_7c3c0_row0_col13\" class=\"data row0 col13\" >nan</td>\n",
       "      <td id=\"T_7c3c0_row0_col14\" class=\"data row0 col14\" >f0f7b271-04eb-4af6-bcb8-8f05cf46d6ad</td>\n",
       "      <td id=\"T_7c3c0_row0_col15\" class=\"data row0 col15\" >спектакль</td>\n",
       "      <td id=\"T_7c3c0_row0_col16\" class=\"data row0 col16\" >театр</td>\n",
       "      <td id=\"T_7c3c0_row0_col17\" class=\"data row0 col17\" >№3322</td>\n",
       "      <td id=\"T_7c3c0_row0_col18\" class=\"data row0 col18\" >Каменевский регион</td>\n",
       "      <td id=\"T_7c3c0_row0_col19\" class=\"data row0 col19\" >Глиногорск</td>\n",
       "      <td id=\"T_7c3c0_row0_col20\" class=\"data row0 col20\" >213.000000</td>\n",
       "      <td id=\"T_7c3c0_row0_col21\" class=\"data row0 col21\" >3972.000000</td>\n",
       "      <td id=\"T_7c3c0_row0_col22\" class=\"data row0 col22\" >Сценический центр \"Деталь\" Групп</td>\n",
       "      <td id=\"T_7c3c0_row0_col23\" class=\"data row0 col23\" >алл. Машиностроителей, д. 19 стр. 6</td>\n",
       "      <td id=\"T_7c3c0_row0_col24\" class=\"data row0 col24\" >2024-08-20 00:00:00</td>\n",
       "      <td id=\"T_7c3c0_row0_col25\" class=\"data row0 col25\" >100</td>\n",
       "      <td id=\"T_7c3c0_row0_col26\" class=\"data row0 col26\" >18.697200</td>\n",
       "      <td id=\"T_7c3c0_row0_col27\" class=\"data row0 col27\" >kzt</td>\n",
       "      <td id=\"T_7c3c0_row0_col28\" class=\"data row0 col28\" >1521.940000</td>\n",
       "      <td id=\"T_7c3c0_row0_col29\" class=\"data row0 col29\" >380.485000</td>\n",
       "    </tr>\n",
       "    <tr>\n",
       "      <th id=\"T_7c3c0_level0_row1\" class=\"row_heading level0 row1\" >1</th>\n",
       "      <td id=\"T_7c3c0_row1_col0\" class=\"data row1 col0\" >7965605</td>\n",
       "      <td id=\"T_7c3c0_row1_col1\" class=\"data row1 col1\" >0005ca5e93f2cf4</td>\n",
       "      <td id=\"T_7c3c0_row1_col2\" class=\"data row1 col2\" >2024-07-23 00:00:00</td>\n",
       "      <td id=\"T_7c3c0_row1_col3\" class=\"data row1 col3\" >2024-07-23 18:36:24</td>\n",
       "      <td id=\"T_7c3c0_row1_col4\" class=\"data row1 col4\" >237325</td>\n",
       "      <td id=\"T_7c3c0_row1_col5\" class=\"data row1 col5\" >нет</td>\n",
       "      <td id=\"T_7c3c0_row1_col6\" class=\"data row1 col6\" >0</td>\n",
       "      <td id=\"T_7c3c0_row1_col7\" class=\"data row1 col7\" >rub</td>\n",
       "      <td id=\"T_7c3c0_row1_col8\" class=\"data row1 col8\" >mobile</td>\n",
       "      <td id=\"T_7c3c0_row1_col9\" class=\"data row1 col9\" >289.450000</td>\n",
       "      <td id=\"T_7c3c0_row1_col10\" class=\"data row1 col10\" >Мой билет</td>\n",
       "      <td id=\"T_7c3c0_row1_col11\" class=\"data row1 col11\" >2</td>\n",
       "      <td id=\"T_7c3c0_row1_col12\" class=\"data row1 col12\" >2067.510000</td>\n",
       "      <td id=\"T_7c3c0_row1_col13\" class=\"data row1 col13\" >nan</td>\n",
       "      <td id=\"T_7c3c0_row1_col14\" class=\"data row1 col14\" >40efeb04-81b7-4135-b41f-708ff00cc64c</td>\n",
       "      <td id=\"T_7c3c0_row1_col15\" class=\"data row1 col15\" >событие</td>\n",
       "      <td id=\"T_7c3c0_row1_col16\" class=\"data row1 col16\" >выставки</td>\n",
       "      <td id=\"T_7c3c0_row1_col17\" class=\"data row1 col17\" >№4850</td>\n",
       "      <td id=\"T_7c3c0_row1_col18\" class=\"data row1 col18\" >Каменевский регион</td>\n",
       "      <td id=\"T_7c3c0_row1_col19\" class=\"data row1 col19\" >Глиногорск</td>\n",
       "      <td id=\"T_7c3c0_row1_col20\" class=\"data row1 col20\" >213.000000</td>\n",
       "      <td id=\"T_7c3c0_row1_col21\" class=\"data row1 col21\" >2941.000000</td>\n",
       "      <td id=\"T_7c3c0_row1_col22\" class=\"data row1 col22\" >Музыкальная школа для детей \"Аккаунт\" Лтд</td>\n",
       "      <td id=\"T_7c3c0_row1_col23\" class=\"data row1 col23\" >алл. Шмидта, д. 9 стр. 4</td>\n",
       "      <td id=\"T_7c3c0_row1_col24\" class=\"data row1 col24\" >2024-07-23 00:00:00</td>\n",
       "      <td id=\"T_7c3c0_row1_col25\" class=\"data row1 col25\" >100</td>\n",
       "      <td id=\"T_7c3c0_row1_col26\" class=\"data row1 col26\" >18.341900</td>\n",
       "      <td id=\"T_7c3c0_row1_col27\" class=\"data row1 col27\" >kzt</td>\n",
       "      <td id=\"T_7c3c0_row1_col28\" class=\"data row1 col28\" >289.450000</td>\n",
       "      <td id=\"T_7c3c0_row1_col29\" class=\"data row1 col29\" >144.725000</td>\n",
       "    </tr>\n",
       "    <tr>\n",
       "      <th id=\"T_7c3c0_level0_row2\" class=\"row_heading level0 row2\" >2</th>\n",
       "      <td id=\"T_7c3c0_row2_col0\" class=\"data row2 col0\" >7292370</td>\n",
       "      <td id=\"T_7c3c0_row2_col1\" class=\"data row2 col1\" >0005ca5e93f2cf4</td>\n",
       "      <td id=\"T_7c3c0_row2_col2\" class=\"data row2 col2\" >2024-10-06 00:00:00</td>\n",
       "      <td id=\"T_7c3c0_row2_col3\" class=\"data row2 col3\" >2024-10-06 13:56:02</td>\n",
       "      <td id=\"T_7c3c0_row2_col4\" class=\"data row2 col4\" >578454</td>\n",
       "      <td id=\"T_7c3c0_row2_col5\" class=\"data row2 col5\" >нет</td>\n",
       "      <td id=\"T_7c3c0_row2_col6\" class=\"data row2 col6\" >0</td>\n",
       "      <td id=\"T_7c3c0_row2_col7\" class=\"data row2 col7\" >rub</td>\n",
       "      <td id=\"T_7c3c0_row2_col8\" class=\"data row2 col8\" >mobile</td>\n",
       "      <td id=\"T_7c3c0_row2_col9\" class=\"data row2 col9\" >1258.570000</td>\n",
       "      <td id=\"T_7c3c0_row2_col10\" class=\"data row2 col10\" >За билетом!</td>\n",
       "      <td id=\"T_7c3c0_row2_col11\" class=\"data row2 col11\" >4</td>\n",
       "      <td id=\"T_7c3c0_row2_col12\" class=\"data row2 col12\" >13984.160000</td>\n",
       "      <td id=\"T_7c3c0_row2_col13\" class=\"data row2 col13\" >75.000000</td>\n",
       "      <td id=\"T_7c3c0_row2_col14\" class=\"data row2 col14\" >01f3fb7b-ed07-4f94-b1d3-9a2e1ee5a8ca</td>\n",
       "      <td id=\"T_7c3c0_row2_col15\" class=\"data row2 col15\" >цирковое шоу</td>\n",
       "      <td id=\"T_7c3c0_row2_col16\" class=\"data row2 col16\" >другое</td>\n",
       "      <td id=\"T_7c3c0_row2_col17\" class=\"data row2 col17\" >№1540</td>\n",
       "      <td id=\"T_7c3c0_row2_col18\" class=\"data row2 col18\" >Каменевский регион</td>\n",
       "      <td id=\"T_7c3c0_row2_col19\" class=\"data row2 col19\" >Глиногорск</td>\n",
       "      <td id=\"T_7c3c0_row2_col20\" class=\"data row2 col20\" >213.000000</td>\n",
       "      <td id=\"T_7c3c0_row2_col21\" class=\"data row2 col21\" >4507.000000</td>\n",
       "      <td id=\"T_7c3c0_row2_col22\" class=\"data row2 col22\" >Училище искусств \"Нирвана\" Инк</td>\n",
       "      <td id=\"T_7c3c0_row2_col23\" class=\"data row2 col23\" >алл. Юбилейная, д. 5/6</td>\n",
       "      <td id=\"T_7c3c0_row2_col24\" class=\"data row2 col24\" >2024-10-06 00:00:00</td>\n",
       "      <td id=\"T_7c3c0_row2_col25\" class=\"data row2 col25\" >100</td>\n",
       "      <td id=\"T_7c3c0_row2_col26\" class=\"data row2 col26\" >19.647500</td>\n",
       "      <td id=\"T_7c3c0_row2_col27\" class=\"data row2 col27\" >kzt</td>\n",
       "      <td id=\"T_7c3c0_row2_col28\" class=\"data row2 col28\" >1258.570000</td>\n",
       "      <td id=\"T_7c3c0_row2_col29\" class=\"data row2 col29\" >314.642500</td>\n",
       "    </tr>\n",
       "    <tr>\n",
       "      <th id=\"T_7c3c0_level0_row3\" class=\"row_heading level0 row3\" >3</th>\n",
       "      <td id=\"T_7c3c0_row3_col0\" class=\"data row3 col0\" >1139875</td>\n",
       "      <td id=\"T_7c3c0_row3_col1\" class=\"data row3 col1\" >000898990054619</td>\n",
       "      <td id=\"T_7c3c0_row3_col2\" class=\"data row3 col2\" >2024-07-13 00:00:00</td>\n",
       "      <td id=\"T_7c3c0_row3_col3\" class=\"data row3 col3\" >2024-07-13 19:40:48</td>\n",
       "      <td id=\"T_7c3c0_row3_col4\" class=\"data row3 col4\" >387271</td>\n",
       "      <td id=\"T_7c3c0_row3_col5\" class=\"data row3 col5\" >нет</td>\n",
       "      <td id=\"T_7c3c0_row3_col6\" class=\"data row3 col6\" >0</td>\n",
       "      <td id=\"T_7c3c0_row3_col7\" class=\"data row3 col7\" >rub</td>\n",
       "      <td id=\"T_7c3c0_row3_col8\" class=\"data row3 col8\" >mobile</td>\n",
       "      <td id=\"T_7c3c0_row3_col9\" class=\"data row3 col9\" >8.490000</td>\n",
       "      <td id=\"T_7c3c0_row3_col10\" class=\"data row3 col10\" >Лови билет!</td>\n",
       "      <td id=\"T_7c3c0_row3_col11\" class=\"data row3 col11\" >2</td>\n",
       "      <td id=\"T_7c3c0_row3_col12\" class=\"data row3 col12\" >212.280000</td>\n",
       "      <td id=\"T_7c3c0_row3_col13\" class=\"data row3 col13\" >nan</td>\n",
       "      <td id=\"T_7c3c0_row3_col14\" class=\"data row3 col14\" >2f638715-8844-466c-b43f-378a627c419f</td>\n",
       "      <td id=\"T_7c3c0_row3_col15\" class=\"data row3 col15\" >выставка</td>\n",
       "      <td id=\"T_7c3c0_row3_col16\" class=\"data row3 col16\" >другое</td>\n",
       "      <td id=\"T_7c3c0_row3_col17\" class=\"data row3 col17\" >№5049</td>\n",
       "      <td id=\"T_7c3c0_row3_col18\" class=\"data row3 col18\" >Североярская область</td>\n",
       "      <td id=\"T_7c3c0_row3_col19\" class=\"data row3 col19\" >Озёрск</td>\n",
       "      <td id=\"T_7c3c0_row3_col20\" class=\"data row3 col20\" >2.000000</td>\n",
       "      <td id=\"T_7c3c0_row3_col21\" class=\"data row3 col21\" >3574.000000</td>\n",
       "      <td id=\"T_7c3c0_row3_col22\" class=\"data row3 col22\" >Театр альтернативного искусства \"Ода\" Лимитед</td>\n",
       "      <td id=\"T_7c3c0_row3_col23\" class=\"data row3 col23\" >алл. Есенина, д. 243 к. 3/8</td>\n",
       "      <td id=\"T_7c3c0_row3_col24\" class=\"data row3 col24\" >2024-07-13 00:00:00</td>\n",
       "      <td id=\"T_7c3c0_row3_col25\" class=\"data row3 col25\" >100</td>\n",
       "      <td id=\"T_7c3c0_row3_col26\" class=\"data row3 col26\" >18.501000</td>\n",
       "      <td id=\"T_7c3c0_row3_col27\" class=\"data row3 col27\" >kzt</td>\n",
       "      <td id=\"T_7c3c0_row3_col28\" class=\"data row3 col28\" >8.490000</td>\n",
       "      <td id=\"T_7c3c0_row3_col29\" class=\"data row3 col29\" >4.245000</td>\n",
       "    </tr>\n",
       "    <tr>\n",
       "      <th id=\"T_7c3c0_level0_row4\" class=\"row_heading level0 row4\" >4</th>\n",
       "      <td id=\"T_7c3c0_row4_col0\" class=\"data row4 col0\" >972400</td>\n",
       "      <td id=\"T_7c3c0_row4_col1\" class=\"data row4 col1\" >000898990054619</td>\n",
       "      <td id=\"T_7c3c0_row4_col2\" class=\"data row4 col2\" >2024-10-04 00:00:00</td>\n",
       "      <td id=\"T_7c3c0_row4_col3\" class=\"data row4 col3\" >2024-10-04 22:33:15</td>\n",
       "      <td id=\"T_7c3c0_row4_col4\" class=\"data row4 col4\" >509453</td>\n",
       "      <td id=\"T_7c3c0_row4_col5\" class=\"data row4 col5\" >нет</td>\n",
       "      <td id=\"T_7c3c0_row4_col6\" class=\"data row4 col6\" >18</td>\n",
       "      <td id=\"T_7c3c0_row4_col7\" class=\"data row4 col7\" >rub</td>\n",
       "      <td id=\"T_7c3c0_row4_col8\" class=\"data row4 col8\" >mobile</td>\n",
       "      <td id=\"T_7c3c0_row4_col9\" class=\"data row4 col9\" >1390.410000</td>\n",
       "      <td id=\"T_7c3c0_row4_col10\" class=\"data row4 col10\" >Билеты без проблем</td>\n",
       "      <td id=\"T_7c3c0_row4_col11\" class=\"data row4 col11\" >3</td>\n",
       "      <td id=\"T_7c3c0_row4_col12\" class=\"data row4 col12\" >10695.430000</td>\n",
       "      <td id=\"T_7c3c0_row4_col13\" class=\"data row4 col13\" >83.000000</td>\n",
       "      <td id=\"T_7c3c0_row4_col14\" class=\"data row4 col14\" >10d805d3-9809-4d8a-834e-225b7d03f95d</td>\n",
       "      <td id=\"T_7c3c0_row4_col15\" class=\"data row4 col15\" >шоу</td>\n",
       "      <td id=\"T_7c3c0_row4_col16\" class=\"data row4 col16\" >стендап</td>\n",
       "      <td id=\"T_7c3c0_row4_col17\" class=\"data row4 col17\" >№832</td>\n",
       "      <td id=\"T_7c3c0_row4_col18\" class=\"data row4 col18\" >Озернинский край</td>\n",
       "      <td id=\"T_7c3c0_row4_col19\" class=\"data row4 col19\" >Родниковецк</td>\n",
       "      <td id=\"T_7c3c0_row4_col20\" class=\"data row4 col20\" >240.000000</td>\n",
       "      <td id=\"T_7c3c0_row4_col21\" class=\"data row4 col21\" >1896.000000</td>\n",
       "      <td id=\"T_7c3c0_row4_col22\" class=\"data row4 col22\" >Театр кукол \"Огни\" Инкорпорэйтед</td>\n",
       "      <td id=\"T_7c3c0_row4_col23\" class=\"data row4 col23\" >ш. Набережное, д. 595 стр. 8</td>\n",
       "      <td id=\"T_7c3c0_row4_col24\" class=\"data row4 col24\" >2024-10-04 00:00:00</td>\n",
       "      <td id=\"T_7c3c0_row4_col25\" class=\"data row4 col25\" >100</td>\n",
       "      <td id=\"T_7c3c0_row4_col26\" class=\"data row4 col26\" >19.664800</td>\n",
       "      <td id=\"T_7c3c0_row4_col27\" class=\"data row4 col27\" >kzt</td>\n",
       "      <td id=\"T_7c3c0_row4_col28\" class=\"data row4 col28\" >1390.410000</td>\n",
       "      <td id=\"T_7c3c0_row4_col29\" class=\"data row4 col29\" >463.470000</td>\n",
       "    </tr>\n",
       "  </tbody>\n",
       "</table>\n"
      ],
      "text/plain": [
       "<pandas.io.formats.style.Styler at 0x2ad545a47c0>"
      ]
     },
     "execution_count": 26,
     "metadata": {},
     "output_type": "execute_result"
    }
   ],
   "source": [
    "# Проверяем добавление нового столбца\n",
    "df.head().style"
   ]
  },
  {
   "cell_type": "code",
   "execution_count": 27,
   "metadata": {},
   "outputs": [],
   "source": [
    "# Создаем новый столбец month с месяцом заказа\n",
    "df['month'] = df['created_dt_msk'].dt.month"
   ]
  },
  {
   "cell_type": "code",
   "execution_count": 28,
   "metadata": {},
   "outputs": [
    {
     "data": {
      "text/html": [
       "<div>\n",
       "<style scoped>\n",
       "    .dataframe tbody tr th:only-of-type {\n",
       "        vertical-align: middle;\n",
       "    }\n",
       "\n",
       "    .dataframe tbody tr th {\n",
       "        vertical-align: top;\n",
       "    }\n",
       "\n",
       "    .dataframe thead th {\n",
       "        text-align: right;\n",
       "    }\n",
       "</style>\n",
       "<table border=\"1\" class=\"dataframe\">\n",
       "  <thead>\n",
       "    <tr style=\"text-align: right;\">\n",
       "      <th></th>\n",
       "      <th>order_id</th>\n",
       "      <th>user_id</th>\n",
       "      <th>created_dt_msk</th>\n",
       "      <th>created_ts_msk</th>\n",
       "      <th>event_id</th>\n",
       "      <th>cinema_circuit</th>\n",
       "      <th>age_limit</th>\n",
       "      <th>currency_code</th>\n",
       "      <th>device_type_canonical</th>\n",
       "      <th>revenue</th>\n",
       "      <th>...</th>\n",
       "      <th>venue_id</th>\n",
       "      <th>venue_name</th>\n",
       "      <th>venue_address</th>\n",
       "      <th>data</th>\n",
       "      <th>nominal</th>\n",
       "      <th>curs</th>\n",
       "      <th>cdx</th>\n",
       "      <th>revenue_rub</th>\n",
       "      <th>one_ticket_revenue_rub</th>\n",
       "      <th>month</th>\n",
       "    </tr>\n",
       "  </thead>\n",
       "  <tbody>\n",
       "    <tr>\n",
       "      <th>0</th>\n",
       "      <td>4359165</td>\n",
       "      <td>0002849b70a3ce2</td>\n",
       "      <td>2024-08-20</td>\n",
       "      <td>2024-08-20 16:08:03</td>\n",
       "      <td>169230</td>\n",
       "      <td>нет</td>\n",
       "      <td>16</td>\n",
       "      <td>rub</td>\n",
       "      <td>mobile</td>\n",
       "      <td>1521.94</td>\n",
       "      <td>...</td>\n",
       "      <td>3972.0</td>\n",
       "      <td>Сценический центр \"Деталь\" Групп</td>\n",
       "      <td>алл. Машиностроителей, д. 19 стр. 6</td>\n",
       "      <td>2024-08-20</td>\n",
       "      <td>100</td>\n",
       "      <td>18.6972</td>\n",
       "      <td>kzt</td>\n",
       "      <td>1521.94</td>\n",
       "      <td>380.4850</td>\n",
       "      <td>8</td>\n",
       "    </tr>\n",
       "    <tr>\n",
       "      <th>1</th>\n",
       "      <td>7965605</td>\n",
       "      <td>0005ca5e93f2cf4</td>\n",
       "      <td>2024-07-23</td>\n",
       "      <td>2024-07-23 18:36:24</td>\n",
       "      <td>237325</td>\n",
       "      <td>нет</td>\n",
       "      <td>0</td>\n",
       "      <td>rub</td>\n",
       "      <td>mobile</td>\n",
       "      <td>289.45</td>\n",
       "      <td>...</td>\n",
       "      <td>2941.0</td>\n",
       "      <td>Музыкальная школа для детей \"Аккаунт\" Лтд</td>\n",
       "      <td>алл. Шмидта, д. 9 стр. 4</td>\n",
       "      <td>2024-07-23</td>\n",
       "      <td>100</td>\n",
       "      <td>18.3419</td>\n",
       "      <td>kzt</td>\n",
       "      <td>289.45</td>\n",
       "      <td>144.7250</td>\n",
       "      <td>7</td>\n",
       "    </tr>\n",
       "    <tr>\n",
       "      <th>2</th>\n",
       "      <td>7292370</td>\n",
       "      <td>0005ca5e93f2cf4</td>\n",
       "      <td>2024-10-06</td>\n",
       "      <td>2024-10-06 13:56:02</td>\n",
       "      <td>578454</td>\n",
       "      <td>нет</td>\n",
       "      <td>0</td>\n",
       "      <td>rub</td>\n",
       "      <td>mobile</td>\n",
       "      <td>1258.57</td>\n",
       "      <td>...</td>\n",
       "      <td>4507.0</td>\n",
       "      <td>Училище искусств \"Нирвана\" Инк</td>\n",
       "      <td>алл. Юбилейная, д. 5/6</td>\n",
       "      <td>2024-10-06</td>\n",
       "      <td>100</td>\n",
       "      <td>19.6475</td>\n",
       "      <td>kzt</td>\n",
       "      <td>1258.57</td>\n",
       "      <td>314.6425</td>\n",
       "      <td>10</td>\n",
       "    </tr>\n",
       "    <tr>\n",
       "      <th>3</th>\n",
       "      <td>1139875</td>\n",
       "      <td>000898990054619</td>\n",
       "      <td>2024-07-13</td>\n",
       "      <td>2024-07-13 19:40:48</td>\n",
       "      <td>387271</td>\n",
       "      <td>нет</td>\n",
       "      <td>0</td>\n",
       "      <td>rub</td>\n",
       "      <td>mobile</td>\n",
       "      <td>8.49</td>\n",
       "      <td>...</td>\n",
       "      <td>3574.0</td>\n",
       "      <td>Театр альтернативного искусства \"Ода\" Лимитед</td>\n",
       "      <td>алл. Есенина, д. 243 к. 3/8</td>\n",
       "      <td>2024-07-13</td>\n",
       "      <td>100</td>\n",
       "      <td>18.5010</td>\n",
       "      <td>kzt</td>\n",
       "      <td>8.49</td>\n",
       "      <td>4.2450</td>\n",
       "      <td>7</td>\n",
       "    </tr>\n",
       "    <tr>\n",
       "      <th>4</th>\n",
       "      <td>972400</td>\n",
       "      <td>000898990054619</td>\n",
       "      <td>2024-10-04</td>\n",
       "      <td>2024-10-04 22:33:15</td>\n",
       "      <td>509453</td>\n",
       "      <td>нет</td>\n",
       "      <td>18</td>\n",
       "      <td>rub</td>\n",
       "      <td>mobile</td>\n",
       "      <td>1390.41</td>\n",
       "      <td>...</td>\n",
       "      <td>1896.0</td>\n",
       "      <td>Театр кукол \"Огни\" Инкорпорэйтед</td>\n",
       "      <td>ш. Набережное, д. 595 стр. 8</td>\n",
       "      <td>2024-10-04</td>\n",
       "      <td>100</td>\n",
       "      <td>19.6648</td>\n",
       "      <td>kzt</td>\n",
       "      <td>1390.41</td>\n",
       "      <td>463.4700</td>\n",
       "      <td>10</td>\n",
       "    </tr>\n",
       "  </tbody>\n",
       "</table>\n",
       "<p>5 rows × 31 columns</p>\n",
       "</div>"
      ],
      "text/plain": [
       "   order_id          user_id created_dt_msk      created_ts_msk  event_id  \\\n",
       "0   4359165  0002849b70a3ce2     2024-08-20 2024-08-20 16:08:03    169230   \n",
       "1   7965605  0005ca5e93f2cf4     2024-07-23 2024-07-23 18:36:24    237325   \n",
       "2   7292370  0005ca5e93f2cf4     2024-10-06 2024-10-06 13:56:02    578454   \n",
       "3   1139875  000898990054619     2024-07-13 2024-07-13 19:40:48    387271   \n",
       "4    972400  000898990054619     2024-10-04 2024-10-04 22:33:15    509453   \n",
       "\n",
       "  cinema_circuit age_limit currency_code device_type_canonical  revenue  ...  \\\n",
       "0            нет        16           rub                mobile  1521.94  ...   \n",
       "1            нет         0           rub                mobile   289.45  ...   \n",
       "2            нет         0           rub                mobile  1258.57  ...   \n",
       "3            нет         0           rub                mobile     8.49  ...   \n",
       "4            нет        18           rub                mobile  1390.41  ...   \n",
       "\n",
       "  venue_id                                     venue_name  \\\n",
       "0   3972.0               Сценический центр \"Деталь\" Групп   \n",
       "1   2941.0      Музыкальная школа для детей \"Аккаунт\" Лтд   \n",
       "2   4507.0                 Училище искусств \"Нирвана\" Инк   \n",
       "3   3574.0  Театр альтернативного искусства \"Ода\" Лимитед   \n",
       "4   1896.0               Театр кукол \"Огни\" Инкорпорэйтед   \n",
       "\n",
       "                         venue_address       data nominal     curs  cdx  \\\n",
       "0  алл. Машиностроителей, д. 19 стр. 6 2024-08-20     100  18.6972  kzt   \n",
       "1             алл. Шмидта, д. 9 стр. 4 2024-07-23     100  18.3419  kzt   \n",
       "2               алл. Юбилейная, д. 5/6 2024-10-06     100  19.6475  kzt   \n",
       "3          алл. Есенина, д. 243 к. 3/8 2024-07-13     100  18.5010  kzt   \n",
       "4         ш. Набережное, д. 595 стр. 8 2024-10-04     100  19.6648  kzt   \n",
       "\n",
       "  revenue_rub one_ticket_revenue_rub month  \n",
       "0     1521.94               380.4850     8  \n",
       "1      289.45               144.7250     7  \n",
       "2     1258.57               314.6425    10  \n",
       "3        8.49                 4.2450     7  \n",
       "4     1390.41               463.4700    10  \n",
       "\n",
       "[5 rows x 31 columns]"
      ]
     },
     "execution_count": 28,
     "metadata": {},
     "output_type": "execute_result"
    }
   ],
   "source": [
    "# Проверяем добавление нового столбца\n",
    "df.head()"
   ]
  },
  {
   "cell_type": "code",
   "execution_count": 29,
   "metadata": {},
   "outputs": [],
   "source": [
    "# Создаем пустой список для категорий сезонности\n",
    "season = []"
   ]
  },
  {
   "cell_type": "code",
   "execution_count": 30,
   "metadata": {},
   "outputs": [],
   "source": [
    "# Классифицируем сезоннность с помощью циклов и условий\n",
    "for date in df['month']:\n",
    "    if date >= 3 and date <= 5:\n",
    "        season.append('весна')\n",
    "    elif date >= 6 and date <= 8:\n",
    "        season.append('лето')\n",
    "    elif date >= 9 and date <= 11:\n",
    "        season.append('осень')\n",
    "    else:\n",
    "        season.append('зима')"
   ]
  },
  {
   "cell_type": "code",
   "execution_count": 31,
   "metadata": {},
   "outputs": [],
   "source": [
    "# Добавляем результат в новый столбец season с информацией о сезонности\n",
    "df['season'] = season"
   ]
  },
  {
   "cell_type": "code",
   "execution_count": 32,
   "metadata": {},
   "outputs": [
    {
     "data": {
      "text/html": [
       "<div>\n",
       "<style scoped>\n",
       "    .dataframe tbody tr th:only-of-type {\n",
       "        vertical-align: middle;\n",
       "    }\n",
       "\n",
       "    .dataframe tbody tr th {\n",
       "        vertical-align: top;\n",
       "    }\n",
       "\n",
       "    .dataframe thead th {\n",
       "        text-align: right;\n",
       "    }\n",
       "</style>\n",
       "<table border=\"1\" class=\"dataframe\">\n",
       "  <thead>\n",
       "    <tr style=\"text-align: right;\">\n",
       "      <th></th>\n",
       "      <th>order_id</th>\n",
       "      <th>user_id</th>\n",
       "      <th>created_dt_msk</th>\n",
       "      <th>created_ts_msk</th>\n",
       "      <th>event_id</th>\n",
       "      <th>cinema_circuit</th>\n",
       "      <th>age_limit</th>\n",
       "      <th>currency_code</th>\n",
       "      <th>device_type_canonical</th>\n",
       "      <th>revenue</th>\n",
       "      <th>...</th>\n",
       "      <th>venue_name</th>\n",
       "      <th>venue_address</th>\n",
       "      <th>data</th>\n",
       "      <th>nominal</th>\n",
       "      <th>curs</th>\n",
       "      <th>cdx</th>\n",
       "      <th>revenue_rub</th>\n",
       "      <th>one_ticket_revenue_rub</th>\n",
       "      <th>month</th>\n",
       "      <th>season</th>\n",
       "    </tr>\n",
       "  </thead>\n",
       "  <tbody>\n",
       "    <tr>\n",
       "      <th>0</th>\n",
       "      <td>4359165</td>\n",
       "      <td>0002849b70a3ce2</td>\n",
       "      <td>2024-08-20</td>\n",
       "      <td>2024-08-20 16:08:03</td>\n",
       "      <td>169230</td>\n",
       "      <td>нет</td>\n",
       "      <td>16</td>\n",
       "      <td>rub</td>\n",
       "      <td>mobile</td>\n",
       "      <td>1521.94</td>\n",
       "      <td>...</td>\n",
       "      <td>Сценический центр \"Деталь\" Групп</td>\n",
       "      <td>алл. Машиностроителей, д. 19 стр. 6</td>\n",
       "      <td>2024-08-20</td>\n",
       "      <td>100</td>\n",
       "      <td>18.6972</td>\n",
       "      <td>kzt</td>\n",
       "      <td>1521.94</td>\n",
       "      <td>380.4850</td>\n",
       "      <td>8</td>\n",
       "      <td>лето</td>\n",
       "    </tr>\n",
       "    <tr>\n",
       "      <th>1</th>\n",
       "      <td>7965605</td>\n",
       "      <td>0005ca5e93f2cf4</td>\n",
       "      <td>2024-07-23</td>\n",
       "      <td>2024-07-23 18:36:24</td>\n",
       "      <td>237325</td>\n",
       "      <td>нет</td>\n",
       "      <td>0</td>\n",
       "      <td>rub</td>\n",
       "      <td>mobile</td>\n",
       "      <td>289.45</td>\n",
       "      <td>...</td>\n",
       "      <td>Музыкальная школа для детей \"Аккаунт\" Лтд</td>\n",
       "      <td>алл. Шмидта, д. 9 стр. 4</td>\n",
       "      <td>2024-07-23</td>\n",
       "      <td>100</td>\n",
       "      <td>18.3419</td>\n",
       "      <td>kzt</td>\n",
       "      <td>289.45</td>\n",
       "      <td>144.7250</td>\n",
       "      <td>7</td>\n",
       "      <td>лето</td>\n",
       "    </tr>\n",
       "    <tr>\n",
       "      <th>2</th>\n",
       "      <td>7292370</td>\n",
       "      <td>0005ca5e93f2cf4</td>\n",
       "      <td>2024-10-06</td>\n",
       "      <td>2024-10-06 13:56:02</td>\n",
       "      <td>578454</td>\n",
       "      <td>нет</td>\n",
       "      <td>0</td>\n",
       "      <td>rub</td>\n",
       "      <td>mobile</td>\n",
       "      <td>1258.57</td>\n",
       "      <td>...</td>\n",
       "      <td>Училище искусств \"Нирвана\" Инк</td>\n",
       "      <td>алл. Юбилейная, д. 5/6</td>\n",
       "      <td>2024-10-06</td>\n",
       "      <td>100</td>\n",
       "      <td>19.6475</td>\n",
       "      <td>kzt</td>\n",
       "      <td>1258.57</td>\n",
       "      <td>314.6425</td>\n",
       "      <td>10</td>\n",
       "      <td>осень</td>\n",
       "    </tr>\n",
       "    <tr>\n",
       "      <th>3</th>\n",
       "      <td>1139875</td>\n",
       "      <td>000898990054619</td>\n",
       "      <td>2024-07-13</td>\n",
       "      <td>2024-07-13 19:40:48</td>\n",
       "      <td>387271</td>\n",
       "      <td>нет</td>\n",
       "      <td>0</td>\n",
       "      <td>rub</td>\n",
       "      <td>mobile</td>\n",
       "      <td>8.49</td>\n",
       "      <td>...</td>\n",
       "      <td>Театр альтернативного искусства \"Ода\" Лимитед</td>\n",
       "      <td>алл. Есенина, д. 243 к. 3/8</td>\n",
       "      <td>2024-07-13</td>\n",
       "      <td>100</td>\n",
       "      <td>18.5010</td>\n",
       "      <td>kzt</td>\n",
       "      <td>8.49</td>\n",
       "      <td>4.2450</td>\n",
       "      <td>7</td>\n",
       "      <td>лето</td>\n",
       "    </tr>\n",
       "    <tr>\n",
       "      <th>4</th>\n",
       "      <td>972400</td>\n",
       "      <td>000898990054619</td>\n",
       "      <td>2024-10-04</td>\n",
       "      <td>2024-10-04 22:33:15</td>\n",
       "      <td>509453</td>\n",
       "      <td>нет</td>\n",
       "      <td>18</td>\n",
       "      <td>rub</td>\n",
       "      <td>mobile</td>\n",
       "      <td>1390.41</td>\n",
       "      <td>...</td>\n",
       "      <td>Театр кукол \"Огни\" Инкорпорэйтед</td>\n",
       "      <td>ш. Набережное, д. 595 стр. 8</td>\n",
       "      <td>2024-10-04</td>\n",
       "      <td>100</td>\n",
       "      <td>19.6648</td>\n",
       "      <td>kzt</td>\n",
       "      <td>1390.41</td>\n",
       "      <td>463.4700</td>\n",
       "      <td>10</td>\n",
       "      <td>осень</td>\n",
       "    </tr>\n",
       "  </tbody>\n",
       "</table>\n",
       "<p>5 rows × 32 columns</p>\n",
       "</div>"
      ],
      "text/plain": [
       "   order_id          user_id created_dt_msk      created_ts_msk  event_id  \\\n",
       "0   4359165  0002849b70a3ce2     2024-08-20 2024-08-20 16:08:03    169230   \n",
       "1   7965605  0005ca5e93f2cf4     2024-07-23 2024-07-23 18:36:24    237325   \n",
       "2   7292370  0005ca5e93f2cf4     2024-10-06 2024-10-06 13:56:02    578454   \n",
       "3   1139875  000898990054619     2024-07-13 2024-07-13 19:40:48    387271   \n",
       "4    972400  000898990054619     2024-10-04 2024-10-04 22:33:15    509453   \n",
       "\n",
       "  cinema_circuit age_limit currency_code device_type_canonical  revenue  ...  \\\n",
       "0            нет        16           rub                mobile  1521.94  ...   \n",
       "1            нет         0           rub                mobile   289.45  ...   \n",
       "2            нет         0           rub                mobile  1258.57  ...   \n",
       "3            нет         0           rub                mobile     8.49  ...   \n",
       "4            нет        18           rub                mobile  1390.41  ...   \n",
       "\n",
       "                                      venue_name  \\\n",
       "0               Сценический центр \"Деталь\" Групп   \n",
       "1      Музыкальная школа для детей \"Аккаунт\" Лтд   \n",
       "2                 Училище искусств \"Нирвана\" Инк   \n",
       "3  Театр альтернативного искусства \"Ода\" Лимитед   \n",
       "4               Театр кукол \"Огни\" Инкорпорэйтед   \n",
       "\n",
       "                         venue_address       data  nominal     curs  cdx  \\\n",
       "0  алл. Машиностроителей, д. 19 стр. 6 2024-08-20      100  18.6972  kzt   \n",
       "1             алл. Шмидта, д. 9 стр. 4 2024-07-23      100  18.3419  kzt   \n",
       "2               алл. Юбилейная, д. 5/6 2024-10-06      100  19.6475  kzt   \n",
       "3          алл. Есенина, д. 243 к. 3/8 2024-07-13      100  18.5010  kzt   \n",
       "4         ш. Набережное, д. 595 стр. 8 2024-10-04      100  19.6648  kzt   \n",
       "\n",
       "  revenue_rub one_ticket_revenue_rub month season  \n",
       "0     1521.94               380.4850     8   лето  \n",
       "1      289.45               144.7250     7   лето  \n",
       "2     1258.57               314.6425    10  осень  \n",
       "3        8.49                 4.2450     7   лето  \n",
       "4     1390.41               463.4700    10  осень  \n",
       "\n",
       "[5 rows x 32 columns]"
      ]
     },
     "execution_count": 32,
     "metadata": {},
     "output_type": "execute_result"
    }
   ],
   "source": [
    "# Проверяем добавление нового столбца\n",
    "df.head()"
   ]
  },
  {
   "cell_type": "code",
   "execution_count": 33,
   "metadata": {
    "scrolled": false
   },
   "outputs": [
    {
     "name": "stdout",
     "output_type": "stream",
     "text": [
      "<class 'pandas.core.frame.DataFrame'>\n",
      "Int64Index: 290807 entries, 0 to 290848\n",
      "Data columns (total 32 columns):\n",
      " #   Column                  Non-Null Count   Dtype         \n",
      "---  ------                  --------------   -----         \n",
      " 0   order_id                290807 non-null  int64         \n",
      " 1   user_id                 290807 non-null  object        \n",
      " 2   created_dt_msk          290807 non-null  datetime64[ns]\n",
      " 3   created_ts_msk          290807 non-null  datetime64[ns]\n",
      " 4   event_id                290807 non-null  int64         \n",
      " 5   cinema_circuit          290807 non-null  category      \n",
      " 6   age_limit               290807 non-null  category      \n",
      " 7   currency_code           290807 non-null  category      \n",
      " 8   device_type_canonical   290807 non-null  category      \n",
      " 9   revenue                 290807 non-null  float64       \n",
      " 10  service_name            290807 non-null  category      \n",
      " 11  tickets_count           290807 non-null  int64         \n",
      " 12  total                   290807 non-null  float64       \n",
      " 13  days_since_prev         268867 non-null  float64       \n",
      " 14  event_name              290569 non-null  object        \n",
      " 15  event_type_description  290569 non-null  category      \n",
      " 16  event_type_main         290569 non-null  category      \n",
      " 17  organizers              290569 non-null  object        \n",
      " 18  region_name             290569 non-null  category      \n",
      " 19  city_name               290569 non-null  category      \n",
      " 20  city_id                 290569 non-null  float64       \n",
      " 21  venue_id                290569 non-null  float64       \n",
      " 22  venue_name              290569 non-null  category      \n",
      " 23  venue_address           290569 non-null  category      \n",
      " 24  data                    290807 non-null  datetime64[ns]\n",
      " 25  nominal                 290807 non-null  int64         \n",
      " 26  curs                    290807 non-null  float64       \n",
      " 27  cdx                     290807 non-null  object        \n",
      " 28  revenue_rub             290807 non-null  float64       \n",
      " 29  one_ticket_revenue_rub  290807 non-null  float64       \n",
      " 30  month                   290807 non-null  int64         \n",
      " 31  season                  290807 non-null  object        \n",
      "dtypes: category(11), datetime64[ns](3), float64(8), int64(5), object(5)\n",
      "memory usage: 53.0+ MB\n"
     ]
    }
   ],
   "source": [
    "# Выводим информацию\n",
    "df.info()"
   ]
  },
  {
   "cell_type": "code",
   "execution_count": 34,
   "metadata": {},
   "outputs": [
    {
     "data": {
      "text/plain": [
       "count    290807.000000\n",
       "mean        555.145708\n",
       "std         875.310539\n",
       "min         -90.760000\n",
       "25%         113.410000\n",
       "50%         350.330000\n",
       "75%         802.050000\n",
       "max       81174.540000\n",
       "Name: revenue_rub, dtype: float64"
      ]
     },
     "execution_count": 34,
     "metadata": {},
     "output_type": "execute_result"
    }
   ],
   "source": [
    "# Проверяем распределение значений в поле revenue_rub\n",
    "df['revenue_rub'].describe()"
   ]
  },
  {
   "cell_type": "code",
   "execution_count": 35,
   "metadata": {},
   "outputs": [
    {
     "data": {
      "text/plain": [
       "2628.4217390400004"
      ]
     },
     "metadata": {},
     "output_type": "display_data"
    }
   ],
   "source": [
    "# Рассчитываем 99 процентиль\n",
    "q99 = df['revenue_rub'].quantile(0.99)\n",
    "display(q99)"
   ]
  },
  {
   "cell_type": "code",
   "execution_count": 36,
   "metadata": {},
   "outputs": [],
   "source": [
    "# Отбираем значения по 99 процентилю\n",
    "df_f = df[df['revenue_rub'] <= q99]"
   ]
  },
  {
   "cell_type": "code",
   "execution_count": 37,
   "metadata": {},
   "outputs": [
    {
     "name": "stdout",
     "output_type": "stream",
     "text": [
      "<class 'pandas.core.frame.DataFrame'>\n",
      "Int64Index: 287982 entries, 0 to 290848\n",
      "Data columns (total 32 columns):\n",
      " #   Column                  Non-Null Count   Dtype         \n",
      "---  ------                  --------------   -----         \n",
      " 0   order_id                287982 non-null  int64         \n",
      " 1   user_id                 287982 non-null  object        \n",
      " 2   created_dt_msk          287982 non-null  datetime64[ns]\n",
      " 3   created_ts_msk          287982 non-null  datetime64[ns]\n",
      " 4   event_id                287982 non-null  int64         \n",
      " 5   cinema_circuit          287982 non-null  category      \n",
      " 6   age_limit               287982 non-null  category      \n",
      " 7   currency_code           287982 non-null  category      \n",
      " 8   device_type_canonical   287982 non-null  category      \n",
      " 9   revenue                 287982 non-null  float64       \n",
      " 10  service_name            287982 non-null  category      \n",
      " 11  tickets_count           287982 non-null  int64         \n",
      " 12  total                   287982 non-null  float64       \n",
      " 13  days_since_prev         266240 non-null  float64       \n",
      " 14  event_name              287744 non-null  object        \n",
      " 15  event_type_description  287744 non-null  category      \n",
      " 16  event_type_main         287744 non-null  category      \n",
      " 17  organizers              287744 non-null  object        \n",
      " 18  region_name             287744 non-null  category      \n",
      " 19  city_name               287744 non-null  category      \n",
      " 20  city_id                 287744 non-null  float64       \n",
      " 21  venue_id                287744 non-null  float64       \n",
      " 22  venue_name              287744 non-null  category      \n",
      " 23  venue_address           287744 non-null  category      \n",
      " 24  data                    287982 non-null  datetime64[ns]\n",
      " 25  nominal                 287982 non-null  int64         \n",
      " 26  curs                    287982 non-null  float64       \n",
      " 27  cdx                     287982 non-null  object        \n",
      " 28  revenue_rub             287982 non-null  float64       \n",
      " 29  one_ticket_revenue_rub  287982 non-null  float64       \n",
      " 30  month                   287982 non-null  int64         \n",
      " 31  season                  287982 non-null  object        \n",
      "dtypes: category(11), datetime64[ns](3), float64(8), int64(5), object(5)\n",
      "memory usage: 52.5+ MB\n"
     ]
    }
   ],
   "source": [
    "# Выводим информацию\n",
    "df_f.info()"
   ]
  },
  {
   "cell_type": "code",
   "execution_count": 38,
   "metadata": {},
   "outputs": [
    {
     "data": {
      "text/plain": [
       "count    287982.000000\n",
       "mean          2.740425\n",
       "std           1.162903\n",
       "min           1.000000\n",
       "25%           2.000000\n",
       "50%           3.000000\n",
       "75%           3.000000\n",
       "max          57.000000\n",
       "Name: tickets_count, dtype: float64"
      ]
     },
     "execution_count": 38,
     "metadata": {},
     "output_type": "execute_result"
    }
   ],
   "source": [
    "# Проверяем распределение значений в поле tickets_count\n",
    "df_f['tickets_count'].describe()"
   ]
  },
  {
   "cell_type": "code",
   "execution_count": 39,
   "metadata": {},
   "outputs": [
    {
     "data": {
      "text/plain": [
       "6.0"
      ]
     },
     "metadata": {},
     "output_type": "display_data"
    }
   ],
   "source": [
    "# Рассчитываем 99 процентиль\n",
    "q99_t = df_f['tickets_count'].quantile(0.99)\n",
    "display(q99_t)"
   ]
  },
  {
   "cell_type": "code",
   "execution_count": 40,
   "metadata": {},
   "outputs": [],
   "source": [
    "# Отбираем значения по 99 процентилю\n",
    "df_2 = df_f[df_f['tickets_count'] <= q99_t]"
   ]
  },
  {
   "cell_type": "code",
   "execution_count": 41,
   "metadata": {},
   "outputs": [
    {
     "name": "stdout",
     "output_type": "stream",
     "text": [
      "<class 'pandas.core.frame.DataFrame'>\n",
      "Int64Index: 287802 entries, 0 to 290848\n",
      "Data columns (total 32 columns):\n",
      " #   Column                  Non-Null Count   Dtype         \n",
      "---  ------                  --------------   -----         \n",
      " 0   order_id                287802 non-null  int64         \n",
      " 1   user_id                 287802 non-null  object        \n",
      " 2   created_dt_msk          287802 non-null  datetime64[ns]\n",
      " 3   created_ts_msk          287802 non-null  datetime64[ns]\n",
      " 4   event_id                287802 non-null  int64         \n",
      " 5   cinema_circuit          287802 non-null  category      \n",
      " 6   age_limit               287802 non-null  category      \n",
      " 7   currency_code           287802 non-null  category      \n",
      " 8   device_type_canonical   287802 non-null  category      \n",
      " 9   revenue                 287802 non-null  float64       \n",
      " 10  service_name            287802 non-null  category      \n",
      " 11  tickets_count           287802 non-null  int64         \n",
      " 12  total                   287802 non-null  float64       \n",
      " 13  days_since_prev         266071 non-null  float64       \n",
      " 14  event_name              287564 non-null  object        \n",
      " 15  event_type_description  287564 non-null  category      \n",
      " 16  event_type_main         287564 non-null  category      \n",
      " 17  organizers              287564 non-null  object        \n",
      " 18  region_name             287564 non-null  category      \n",
      " 19  city_name               287564 non-null  category      \n",
      " 20  city_id                 287564 non-null  float64       \n",
      " 21  venue_id                287564 non-null  float64       \n",
      " 22  venue_name              287564 non-null  category      \n",
      " 23  venue_address           287564 non-null  category      \n",
      " 24  data                    287802 non-null  datetime64[ns]\n",
      " 25  nominal                 287802 non-null  int64         \n",
      " 26  curs                    287802 non-null  float64       \n",
      " 27  cdx                     287802 non-null  object        \n",
      " 28  revenue_rub             287802 non-null  float64       \n",
      " 29  one_ticket_revenue_rub  287802 non-null  float64       \n",
      " 30  month                   287802 non-null  int64         \n",
      " 31  season                  287802 non-null  object        \n",
      "dtypes: category(11), datetime64[ns](3), float64(8), int64(5), object(5)\n",
      "memory usage: 52.5+ MB\n"
     ]
    }
   ],
   "source": [
    "# Выводим информацию\n",
    "df_2.info()"
   ]
  },
  {
   "cell_type": "code",
   "execution_count": 42,
   "metadata": {},
   "outputs": [
    {
     "data": {
      "text/plain": [
       "3005"
      ]
     },
     "metadata": {},
     "output_type": "display_data"
    }
   ],
   "source": [
    "# Рассчитываем количество срезанных строк\n",
    "diff_data = len(df) - len(df_2)\n",
    "display(diff_data)"
   ]
  },
  {
   "cell_type": "code",
   "execution_count": 43,
   "metadata": {},
   "outputs": [
    {
     "data": {
      "text/plain": [
       "'Доля срезанных данных: 1.03%'"
      ]
     },
     "metadata": {},
     "output_type": "display_data"
    }
   ],
   "source": [
    "# Рассчитываем долю срезанных данных\n",
    "share_data = round(diff_data / len(df) * 100, 2)\n",
    "display(f\"Доля срезанных данных: {share_data}%\")"
   ]
  },
  {
   "cell_type": "markdown",
   "metadata": {},
   "source": [
    "### Промежуточный вывод"
   ]
  },
  {
   "cell_type": "markdown",
   "metadata": {},
   "source": [
    "Результаты предобработки данных:\n",
    "- Явных дубликатов не обнаружено. Было обнаружено 42 неявных дубликата и удалено;\n",
    "- Столбцы `created_dt_msk`, `created_ts_msk`, `data` были приведены к формату datetime;\n",
    "- Был добавлен новый столбец `revenue_rub` с конверсией валюты тенге в рубли;\n",
    "- Был добавлен новый столбец `one_ticket_revenue_rub` с выручкой от продажи одного билета;\n",
    "- Был добавлен новый столбец `month` с месяцом заказа;\n",
    "- Был добавлен новый столбец `season` с информацией о сезонности;\n",
    "- Отобрали значения данных по 99 процентилю в полях `revenue_rub` и `tickets_count` для исключения выбросов и аномалий;\n",
    "- Доля срезанных данных составила 1,03%."
   ]
  },
  {
   "cell_type": "markdown",
   "metadata": {},
   "source": [
    "## 3. Исследовательский анализ данных"
   ]
  },
  {
   "cell_type": "markdown",
   "metadata": {},
   "source": [
    "### 3.1. Анализ распределения заказов по сегментам и их сезонные изменения"
   ]
  },
  {
   "cell_type": "code",
   "execution_count": 44,
   "metadata": {},
   "outputs": [
    {
     "data": {
      "text/plain": [
       "month\n",
       "6     34064\n",
       "7     40427\n",
       "8     44567\n",
       "9     69384\n",
       "10    99360\n",
       "Name: order_id, dtype: int64"
      ]
     },
     "execution_count": 44,
     "metadata": {},
     "output_type": "execute_result"
    }
   ],
   "source": [
    "# Рассчитываем количество заказов по месяцам\n",
    "df_2.groupby('month')['order_id'].count()"
   ]
  },
  {
   "cell_type": "code",
   "execution_count": 45,
   "metadata": {},
   "outputs": [
    {
     "data": {
      "image/png": "[encoded data removed]",
      "text/plain": [
       "<Figure size 720x360 with 1 Axes>"
      ]
     },
     "metadata": {
      "needs_background": "light"
     },
     "output_type": "display_data"
    }
   ],
   "source": [
    "# Строим столбчатую диаграмму\n",
    "df_2.groupby('month')['order_id'].count().plot(kind='bar', figsize=(10, 5), rot=0)\n",
    "plt.title('Количество заказов по месяцам')\n",
    "plt.xlabel('Месяц')\n",
    "plt.ylabel('Количество заказов')\n",
    "plt.grid()\n",
    "plt.show()"
   ]
  },
  {
   "cell_type": "markdown",
   "metadata": {},
   "source": [
    "На графике хорошо видно, что от июня к ноябрю фиксируется рост. Более высокий рост фиксируется в сентябре и октябре."
   ]
  },
  {
   "cell_type": "code",
   "execution_count": 46,
   "metadata": {},
   "outputs": [
    {
     "data": {
      "text/plain": [
       "концерты    0.425372\n",
       "другое      0.271773\n",
       "театр       0.201536\n",
       "стендап     0.053415\n",
       "спорт       0.025277\n",
       "выставки    0.020330\n",
       "ёлки        0.002297\n",
       "Name: event_type_main, dtype: float64"
      ]
     },
     "metadata": {},
     "output_type": "display_data"
    }
   ],
   "source": [
    "# Рассчитываем распределение заказов по типу мероприятия для летнего периода\n",
    "summer_event = df_2['event_type_main'].loc[df['season'] == 'лето'].value_counts(normalize=True)\n",
    "display(summer_event)"
   ]
  },
  {
   "cell_type": "code",
   "execution_count": 47,
   "metadata": {},
   "outputs": [
    {
     "data": {
      "text/plain": [
       "концерты    0.372749\n",
       "театр       0.253393\n",
       "другое      0.196507\n",
       "спорт       0.111841\n",
       "стендап     0.041038\n",
       "выставки    0.014438\n",
       "ёлки        0.010034\n",
       "Name: event_type_main, dtype: float64"
      ]
     },
     "metadata": {},
     "output_type": "display_data"
    }
   ],
   "source": [
    "# Рассчитываем распределение заказов по типу мероприятия для осеннего периода\n",
    "autumn_event = df_2['event_type_main'].loc[df['season'] == 'осень'].value_counts(normalize=True)\n",
    "display(autumn_event)"
   ]
  },
  {
   "cell_type": "code",
   "execution_count": 48,
   "metadata": {},
   "outputs": [],
   "source": [
    "# Создаем датафрейм для удобства построения графика\n",
    "data_event = pd.DataFrame({'Лето': summer_event, 'Осень': autumn_event})"
   ]
  },
  {
   "cell_type": "code",
   "execution_count": 49,
   "metadata": {},
   "outputs": [
    {
     "data": {
      "image/png": "[encoded data removed]",
      "text/plain": [
       "<Figure size 720x360 with 1 Axes>"
      ]
     },
     "metadata": {
      "needs_background": "light"
     },
     "output_type": "display_data"
    }
   ],
   "source": [
    "# Строим столбчатую диаграмму\n",
    "data_event.sort_values(by='Лето', ascending=False).plot(kind='bar', figsize=(10, 5), rot=0)\n",
    "plt.title('Распределение заказов по типу мероприятия')\n",
    "plt.xlabel('Тип мероприятия')\n",
    "plt.ylabel('Доля заказов')\n",
    "plt.legend()\n",
    "plt.grid()\n",
    "plt.show()"
   ]
  },
  {
   "cell_type": "code",
   "execution_count": 50,
   "metadata": {},
   "outputs": [
    {
     "data": {
      "text/plain": [
       "mobile     0.807027\n",
       "desktop    0.192973\n",
       "Name: device_type_canonical, dtype: float64"
      ]
     },
     "metadata": {},
     "output_type": "display_data"
    }
   ],
   "source": [
    "# Рассчитываем распределение заказов по типу устройства для летнего периода\n",
    "summer_device = df_2['device_type_canonical'].loc[df['season'] == 'лето'].value_counts(normalize=True)\n",
    "display(summer_device)"
   ]
  },
  {
   "cell_type": "code",
   "execution_count": 51,
   "metadata": {},
   "outputs": [
    {
     "data": {
      "text/plain": [
       "mobile     0.796656\n",
       "desktop    0.203344\n",
       "Name: device_type_canonical, dtype: float64"
      ]
     },
     "metadata": {},
     "output_type": "display_data"
    }
   ],
   "source": [
    "# Рассчитываем распределение заказов по типу устройства для осенннего периода\n",
    "autumn_device = df_2['device_type_canonical'].loc[df['season'] == 'осень'].value_counts(normalize=True)\n",
    "display(autumn_device)"
   ]
  },
  {
   "cell_type": "code",
   "execution_count": 52,
   "metadata": {},
   "outputs": [],
   "source": [
    "# Создаем датафрейм для удобства построения графика\n",
    "data_device = pd.DataFrame({'Лето': summer_device, 'Осень': autumn_device})"
   ]
  },
  {
   "cell_type": "code",
   "execution_count": 53,
   "metadata": {},
   "outputs": [
    {
     "data": {
      "image/png": "[encoded data removed]",
      "text/plain": [
       "<Figure size 720x360 with 1 Axes>"
      ]
     },
     "metadata": {
      "needs_background": "light"
     },
     "output_type": "display_data"
    }
   ],
   "source": [
    "# Строим столбчатую диаграмму\n",
    "data_device.sort_values(by='Лето', ascending=False).plot(kind='bar', figsize=(10, 5), rot=0)\n",
    "plt.title('Распределение заказов по типу устройства')\n",
    "plt.xlabel('Тип устройства')\n",
    "plt.ylabel('Доля заказов')\n",
    "plt.legend()\n",
    "plt.grid()\n",
    "plt.show()"
   ]
  },
  {
   "cell_type": "code",
   "execution_count": 54,
   "metadata": {},
   "outputs": [
    {
     "data": {
      "text/plain": [
       "16    0.283719\n",
       "12    0.203489\n",
       "6     0.182902\n",
       "0     0.179602\n",
       "18    0.150288\n",
       "Name: age_limit, dtype: float64"
      ]
     },
     "metadata": {},
     "output_type": "display_data"
    }
   ],
   "source": [
    "# Рассчитываем распределение заказов по категории мероприятия по возрастному рейтингу для летнего периода\n",
    "summer_age = df_2['age_limit'].loc[df['season'] == 'лето'].value_counts(normalize=True)\n",
    "display(summer_age)"
   ]
  },
  {
   "cell_type": "code",
   "execution_count": 55,
   "metadata": {},
   "outputs": [
    {
     "data": {
      "text/plain": [
       "16    0.262077\n",
       "0     0.235925\n",
       "12    0.220974\n",
       "6     0.176931\n",
       "18    0.104093\n",
       "Name: age_limit, dtype: float64"
      ]
     },
     "metadata": {},
     "output_type": "display_data"
    }
   ],
   "source": [
    "# Рассчитываем распределение заказов по категории мероприятия по возрастному рейтингу для осеннего периода\n",
    "autumn_age = df_2['age_limit'].loc[df['season'] == 'осень'].value_counts(normalize=True)\n",
    "display(autumn_age)"
   ]
  },
  {
   "cell_type": "code",
   "execution_count": 56,
   "metadata": {},
   "outputs": [],
   "source": [
    "# Создаем датафрейм для удобства построения графика\n",
    "data_age = pd.DataFrame({'Лето': summer_age, 'Осень': autumn_age})"
   ]
  },
  {
   "cell_type": "code",
   "execution_count": 57,
   "metadata": {},
   "outputs": [
    {
     "data": {
      "image/png": "[encoded data removed]",
      "text/plain": [
       "<Figure size 720x360 with 1 Axes>"
      ]
     },
     "metadata": {
      "needs_background": "light"
     },
     "output_type": "display_data"
    }
   ],
   "source": [
    "# Строим столбчатую диаграмму\n",
    "data_age.sort_values(by='Лето', ascending=False).plot(kind='bar', figsize=(10, 5), rot=0)\n",
    "plt.title('Распределение заказов по категории мероприятия по возрастному рейтингу')\n",
    "plt.xlabel('Категория мероприятия по возрастному рейтингу')\n",
    "plt.ylabel('Доля заказов')\n",
    "plt.legend()\n",
    "plt.grid()\n",
    "plt.show()"
   ]
  },
  {
   "cell_type": "code",
   "execution_count": 58,
   "metadata": {},
   "outputs": [
    {
     "data": {
      "text/plain": [
       "event_type_main\n",
       "концерты    302.357275\n",
       "ёлки        271.436176\n",
       "стендап     218.585827\n",
       "театр       214.439657\n",
       "выставки     86.416198\n",
       "другое       77.400050\n",
       "спорт        50.744650\n",
       "Name: one_ticket_revenue_rub, dtype: float64"
      ]
     },
     "metadata": {},
     "output_type": "display_data"
    }
   ],
   "source": [
    "# Рассчитываем среднюю стоимость билета по типу мероприятия для летнего периода\n",
    "summer_avg = df_2.loc[df_2['season'] == 'лето'].groupby('event_type_main')['one_ticket_revenue_rub'].mean().sort_values(ascending=False)\n",
    "display(summer_avg)"
   ]
  },
  {
   "cell_type": "code",
   "execution_count": 59,
   "metadata": {},
   "outputs": [
    {
     "data": {
      "text/plain": [
       "event_type_main\n",
       "концерты    269.334954\n",
       "стендап     231.466954\n",
       "ёлки        230.289597\n",
       "театр       176.253495\n",
       "выставки     90.603610\n",
       "другое       76.059694\n",
       "спорт        49.986591\n",
       "Name: one_ticket_revenue_rub, dtype: float64"
      ]
     },
     "metadata": {},
     "output_type": "display_data"
    }
   ],
   "source": [
    "# Рассчитываем среднюю стоимость билета по типу мероприятия для осеннего периода\n",
    "autumn_avg = df_2.loc[df_2['season'] == 'осень'].groupby('event_type_main')['one_ticket_revenue_rub'].mean().sort_values(ascending=False)\n",
    "display(autumn_avg)"
   ]
  },
  {
   "cell_type": "code",
   "execution_count": 60,
   "metadata": {},
   "outputs": [
    {
     "data": {
      "text/plain": [
       "event_type_main\n",
       "выставки     4.85\n",
       "другое      -1.73\n",
       "концерты   -10.92\n",
       "спорт       -1.49\n",
       "стендап      5.89\n",
       "театр      -17.81\n",
       "ёлки       -15.16\n",
       "Name: one_ticket_revenue_rub, dtype: float64"
      ]
     },
     "metadata": {},
     "output_type": "display_data"
    }
   ],
   "source": [
    "# Рассчитываем относительное изменение осенних значений по сравнению с летними\n",
    "autumn_share = round((autumn_avg - summer_avg) / summer_avg * 100, 2)\n",
    "display(autumn_share)"
   ]
  },
  {
   "cell_type": "code",
   "execution_count": 61,
   "metadata": {},
   "outputs": [
    {
     "data": {
      "image/png": "[encoded data removed]",
      "text/plain": [
       "<Figure size 720x360 with 1 Axes>"
      ]
     },
     "metadata": {
      "needs_background": "light"
     },
     "output_type": "display_data"
    }
   ],
   "source": [
    "# Визуализируем относительное изменение осенних значений по сравнению с летними\n",
    "autumn_share.plot(kind='bar', figsize=(10, 5), rot=0)\n",
    "plt.title('Oтносительное изменение (%) средней выручки с одного билета осенью по сравнению с летом')\n",
    "plt.xlabel('Тип мероприятия')\n",
    "plt.ylabel('Относительное изменение (%)')\n",
    "plt.grid(axis='y')\n",
    "plt.show()"
   ]
  },
  {
   "cell_type": "code",
   "execution_count": 62,
   "metadata": {},
   "outputs": [],
   "source": [
    "# Создаем датафрейм для удобства построения графика\n",
    "data_avg = pd.DataFrame({'Лето': summer_avg, 'Осень': autumn_avg})"
   ]
  },
  {
   "cell_type": "code",
   "execution_count": 63,
   "metadata": {},
   "outputs": [
    {
     "data": {
      "image/png": "[encoded data removed]",
      "text/plain": [
       "<Figure size 720x360 with 1 Axes>"
      ]
     },
     "metadata": {
      "needs_background": "light"
     },
     "output_type": "display_data"
    }
   ],
   "source": [
    "# Строим столбчатую диаграмму\n",
    "data_avg.sort_values(by='Лето', ascending=False).plot(kind='bar', figsize=(10, 5), rot=0)\n",
    "plt.title('Распределение средней стоимости билета по типу мероприятия')\n",
    "plt.xlabel('Тип мероприятия')\n",
    "plt.ylabel('Средняя стоимость билета')\n",
    "plt.legend()\n",
    "plt.grid()\n",
    "plt.show()"
   ]
  },
  {
   "cell_type": "markdown",
   "metadata": {},
   "source": [
    "По результатам вычислений можно сделать вывод: \n",
    "- Осенью доля заказов упала в категориях `концерты`, `другое`, `стендап` и `выставки`, а увеличилась доля заказов в категориях `театр`, `спорт` и `елки`;\n",
    "- Осенью доля заказов упала в категориях мероприятий по возрастному рейтингу `6`, `16` и `18`, а увеличилась `0` и `12`;\n",
    "- Осенью доля заказов упала по типу устройства `mobile`, а увеличилась `desktop`;\n",
    "- Осенью средняя стоимость билета упала в категориях `концерты`, `елки`, `театр`, `другое`, `спорт`, а увеличилась `стендап`, `выставки`."
   ]
  },
  {
   "cell_type": "markdown",
   "metadata": {},
   "source": [
    "### 3.2. Осенняя активность пользователей"
   ]
  },
  {
   "cell_type": "code",
   "execution_count": 64,
   "metadata": {},
   "outputs": [],
   "source": [
    "# Фильтруем датафрейм только по осенним данным\n",
    "df_aut = df_2.loc[df['season'] == 'осень']"
   ]
  },
  {
   "cell_type": "code",
   "execution_count": 65,
   "metadata": {},
   "outputs": [
    {
     "data": {
      "text/html": [
       "<style type=\"text/css\">\n",
       "</style>\n",
       "<table id=\"T_ea13e_\">\n",
       "  <thead>\n",
       "    <tr>\n",
       "      <th class=\"blank level0\" >&nbsp;</th>\n",
       "      <th class=\"col_heading level0 col0\" >order_id</th>\n",
       "      <th class=\"col_heading level0 col1\" >user_id</th>\n",
       "      <th class=\"col_heading level0 col2\" >created_dt_msk</th>\n",
       "      <th class=\"col_heading level0 col3\" >created_ts_msk</th>\n",
       "      <th class=\"col_heading level0 col4\" >event_id</th>\n",
       "      <th class=\"col_heading level0 col5\" >cinema_circuit</th>\n",
       "      <th class=\"col_heading level0 col6\" >age_limit</th>\n",
       "      <th class=\"col_heading level0 col7\" >currency_code</th>\n",
       "      <th class=\"col_heading level0 col8\" >device_type_canonical</th>\n",
       "      <th class=\"col_heading level0 col9\" >revenue</th>\n",
       "      <th class=\"col_heading level0 col10\" >service_name</th>\n",
       "      <th class=\"col_heading level0 col11\" >tickets_count</th>\n",
       "      <th class=\"col_heading level0 col12\" >total</th>\n",
       "      <th class=\"col_heading level0 col13\" >days_since_prev</th>\n",
       "      <th class=\"col_heading level0 col14\" >event_name</th>\n",
       "      <th class=\"col_heading level0 col15\" >event_type_description</th>\n",
       "      <th class=\"col_heading level0 col16\" >event_type_main</th>\n",
       "      <th class=\"col_heading level0 col17\" >organizers</th>\n",
       "      <th class=\"col_heading level0 col18\" >region_name</th>\n",
       "      <th class=\"col_heading level0 col19\" >city_name</th>\n",
       "      <th class=\"col_heading level0 col20\" >city_id</th>\n",
       "      <th class=\"col_heading level0 col21\" >venue_id</th>\n",
       "      <th class=\"col_heading level0 col22\" >venue_name</th>\n",
       "      <th class=\"col_heading level0 col23\" >venue_address</th>\n",
       "      <th class=\"col_heading level0 col24\" >data</th>\n",
       "      <th class=\"col_heading level0 col25\" >nominal</th>\n",
       "      <th class=\"col_heading level0 col26\" >curs</th>\n",
       "      <th class=\"col_heading level0 col27\" >cdx</th>\n",
       "      <th class=\"col_heading level0 col28\" >revenue_rub</th>\n",
       "      <th class=\"col_heading level0 col29\" >one_ticket_revenue_rub</th>\n",
       "      <th class=\"col_heading level0 col30\" >month</th>\n",
       "      <th class=\"col_heading level0 col31\" >season</th>\n",
       "    </tr>\n",
       "  </thead>\n",
       "  <tbody>\n",
       "    <tr>\n",
       "      <th id=\"T_ea13e_level0_row0\" class=\"row_heading level0 row0\" >2</th>\n",
       "      <td id=\"T_ea13e_row0_col0\" class=\"data row0 col0\" >7292370</td>\n",
       "      <td id=\"T_ea13e_row0_col1\" class=\"data row0 col1\" >0005ca5e93f2cf4</td>\n",
       "      <td id=\"T_ea13e_row0_col2\" class=\"data row0 col2\" >2024-10-06 00:00:00</td>\n",
       "      <td id=\"T_ea13e_row0_col3\" class=\"data row0 col3\" >2024-10-06 13:56:02</td>\n",
       "      <td id=\"T_ea13e_row0_col4\" class=\"data row0 col4\" >578454</td>\n",
       "      <td id=\"T_ea13e_row0_col5\" class=\"data row0 col5\" >нет</td>\n",
       "      <td id=\"T_ea13e_row0_col6\" class=\"data row0 col6\" >0</td>\n",
       "      <td id=\"T_ea13e_row0_col7\" class=\"data row0 col7\" >rub</td>\n",
       "      <td id=\"T_ea13e_row0_col8\" class=\"data row0 col8\" >mobile</td>\n",
       "      <td id=\"T_ea13e_row0_col9\" class=\"data row0 col9\" >1258.570000</td>\n",
       "      <td id=\"T_ea13e_row0_col10\" class=\"data row0 col10\" >За билетом!</td>\n",
       "      <td id=\"T_ea13e_row0_col11\" class=\"data row0 col11\" >4</td>\n",
       "      <td id=\"T_ea13e_row0_col12\" class=\"data row0 col12\" >13984.160000</td>\n",
       "      <td id=\"T_ea13e_row0_col13\" class=\"data row0 col13\" >75.000000</td>\n",
       "      <td id=\"T_ea13e_row0_col14\" class=\"data row0 col14\" >01f3fb7b-ed07-4f94-b1d3-9a2e1ee5a8ca</td>\n",
       "      <td id=\"T_ea13e_row0_col15\" class=\"data row0 col15\" >цирковое шоу</td>\n",
       "      <td id=\"T_ea13e_row0_col16\" class=\"data row0 col16\" >другое</td>\n",
       "      <td id=\"T_ea13e_row0_col17\" class=\"data row0 col17\" >№1540</td>\n",
       "      <td id=\"T_ea13e_row0_col18\" class=\"data row0 col18\" >Каменевский регион</td>\n",
       "      <td id=\"T_ea13e_row0_col19\" class=\"data row0 col19\" >Глиногорск</td>\n",
       "      <td id=\"T_ea13e_row0_col20\" class=\"data row0 col20\" >213.000000</td>\n",
       "      <td id=\"T_ea13e_row0_col21\" class=\"data row0 col21\" >4507.000000</td>\n",
       "      <td id=\"T_ea13e_row0_col22\" class=\"data row0 col22\" >Училище искусств \"Нирвана\" Инк</td>\n",
       "      <td id=\"T_ea13e_row0_col23\" class=\"data row0 col23\" >алл. Юбилейная, д. 5/6</td>\n",
       "      <td id=\"T_ea13e_row0_col24\" class=\"data row0 col24\" >2024-10-06 00:00:00</td>\n",
       "      <td id=\"T_ea13e_row0_col25\" class=\"data row0 col25\" >100</td>\n",
       "      <td id=\"T_ea13e_row0_col26\" class=\"data row0 col26\" >19.647500</td>\n",
       "      <td id=\"T_ea13e_row0_col27\" class=\"data row0 col27\" >kzt</td>\n",
       "      <td id=\"T_ea13e_row0_col28\" class=\"data row0 col28\" >1258.570000</td>\n",
       "      <td id=\"T_ea13e_row0_col29\" class=\"data row0 col29\" >314.642500</td>\n",
       "      <td id=\"T_ea13e_row0_col30\" class=\"data row0 col30\" >10</td>\n",
       "      <td id=\"T_ea13e_row0_col31\" class=\"data row0 col31\" >осень</td>\n",
       "    </tr>\n",
       "    <tr>\n",
       "      <th id=\"T_ea13e_level0_row1\" class=\"row_heading level0 row1\" >4</th>\n",
       "      <td id=\"T_ea13e_row1_col0\" class=\"data row1 col0\" >972400</td>\n",
       "      <td id=\"T_ea13e_row1_col1\" class=\"data row1 col1\" >000898990054619</td>\n",
       "      <td id=\"T_ea13e_row1_col2\" class=\"data row1 col2\" >2024-10-04 00:00:00</td>\n",
       "      <td id=\"T_ea13e_row1_col3\" class=\"data row1 col3\" >2024-10-04 22:33:15</td>\n",
       "      <td id=\"T_ea13e_row1_col4\" class=\"data row1 col4\" >509453</td>\n",
       "      <td id=\"T_ea13e_row1_col5\" class=\"data row1 col5\" >нет</td>\n",
       "      <td id=\"T_ea13e_row1_col6\" class=\"data row1 col6\" >18</td>\n",
       "      <td id=\"T_ea13e_row1_col7\" class=\"data row1 col7\" >rub</td>\n",
       "      <td id=\"T_ea13e_row1_col8\" class=\"data row1 col8\" >mobile</td>\n",
       "      <td id=\"T_ea13e_row1_col9\" class=\"data row1 col9\" >1390.410000</td>\n",
       "      <td id=\"T_ea13e_row1_col10\" class=\"data row1 col10\" >Билеты без проблем</td>\n",
       "      <td id=\"T_ea13e_row1_col11\" class=\"data row1 col11\" >3</td>\n",
       "      <td id=\"T_ea13e_row1_col12\" class=\"data row1 col12\" >10695.430000</td>\n",
       "      <td id=\"T_ea13e_row1_col13\" class=\"data row1 col13\" >83.000000</td>\n",
       "      <td id=\"T_ea13e_row1_col14\" class=\"data row1 col14\" >10d805d3-9809-4d8a-834e-225b7d03f95d</td>\n",
       "      <td id=\"T_ea13e_row1_col15\" class=\"data row1 col15\" >шоу</td>\n",
       "      <td id=\"T_ea13e_row1_col16\" class=\"data row1 col16\" >стендап</td>\n",
       "      <td id=\"T_ea13e_row1_col17\" class=\"data row1 col17\" >№832</td>\n",
       "      <td id=\"T_ea13e_row1_col18\" class=\"data row1 col18\" >Озернинский край</td>\n",
       "      <td id=\"T_ea13e_row1_col19\" class=\"data row1 col19\" >Родниковецк</td>\n",
       "      <td id=\"T_ea13e_row1_col20\" class=\"data row1 col20\" >240.000000</td>\n",
       "      <td id=\"T_ea13e_row1_col21\" class=\"data row1 col21\" >1896.000000</td>\n",
       "      <td id=\"T_ea13e_row1_col22\" class=\"data row1 col22\" >Театр кукол \"Огни\" Инкорпорэйтед</td>\n",
       "      <td id=\"T_ea13e_row1_col23\" class=\"data row1 col23\" >ш. Набережное, д. 595 стр. 8</td>\n",
       "      <td id=\"T_ea13e_row1_col24\" class=\"data row1 col24\" >2024-10-04 00:00:00</td>\n",
       "      <td id=\"T_ea13e_row1_col25\" class=\"data row1 col25\" >100</td>\n",
       "      <td id=\"T_ea13e_row1_col26\" class=\"data row1 col26\" >19.664800</td>\n",
       "      <td id=\"T_ea13e_row1_col27\" class=\"data row1 col27\" >kzt</td>\n",
       "      <td id=\"T_ea13e_row1_col28\" class=\"data row1 col28\" >1390.410000</td>\n",
       "      <td id=\"T_ea13e_row1_col29\" class=\"data row1 col29\" >463.470000</td>\n",
       "      <td id=\"T_ea13e_row1_col30\" class=\"data row1 col30\" >10</td>\n",
       "      <td id=\"T_ea13e_row1_col31\" class=\"data row1 col31\" >осень</td>\n",
       "    </tr>\n",
       "    <tr>\n",
       "      <th id=\"T_ea13e_level0_row2\" class=\"row_heading level0 row2\" >5</th>\n",
       "      <td id=\"T_ea13e_row2_col0\" class=\"data row2 col0\" >2613713</td>\n",
       "      <td id=\"T_ea13e_row2_col1\" class=\"data row2 col1\" >000898990054619</td>\n",
       "      <td id=\"T_ea13e_row2_col2\" class=\"data row2 col2\" >2024-10-23 00:00:00</td>\n",
       "      <td id=\"T_ea13e_row2_col3\" class=\"data row2 col3\" >2024-10-23 15:12:00</td>\n",
       "      <td id=\"T_ea13e_row2_col4\" class=\"data row2 col4\" >500862</td>\n",
       "      <td id=\"T_ea13e_row2_col5\" class=\"data row2 col5\" >нет</td>\n",
       "      <td id=\"T_ea13e_row2_col6\" class=\"data row2 col6\" >12</td>\n",
       "      <td id=\"T_ea13e_row2_col7\" class=\"data row2 col7\" >rub</td>\n",
       "      <td id=\"T_ea13e_row2_col8\" class=\"data row2 col8\" >mobile</td>\n",
       "      <td id=\"T_ea13e_row2_col9\" class=\"data row2 col9\" >902.740000</td>\n",
       "      <td id=\"T_ea13e_row2_col10\" class=\"data row2 col10\" >Облачко</td>\n",
       "      <td id=\"T_ea13e_row2_col11\" class=\"data row2 col11\" >3</td>\n",
       "      <td id=\"T_ea13e_row2_col12\" class=\"data row2 col12\" >8206.700000</td>\n",
       "      <td id=\"T_ea13e_row2_col13\" class=\"data row2 col13\" >19.000000</td>\n",
       "      <td id=\"T_ea13e_row2_col14\" class=\"data row2 col14\" >9cc55c15-4375-4129-9979-3129688ba1b4</td>\n",
       "      <td id=\"T_ea13e_row2_col15\" class=\"data row2 col15\" >концерт</td>\n",
       "      <td id=\"T_ea13e_row2_col16\" class=\"data row2 col16\" >концерты</td>\n",
       "      <td id=\"T_ea13e_row2_col17\" class=\"data row2 col17\" >№1020</td>\n",
       "      <td id=\"T_ea13e_row2_col18\" class=\"data row2 col18\" >Лугоградская область</td>\n",
       "      <td id=\"T_ea13e_row2_col19\" class=\"data row2 col19\" >Кристалевск</td>\n",
       "      <td id=\"T_ea13e_row2_col20\" class=\"data row2 col20\" >193.000000</td>\n",
       "      <td id=\"T_ea13e_row2_col21\" class=\"data row2 col21\" >930.000000</td>\n",
       "      <td id=\"T_ea13e_row2_col22\" class=\"data row2 col22\" >Школа живописи \"Солнце\" Групп</td>\n",
       "      <td id=\"T_ea13e_row2_col23\" class=\"data row2 col23\" >бул. Отрадный, д. 4 стр. 1</td>\n",
       "      <td id=\"T_ea13e_row2_col24\" class=\"data row2 col24\" >2024-10-23 00:00:00</td>\n",
       "      <td id=\"T_ea13e_row2_col25\" class=\"data row2 col25\" >100</td>\n",
       "      <td id=\"T_ea13e_row2_col26\" class=\"data row2 col26\" >20.053100</td>\n",
       "      <td id=\"T_ea13e_row2_col27\" class=\"data row2 col27\" >kzt</td>\n",
       "      <td id=\"T_ea13e_row2_col28\" class=\"data row2 col28\" >902.740000</td>\n",
       "      <td id=\"T_ea13e_row2_col29\" class=\"data row2 col29\" >300.913333</td>\n",
       "      <td id=\"T_ea13e_row2_col30\" class=\"data row2 col30\" >10</td>\n",
       "      <td id=\"T_ea13e_row2_col31\" class=\"data row2 col31\" >осень</td>\n",
       "    </tr>\n",
       "    <tr>\n",
       "      <th id=\"T_ea13e_level0_row3\" class=\"row_heading level0 row3\" >7</th>\n",
       "      <td id=\"T_ea13e_row3_col0\" class=\"data row3 col0\" >4657981</td>\n",
       "      <td id=\"T_ea13e_row3_col1\" class=\"data row3 col1\" >000a55a418c128c</td>\n",
       "      <td id=\"T_ea13e_row3_col2\" class=\"data row3 col2\" >2024-09-29 00:00:00</td>\n",
       "      <td id=\"T_ea13e_row3_col3\" class=\"data row3 col3\" >2024-09-29 19:39:12</td>\n",
       "      <td id=\"T_ea13e_row3_col4\" class=\"data row3 col4\" >265857</td>\n",
       "      <td id=\"T_ea13e_row3_col5\" class=\"data row3 col5\" >нет</td>\n",
       "      <td id=\"T_ea13e_row3_col6\" class=\"data row3 col6\" >12</td>\n",
       "      <td id=\"T_ea13e_row3_col7\" class=\"data row3 col7\" >rub</td>\n",
       "      <td id=\"T_ea13e_row3_col8\" class=\"data row3 col8\" >mobile</td>\n",
       "      <td id=\"T_ea13e_row3_col9\" class=\"data row3 col9\" >47.780000</td>\n",
       "      <td id=\"T_ea13e_row3_col10\" class=\"data row3 col10\" >Лучшие билеты</td>\n",
       "      <td id=\"T_ea13e_row3_col11\" class=\"data row3 col11\" >1</td>\n",
       "      <td id=\"T_ea13e_row3_col12\" class=\"data row3 col12\" >955.520000</td>\n",
       "      <td id=\"T_ea13e_row3_col13\" class=\"data row3 col13\" >nan</td>\n",
       "      <td id=\"T_ea13e_row3_col14\" class=\"data row3 col14\" >0d876e01-851e-458b-ba61-753e0e0c4063</td>\n",
       "      <td id=\"T_ea13e_row3_col15\" class=\"data row3 col15\" >спектакль</td>\n",
       "      <td id=\"T_ea13e_row3_col16\" class=\"data row3 col16\" >театр</td>\n",
       "      <td id=\"T_ea13e_row3_col17\" class=\"data row3 col17\" >№1637</td>\n",
       "      <td id=\"T_ea13e_row3_col18\" class=\"data row3 col18\" >Поленовский край</td>\n",
       "      <td id=\"T_ea13e_row3_col19\" class=\"data row3 col19\" >Дальнозолотск</td>\n",
       "      <td id=\"T_ea13e_row3_col20\" class=\"data row3 col20\" >18.000000</td>\n",
       "      <td id=\"T_ea13e_row3_col21\" class=\"data row3 col21\" >3159.000000</td>\n",
       "      <td id=\"T_ea13e_row3_col22\" class=\"data row3 col22\" >Клуб начинающих писателей \"Таблицы\" Групп</td>\n",
       "      <td id=\"T_ea13e_row3_col23\" class=\"data row3 col23\" >ул. О.Кошевого, д. 7</td>\n",
       "      <td id=\"T_ea13e_row3_col24\" class=\"data row3 col24\" >2024-09-29 00:00:00</td>\n",
       "      <td id=\"T_ea13e_row3_col25\" class=\"data row3 col25\" >100</td>\n",
       "      <td id=\"T_ea13e_row3_col26\" class=\"data row3 col26\" >19.374100</td>\n",
       "      <td id=\"T_ea13e_row3_col27\" class=\"data row3 col27\" >kzt</td>\n",
       "      <td id=\"T_ea13e_row3_col28\" class=\"data row3 col28\" >47.780000</td>\n",
       "      <td id=\"T_ea13e_row3_col29\" class=\"data row3 col29\" >47.780000</td>\n",
       "      <td id=\"T_ea13e_row3_col30\" class=\"data row3 col30\" >9</td>\n",
       "      <td id=\"T_ea13e_row3_col31\" class=\"data row3 col31\" >осень</td>\n",
       "    </tr>\n",
       "    <tr>\n",
       "      <th id=\"T_ea13e_level0_row4\" class=\"row_heading level0 row4\" >8</th>\n",
       "      <td id=\"T_ea13e_row4_col0\" class=\"data row4 col0\" >4657952</td>\n",
       "      <td id=\"T_ea13e_row4_col1\" class=\"data row4 col1\" >000a55a418c128c</td>\n",
       "      <td id=\"T_ea13e_row4_col2\" class=\"data row4 col2\" >2024-10-15 00:00:00</td>\n",
       "      <td id=\"T_ea13e_row4_col3\" class=\"data row4 col3\" >2024-10-15 10:29:04</td>\n",
       "      <td id=\"T_ea13e_row4_col4\" class=\"data row4 col4\" >271579</td>\n",
       "      <td id=\"T_ea13e_row4_col5\" class=\"data row4 col5\" >нет</td>\n",
       "      <td id=\"T_ea13e_row4_col6\" class=\"data row4 col6\" >12</td>\n",
       "      <td id=\"T_ea13e_row4_col7\" class=\"data row4 col7\" >rub</td>\n",
       "      <td id=\"T_ea13e_row4_col8\" class=\"data row4 col8\" >mobile</td>\n",
       "      <td id=\"T_ea13e_row4_col9\" class=\"data row4 col9\" >74.840000</td>\n",
       "      <td id=\"T_ea13e_row4_col10\" class=\"data row4 col10\" >Лучшие билеты</td>\n",
       "      <td id=\"T_ea13e_row4_col11\" class=\"data row4 col11\" >2</td>\n",
       "      <td id=\"T_ea13e_row4_col12\" class=\"data row4 col12\" >2494.730000</td>\n",
       "      <td id=\"T_ea13e_row4_col13\" class=\"data row4 col13\" >16.000000</td>\n",
       "      <td id=\"T_ea13e_row4_col14\" class=\"data row4 col14\" >ddc795f8-7ef8-4eb0-b299-cb3e6ee24ba1</td>\n",
       "      <td id=\"T_ea13e_row4_col15\" class=\"data row4 col15\" >спектакль</td>\n",
       "      <td id=\"T_ea13e_row4_col16\" class=\"data row4 col16\" >театр</td>\n",
       "      <td id=\"T_ea13e_row4_col17\" class=\"data row4 col17\" >№1637</td>\n",
       "      <td id=\"T_ea13e_row4_col18\" class=\"data row4 col18\" >Поленовский край</td>\n",
       "      <td id=\"T_ea13e_row4_col19\" class=\"data row4 col19\" >Дальнозолотск</td>\n",
       "      <td id=\"T_ea13e_row4_col20\" class=\"data row4 col20\" >18.000000</td>\n",
       "      <td id=\"T_ea13e_row4_col21\" class=\"data row4 col21\" >3159.000000</td>\n",
       "      <td id=\"T_ea13e_row4_col22\" class=\"data row4 col22\" >Клуб начинающих писателей \"Таблицы\" Групп</td>\n",
       "      <td id=\"T_ea13e_row4_col23\" class=\"data row4 col23\" >ул. О.Кошевого, д. 7</td>\n",
       "      <td id=\"T_ea13e_row4_col24\" class=\"data row4 col24\" >2024-10-15 00:00:00</td>\n",
       "      <td id=\"T_ea13e_row4_col25\" class=\"data row4 col25\" >100</td>\n",
       "      <td id=\"T_ea13e_row4_col26\" class=\"data row4 col26\" >19.718500</td>\n",
       "      <td id=\"T_ea13e_row4_col27\" class=\"data row4 col27\" >kzt</td>\n",
       "      <td id=\"T_ea13e_row4_col28\" class=\"data row4 col28\" >74.840000</td>\n",
       "      <td id=\"T_ea13e_row4_col29\" class=\"data row4 col29\" >37.420000</td>\n",
       "      <td id=\"T_ea13e_row4_col30\" class=\"data row4 col30\" >10</td>\n",
       "      <td id=\"T_ea13e_row4_col31\" class=\"data row4 col31\" >осень</td>\n",
       "    </tr>\n",
       "  </tbody>\n",
       "</table>\n"
      ],
      "text/plain": [
       "<pandas.io.formats.style.Styler at 0x2ad5759da60>"
      ]
     },
     "execution_count": 65,
     "metadata": {},
     "output_type": "execute_result"
    }
   ],
   "source": [
    "# Выводим первые строки\n",
    "df_aut.head().style"
   ]
  },
  {
   "cell_type": "code",
   "execution_count": 66,
   "metadata": {},
   "outputs": [
    {
     "data": {
      "text/html": [
       "<div>\n",
       "<style scoped>\n",
       "    .dataframe tbody tr th:only-of-type {\n",
       "        vertical-align: middle;\n",
       "    }\n",
       "\n",
       "    .dataframe tbody tr th {\n",
       "        vertical-align: top;\n",
       "    }\n",
       "\n",
       "    .dataframe thead th {\n",
       "        text-align: right;\n",
       "    }\n",
       "</style>\n",
       "<table border=\"1\" class=\"dataframe\">\n",
       "  <thead>\n",
       "    <tr style=\"text-align: right;\">\n",
       "      <th></th>\n",
       "      <th>total_orders</th>\n",
       "      <th>unique_users</th>\n",
       "      <th>total_revenue</th>\n",
       "      <th>total_tickets</th>\n",
       "    </tr>\n",
       "    <tr>\n",
       "      <th>created_dt_msk</th>\n",
       "      <th></th>\n",
       "      <th></th>\n",
       "      <th></th>\n",
       "      <th></th>\n",
       "    </tr>\n",
       "  </thead>\n",
       "  <tbody>\n",
       "    <tr>\n",
       "      <th>2024-09-01</th>\n",
       "      <td>1331</td>\n",
       "      <td>565</td>\n",
       "      <td>743946.98</td>\n",
       "      <td>3733</td>\n",
       "    </tr>\n",
       "    <tr>\n",
       "      <th>2024-09-02</th>\n",
       "      <td>1380</td>\n",
       "      <td>574</td>\n",
       "      <td>777955.47</td>\n",
       "      <td>3704</td>\n",
       "    </tr>\n",
       "    <tr>\n",
       "      <th>2024-09-03</th>\n",
       "      <td>5114</td>\n",
       "      <td>778</td>\n",
       "      <td>1236893.87</td>\n",
       "      <td>15301</td>\n",
       "    </tr>\n",
       "    <tr>\n",
       "      <th>2024-09-04</th>\n",
       "      <td>1774</td>\n",
       "      <td>685</td>\n",
       "      <td>953868.47</td>\n",
       "      <td>4799</td>\n",
       "    </tr>\n",
       "    <tr>\n",
       "      <th>2024-09-05</th>\n",
       "      <td>1941</td>\n",
       "      <td>740</td>\n",
       "      <td>1106089.65</td>\n",
       "      <td>5181</td>\n",
       "    </tr>\n",
       "    <tr>\n",
       "      <th>...</th>\n",
       "      <td>...</td>\n",
       "      <td>...</td>\n",
       "      <td>...</td>\n",
       "      <td>...</td>\n",
       "    </tr>\n",
       "    <tr>\n",
       "      <th>2024-10-27</th>\n",
       "      <td>2853</td>\n",
       "      <td>1036</td>\n",
       "      <td>1485794.63</td>\n",
       "      <td>7883</td>\n",
       "    </tr>\n",
       "    <tr>\n",
       "      <th>2024-10-28</th>\n",
       "      <td>2839</td>\n",
       "      <td>985</td>\n",
       "      <td>1373823.41</td>\n",
       "      <td>7925</td>\n",
       "    </tr>\n",
       "    <tr>\n",
       "      <th>2024-10-29</th>\n",
       "      <td>2839</td>\n",
       "      <td>999</td>\n",
       "      <td>1385215.20</td>\n",
       "      <td>7964</td>\n",
       "    </tr>\n",
       "    <tr>\n",
       "      <th>2024-10-30</th>\n",
       "      <td>2931</td>\n",
       "      <td>1041</td>\n",
       "      <td>1528716.94</td>\n",
       "      <td>8077</td>\n",
       "    </tr>\n",
       "    <tr>\n",
       "      <th>2024-10-31</th>\n",
       "      <td>5963</td>\n",
       "      <td>1275</td>\n",
       "      <td>2373618.43</td>\n",
       "      <td>15130</td>\n",
       "    </tr>\n",
       "  </tbody>\n",
       "</table>\n",
       "<p>61 rows × 4 columns</p>\n",
       "</div>"
      ],
      "text/plain": [
       "                total_orders  unique_users  total_revenue  total_tickets\n",
       "created_dt_msk                                                          \n",
       "2024-09-01              1331           565      743946.98           3733\n",
       "2024-09-02              1380           574      777955.47           3704\n",
       "2024-09-03              5114           778     1236893.87          15301\n",
       "2024-09-04              1774           685      953868.47           4799\n",
       "2024-09-05              1941           740     1106089.65           5181\n",
       "...                      ...           ...            ...            ...\n",
       "2024-10-27              2853          1036     1485794.63           7883\n",
       "2024-10-28              2839           985     1373823.41           7925\n",
       "2024-10-29              2839           999     1385215.20           7964\n",
       "2024-10-30              2931          1041     1528716.94           8077\n",
       "2024-10-31              5963          1275     2373618.43          15130\n",
       "\n",
       "[61 rows x 4 columns]"
      ]
     },
     "metadata": {},
     "output_type": "display_data"
    }
   ],
   "source": [
    "# Создаем сводную таблицу, группируя данные по дням\n",
    "pivot_table = df_aut.groupby('created_dt_msk').agg(\n",
    "    total_orders = ('order_id', 'count')\n",
    "    , unique_users = ('user_id', 'nunique')\n",
    "    , total_revenue = ('revenue', 'sum')\n",
    "    , total_tickets = ('tickets_count', 'sum')\n",
    ")\n",
    "display(pivot_table)"
   ]
  },
  {
   "cell_type": "code",
   "execution_count": 67,
   "metadata": {},
   "outputs": [],
   "source": [
    "# Рассчитываем среднее число заказов на одного пользователя\n",
    "pivot_table['avg_orders_per_user'] = pivot_table['total_orders'] / pivot_table['unique_users']"
   ]
  },
  {
   "cell_type": "code",
   "execution_count": 68,
   "metadata": {},
   "outputs": [
    {
     "data": {
      "text/html": [
       "<div>\n",
       "<style scoped>\n",
       "    .dataframe tbody tr th:only-of-type {\n",
       "        vertical-align: middle;\n",
       "    }\n",
       "\n",
       "    .dataframe tbody tr th {\n",
       "        vertical-align: top;\n",
       "    }\n",
       "\n",
       "    .dataframe thead th {\n",
       "        text-align: right;\n",
       "    }\n",
       "</style>\n",
       "<table border=\"1\" class=\"dataframe\">\n",
       "  <thead>\n",
       "    <tr style=\"text-align: right;\">\n",
       "      <th></th>\n",
       "      <th>total_orders</th>\n",
       "      <th>unique_users</th>\n",
       "      <th>total_revenue</th>\n",
       "      <th>total_tickets</th>\n",
       "      <th>avg_orders_per_user</th>\n",
       "      <th>avg_ticket_price</th>\n",
       "    </tr>\n",
       "    <tr>\n",
       "      <th>created_dt_msk</th>\n",
       "      <th></th>\n",
       "      <th></th>\n",
       "      <th></th>\n",
       "      <th></th>\n",
       "      <th></th>\n",
       "      <th></th>\n",
       "    </tr>\n",
       "  </thead>\n",
       "  <tbody>\n",
       "    <tr>\n",
       "      <th>2024-09-01</th>\n",
       "      <td>1331</td>\n",
       "      <td>565</td>\n",
       "      <td>743946.98</td>\n",
       "      <td>3733</td>\n",
       "      <td>2.355752</td>\n",
       "      <td>199.289306</td>\n",
       "    </tr>\n",
       "    <tr>\n",
       "      <th>2024-09-02</th>\n",
       "      <td>1380</td>\n",
       "      <td>574</td>\n",
       "      <td>777955.47</td>\n",
       "      <td>3704</td>\n",
       "      <td>2.404181</td>\n",
       "      <td>210.031174</td>\n",
       "    </tr>\n",
       "    <tr>\n",
       "      <th>2024-09-03</th>\n",
       "      <td>5114</td>\n",
       "      <td>778</td>\n",
       "      <td>1236893.87</td>\n",
       "      <td>15301</td>\n",
       "      <td>6.573265</td>\n",
       "      <td>80.837453</td>\n",
       "    </tr>\n",
       "    <tr>\n",
       "      <th>2024-09-04</th>\n",
       "      <td>1774</td>\n",
       "      <td>685</td>\n",
       "      <td>953868.47</td>\n",
       "      <td>4799</td>\n",
       "      <td>2.589781</td>\n",
       "      <td>198.764007</td>\n",
       "    </tr>\n",
       "    <tr>\n",
       "      <th>2024-09-05</th>\n",
       "      <td>1941</td>\n",
       "      <td>740</td>\n",
       "      <td>1106089.65</td>\n",
       "      <td>5181</td>\n",
       "      <td>2.622973</td>\n",
       "      <td>213.489606</td>\n",
       "    </tr>\n",
       "    <tr>\n",
       "      <th>...</th>\n",
       "      <td>...</td>\n",
       "      <td>...</td>\n",
       "      <td>...</td>\n",
       "      <td>...</td>\n",
       "      <td>...</td>\n",
       "      <td>...</td>\n",
       "    </tr>\n",
       "    <tr>\n",
       "      <th>2024-10-27</th>\n",
       "      <td>2853</td>\n",
       "      <td>1036</td>\n",
       "      <td>1485794.63</td>\n",
       "      <td>7883</td>\n",
       "      <td>2.753861</td>\n",
       "      <td>188.480861</td>\n",
       "    </tr>\n",
       "    <tr>\n",
       "      <th>2024-10-28</th>\n",
       "      <td>2839</td>\n",
       "      <td>985</td>\n",
       "      <td>1373823.41</td>\n",
       "      <td>7925</td>\n",
       "      <td>2.882234</td>\n",
       "      <td>173.353112</td>\n",
       "    </tr>\n",
       "    <tr>\n",
       "      <th>2024-10-29</th>\n",
       "      <td>2839</td>\n",
       "      <td>999</td>\n",
       "      <td>1385215.20</td>\n",
       "      <td>7964</td>\n",
       "      <td>2.841842</td>\n",
       "      <td>173.934606</td>\n",
       "    </tr>\n",
       "    <tr>\n",
       "      <th>2024-10-30</th>\n",
       "      <td>2931</td>\n",
       "      <td>1041</td>\n",
       "      <td>1528716.94</td>\n",
       "      <td>8077</td>\n",
       "      <td>2.815562</td>\n",
       "      <td>189.267914</td>\n",
       "    </tr>\n",
       "    <tr>\n",
       "      <th>2024-10-31</th>\n",
       "      <td>5963</td>\n",
       "      <td>1275</td>\n",
       "      <td>2373618.43</td>\n",
       "      <td>15130</td>\n",
       "      <td>4.676863</td>\n",
       "      <td>156.881588</td>\n",
       "    </tr>\n",
       "  </tbody>\n",
       "</table>\n",
       "<p>61 rows × 6 columns</p>\n",
       "</div>"
      ],
      "text/plain": [
       "                total_orders  unique_users  total_revenue  total_tickets  \\\n",
       "created_dt_msk                                                             \n",
       "2024-09-01              1331           565      743946.98           3733   \n",
       "2024-09-02              1380           574      777955.47           3704   \n",
       "2024-09-03              5114           778     1236893.87          15301   \n",
       "2024-09-04              1774           685      953868.47           4799   \n",
       "2024-09-05              1941           740     1106089.65           5181   \n",
       "...                      ...           ...            ...            ...   \n",
       "2024-10-27              2853          1036     1485794.63           7883   \n",
       "2024-10-28              2839           985     1373823.41           7925   \n",
       "2024-10-29              2839           999     1385215.20           7964   \n",
       "2024-10-30              2931          1041     1528716.94           8077   \n",
       "2024-10-31              5963          1275     2373618.43          15130   \n",
       "\n",
       "                avg_orders_per_user  avg_ticket_price  \n",
       "created_dt_msk                                         \n",
       "2024-09-01                 2.355752        199.289306  \n",
       "2024-09-02                 2.404181        210.031174  \n",
       "2024-09-03                 6.573265         80.837453  \n",
       "2024-09-04                 2.589781        198.764007  \n",
       "2024-09-05                 2.622973        213.489606  \n",
       "...                             ...               ...  \n",
       "2024-10-27                 2.753861        188.480861  \n",
       "2024-10-28                 2.882234        173.353112  \n",
       "2024-10-29                 2.841842        173.934606  \n",
       "2024-10-30                 2.815562        189.267914  \n",
       "2024-10-31                 4.676863        156.881588  \n",
       "\n",
       "[61 rows x 6 columns]"
      ]
     },
     "metadata": {},
     "output_type": "display_data"
    }
   ],
   "source": [
    "# Рассчитываем среднюю стоимость одного билета\n",
    "pivot_table['avg_ticket_price'] = pivot_table['total_revenue'] / pivot_table['total_tickets']\n",
    "display(pivot_table)"
   ]
  },
  {
   "cell_type": "code",
   "execution_count": 69,
   "metadata": {},
   "outputs": [
    {
     "data": {
      "image/png": "[encoded data removed]",
      "text/plain": [
       "<Figure size 720x360 with 2 Axes>"
      ]
     },
     "metadata": {
      "needs_background": "light"
     },
     "output_type": "display_data"
    }
   ],
   "source": [
    "# Строим линейный график: общее число заказов и количество активных пользователей\n",
    "plt.figure(figsize=(10, 5))\n",
    "\n",
    "ax1 = pivot_table['total_orders'].plot(kind='line', color='blue', label='Общее число заказов')\n",
    "ax2 = ax1.twinx()\n",
    "pivot_table['unique_users'].plot(kind='line', color='green', label='Количество активных пользователей', ax=ax2)\n",
    "\n",
    "ax1.set_xlabel('Дата')\n",
    "ax1.set_ylabel('Число заказов', color='blue')\n",
    "ax2.set_ylabel('Количество пользователей', color='green')\n",
    "\n",
    "plt.title('Динамика заказов и активных пользователей по дням')\n",
    "plt.grid()\n",
    "plt.show()"
   ]
  },
  {
   "cell_type": "code",
   "execution_count": 70,
   "metadata": {},
   "outputs": [
    {
     "data": {
      "image/png": "[encoded data removed]",
      "text/plain": [
       "<Figure size 720x360 with 2 Axes>"
      ]
     },
     "metadata": {
      "needs_background": "light"
     },
     "output_type": "display_data"
    }
   ],
   "source": [
    "# Строим линейный график: среднее число заказов на одного пользователя и средняя стоимость одного билета\n",
    "plt.figure(figsize=(10, 5))\n",
    "\n",
    "ax3 = pivot_table['avg_orders_per_user'].plot(kind='line', color='orange', label='Среднее число заказов на пользователя')\n",
    "ax4 = ax3.twinx()\n",
    "pivot_table['avg_ticket_price'].plot(kind='line', color='red', label='Средняя стоимость билета', ax=ax4)\n",
    "\n",
    "ax3.set_xlabel('Дата')\n",
    "ax3.set_ylabel('Среднее число заказов', color='orange')\n",
    "ax4.set_ylabel('Средняя стоимость билета', color='red')\n",
    "\n",
    "plt.title('Динамика среднего числа заказов и средней стоимости билета по дням')\n",
    "plt.grid()\n",
    "plt.show()"
   ]
  },
  {
   "cell_type": "code",
   "execution_count": 71,
   "metadata": {},
   "outputs": [
    {
     "name": "stderr",
     "output_type": "stream",
     "text": [
      "C:\\ProgramData\\Anaconda3\\lib\\site-packages\\pandas\\core\\indexing.py:1667: SettingWithCopyWarning: \n",
      "A value is trying to be set on a copy of a slice from a DataFrame.\n",
      "Try using .loc[row_indexer,col_indexer] = value instead\n",
      "\n",
      "See the caveats in the documentation: https://pandas.pydata.org/pandas-docs/stable/user_guide/indexing.html#returning-a-view-versus-a-copy\n",
      "  self.obj[key] = value\n"
     ]
    }
   ],
   "source": [
    "# Добавляем новый столбец с днем недели\n",
    "df_aut.loc[:, 'day_of_week'] = df_aut['created_dt_msk'].dt.day_name()"
   ]
  },
  {
   "cell_type": "code",
   "execution_count": 72,
   "metadata": {},
   "outputs": [],
   "source": [
    "# Создаем новый столбец с разделением на будние и выходные дни\n",
    "df_aut.loc[:, 'weekday_or_weekend'] = df_aut['day_of_week'].apply(lambda x: 'Weekend' if x in ['Saturday', 'Sunday'] else 'Weekday')"
   ]
  },
  {
   "cell_type": "code",
   "execution_count": 73,
   "metadata": {},
   "outputs": [
    {
     "data": {
      "text/html": [
       "<style type=\"text/css\">\n",
       "</style>\n",
       "<table id=\"T_aa4d0_\">\n",
       "  <thead>\n",
       "    <tr>\n",
       "      <th class=\"blank level0\" >&nbsp;</th>\n",
       "      <th class=\"col_heading level0 col0\" >order_id</th>\n",
       "      <th class=\"col_heading level0 col1\" >user_id</th>\n",
       "      <th class=\"col_heading level0 col2\" >created_dt_msk</th>\n",
       "      <th class=\"col_heading level0 col3\" >created_ts_msk</th>\n",
       "      <th class=\"col_heading level0 col4\" >event_id</th>\n",
       "      <th class=\"col_heading level0 col5\" >cinema_circuit</th>\n",
       "      <th class=\"col_heading level0 col6\" >age_limit</th>\n",
       "      <th class=\"col_heading level0 col7\" >currency_code</th>\n",
       "      <th class=\"col_heading level0 col8\" >device_type_canonical</th>\n",
       "      <th class=\"col_heading level0 col9\" >revenue</th>\n",
       "      <th class=\"col_heading level0 col10\" >service_name</th>\n",
       "      <th class=\"col_heading level0 col11\" >tickets_count</th>\n",
       "      <th class=\"col_heading level0 col12\" >total</th>\n",
       "      <th class=\"col_heading level0 col13\" >days_since_prev</th>\n",
       "      <th class=\"col_heading level0 col14\" >event_name</th>\n",
       "      <th class=\"col_heading level0 col15\" >event_type_description</th>\n",
       "      <th class=\"col_heading level0 col16\" >event_type_main</th>\n",
       "      <th class=\"col_heading level0 col17\" >organizers</th>\n",
       "      <th class=\"col_heading level0 col18\" >region_name</th>\n",
       "      <th class=\"col_heading level0 col19\" >city_name</th>\n",
       "      <th class=\"col_heading level0 col20\" >city_id</th>\n",
       "      <th class=\"col_heading level0 col21\" >venue_id</th>\n",
       "      <th class=\"col_heading level0 col22\" >venue_name</th>\n",
       "      <th class=\"col_heading level0 col23\" >venue_address</th>\n",
       "      <th class=\"col_heading level0 col24\" >data</th>\n",
       "      <th class=\"col_heading level0 col25\" >nominal</th>\n",
       "      <th class=\"col_heading level0 col26\" >curs</th>\n",
       "      <th class=\"col_heading level0 col27\" >cdx</th>\n",
       "      <th class=\"col_heading level0 col28\" >revenue_rub</th>\n",
       "      <th class=\"col_heading level0 col29\" >one_ticket_revenue_rub</th>\n",
       "      <th class=\"col_heading level0 col30\" >month</th>\n",
       "      <th class=\"col_heading level0 col31\" >season</th>\n",
       "      <th class=\"col_heading level0 col32\" >day_of_week</th>\n",
       "      <th class=\"col_heading level0 col33\" >weekday_or_weekend</th>\n",
       "    </tr>\n",
       "  </thead>\n",
       "  <tbody>\n",
       "    <tr>\n",
       "      <th id=\"T_aa4d0_level0_row0\" class=\"row_heading level0 row0\" >2</th>\n",
       "      <td id=\"T_aa4d0_row0_col0\" class=\"data row0 col0\" >7292370</td>\n",
       "      <td id=\"T_aa4d0_row0_col1\" class=\"data row0 col1\" >0005ca5e93f2cf4</td>\n",
       "      <td id=\"T_aa4d0_row0_col2\" class=\"data row0 col2\" >2024-10-06 00:00:00</td>\n",
       "      <td id=\"T_aa4d0_row0_col3\" class=\"data row0 col3\" >2024-10-06 13:56:02</td>\n",
       "      <td id=\"T_aa4d0_row0_col4\" class=\"data row0 col4\" >578454</td>\n",
       "      <td id=\"T_aa4d0_row0_col5\" class=\"data row0 col5\" >нет</td>\n",
       "      <td id=\"T_aa4d0_row0_col6\" class=\"data row0 col6\" >0</td>\n",
       "      <td id=\"T_aa4d0_row0_col7\" class=\"data row0 col7\" >rub</td>\n",
       "      <td id=\"T_aa4d0_row0_col8\" class=\"data row0 col8\" >mobile</td>\n",
       "      <td id=\"T_aa4d0_row0_col9\" class=\"data row0 col9\" >1258.570000</td>\n",
       "      <td id=\"T_aa4d0_row0_col10\" class=\"data row0 col10\" >За билетом!</td>\n",
       "      <td id=\"T_aa4d0_row0_col11\" class=\"data row0 col11\" >4</td>\n",
       "      <td id=\"T_aa4d0_row0_col12\" class=\"data row0 col12\" >13984.160000</td>\n",
       "      <td id=\"T_aa4d0_row0_col13\" class=\"data row0 col13\" >75.000000</td>\n",
       "      <td id=\"T_aa4d0_row0_col14\" class=\"data row0 col14\" >01f3fb7b-ed07-4f94-b1d3-9a2e1ee5a8ca</td>\n",
       "      <td id=\"T_aa4d0_row0_col15\" class=\"data row0 col15\" >цирковое шоу</td>\n",
       "      <td id=\"T_aa4d0_row0_col16\" class=\"data row0 col16\" >другое</td>\n",
       "      <td id=\"T_aa4d0_row0_col17\" class=\"data row0 col17\" >№1540</td>\n",
       "      <td id=\"T_aa4d0_row0_col18\" class=\"data row0 col18\" >Каменевский регион</td>\n",
       "      <td id=\"T_aa4d0_row0_col19\" class=\"data row0 col19\" >Глиногорск</td>\n",
       "      <td id=\"T_aa4d0_row0_col20\" class=\"data row0 col20\" >213.000000</td>\n",
       "      <td id=\"T_aa4d0_row0_col21\" class=\"data row0 col21\" >4507.000000</td>\n",
       "      <td id=\"T_aa4d0_row0_col22\" class=\"data row0 col22\" >Училище искусств \"Нирвана\" Инк</td>\n",
       "      <td id=\"T_aa4d0_row0_col23\" class=\"data row0 col23\" >алл. Юбилейная, д. 5/6</td>\n",
       "      <td id=\"T_aa4d0_row0_col24\" class=\"data row0 col24\" >2024-10-06 00:00:00</td>\n",
       "      <td id=\"T_aa4d0_row0_col25\" class=\"data row0 col25\" >100</td>\n",
       "      <td id=\"T_aa4d0_row0_col26\" class=\"data row0 col26\" >19.647500</td>\n",
       "      <td id=\"T_aa4d0_row0_col27\" class=\"data row0 col27\" >kzt</td>\n",
       "      <td id=\"T_aa4d0_row0_col28\" class=\"data row0 col28\" >1258.570000</td>\n",
       "      <td id=\"T_aa4d0_row0_col29\" class=\"data row0 col29\" >314.642500</td>\n",
       "      <td id=\"T_aa4d0_row0_col30\" class=\"data row0 col30\" >10</td>\n",
       "      <td id=\"T_aa4d0_row0_col31\" class=\"data row0 col31\" >осень</td>\n",
       "      <td id=\"T_aa4d0_row0_col32\" class=\"data row0 col32\" >Sunday</td>\n",
       "      <td id=\"T_aa4d0_row0_col33\" class=\"data row0 col33\" >Weekend</td>\n",
       "    </tr>\n",
       "    <tr>\n",
       "      <th id=\"T_aa4d0_level0_row1\" class=\"row_heading level0 row1\" >4</th>\n",
       "      <td id=\"T_aa4d0_row1_col0\" class=\"data row1 col0\" >972400</td>\n",
       "      <td id=\"T_aa4d0_row1_col1\" class=\"data row1 col1\" >000898990054619</td>\n",
       "      <td id=\"T_aa4d0_row1_col2\" class=\"data row1 col2\" >2024-10-04 00:00:00</td>\n",
       "      <td id=\"T_aa4d0_row1_col3\" class=\"data row1 col3\" >2024-10-04 22:33:15</td>\n",
       "      <td id=\"T_aa4d0_row1_col4\" class=\"data row1 col4\" >509453</td>\n",
       "      <td id=\"T_aa4d0_row1_col5\" class=\"data row1 col5\" >нет</td>\n",
       "      <td id=\"T_aa4d0_row1_col6\" class=\"data row1 col6\" >18</td>\n",
       "      <td id=\"T_aa4d0_row1_col7\" class=\"data row1 col7\" >rub</td>\n",
       "      <td id=\"T_aa4d0_row1_col8\" class=\"data row1 col8\" >mobile</td>\n",
       "      <td id=\"T_aa4d0_row1_col9\" class=\"data row1 col9\" >1390.410000</td>\n",
       "      <td id=\"T_aa4d0_row1_col10\" class=\"data row1 col10\" >Билеты без проблем</td>\n",
       "      <td id=\"T_aa4d0_row1_col11\" class=\"data row1 col11\" >3</td>\n",
       "      <td id=\"T_aa4d0_row1_col12\" class=\"data row1 col12\" >10695.430000</td>\n",
       "      <td id=\"T_aa4d0_row1_col13\" class=\"data row1 col13\" >83.000000</td>\n",
       "      <td id=\"T_aa4d0_row1_col14\" class=\"data row1 col14\" >10d805d3-9809-4d8a-834e-225b7d03f95d</td>\n",
       "      <td id=\"T_aa4d0_row1_col15\" class=\"data row1 col15\" >шоу</td>\n",
       "      <td id=\"T_aa4d0_row1_col16\" class=\"data row1 col16\" >стендап</td>\n",
       "      <td id=\"T_aa4d0_row1_col17\" class=\"data row1 col17\" >№832</td>\n",
       "      <td id=\"T_aa4d0_row1_col18\" class=\"data row1 col18\" >Озернинский край</td>\n",
       "      <td id=\"T_aa4d0_row1_col19\" class=\"data row1 col19\" >Родниковецк</td>\n",
       "      <td id=\"T_aa4d0_row1_col20\" class=\"data row1 col20\" >240.000000</td>\n",
       "      <td id=\"T_aa4d0_row1_col21\" class=\"data row1 col21\" >1896.000000</td>\n",
       "      <td id=\"T_aa4d0_row1_col22\" class=\"data row1 col22\" >Театр кукол \"Огни\" Инкорпорэйтед</td>\n",
       "      <td id=\"T_aa4d0_row1_col23\" class=\"data row1 col23\" >ш. Набережное, д. 595 стр. 8</td>\n",
       "      <td id=\"T_aa4d0_row1_col24\" class=\"data row1 col24\" >2024-10-04 00:00:00</td>\n",
       "      <td id=\"T_aa4d0_row1_col25\" class=\"data row1 col25\" >100</td>\n",
       "      <td id=\"T_aa4d0_row1_col26\" class=\"data row1 col26\" >19.664800</td>\n",
       "      <td id=\"T_aa4d0_row1_col27\" class=\"data row1 col27\" >kzt</td>\n",
       "      <td id=\"T_aa4d0_row1_col28\" class=\"data row1 col28\" >1390.410000</td>\n",
       "      <td id=\"T_aa4d0_row1_col29\" class=\"data row1 col29\" >463.470000</td>\n",
       "      <td id=\"T_aa4d0_row1_col30\" class=\"data row1 col30\" >10</td>\n",
       "      <td id=\"T_aa4d0_row1_col31\" class=\"data row1 col31\" >осень</td>\n",
       "      <td id=\"T_aa4d0_row1_col32\" class=\"data row1 col32\" >Friday</td>\n",
       "      <td id=\"T_aa4d0_row1_col33\" class=\"data row1 col33\" >Weekday</td>\n",
       "    </tr>\n",
       "    <tr>\n",
       "      <th id=\"T_aa4d0_level0_row2\" class=\"row_heading level0 row2\" >5</th>\n",
       "      <td id=\"T_aa4d0_row2_col0\" class=\"data row2 col0\" >2613713</td>\n",
       "      <td id=\"T_aa4d0_row2_col1\" class=\"data row2 col1\" >000898990054619</td>\n",
       "      <td id=\"T_aa4d0_row2_col2\" class=\"data row2 col2\" >2024-10-23 00:00:00</td>\n",
       "      <td id=\"T_aa4d0_row2_col3\" class=\"data row2 col3\" >2024-10-23 15:12:00</td>\n",
       "      <td id=\"T_aa4d0_row2_col4\" class=\"data row2 col4\" >500862</td>\n",
       "      <td id=\"T_aa4d0_row2_col5\" class=\"data row2 col5\" >нет</td>\n",
       "      <td id=\"T_aa4d0_row2_col6\" class=\"data row2 col6\" >12</td>\n",
       "      <td id=\"T_aa4d0_row2_col7\" class=\"data row2 col7\" >rub</td>\n",
       "      <td id=\"T_aa4d0_row2_col8\" class=\"data row2 col8\" >mobile</td>\n",
       "      <td id=\"T_aa4d0_row2_col9\" class=\"data row2 col9\" >902.740000</td>\n",
       "      <td id=\"T_aa4d0_row2_col10\" class=\"data row2 col10\" >Облачко</td>\n",
       "      <td id=\"T_aa4d0_row2_col11\" class=\"data row2 col11\" >3</td>\n",
       "      <td id=\"T_aa4d0_row2_col12\" class=\"data row2 col12\" >8206.700000</td>\n",
       "      <td id=\"T_aa4d0_row2_col13\" class=\"data row2 col13\" >19.000000</td>\n",
       "      <td id=\"T_aa4d0_row2_col14\" class=\"data row2 col14\" >9cc55c15-4375-4129-9979-3129688ba1b4</td>\n",
       "      <td id=\"T_aa4d0_row2_col15\" class=\"data row2 col15\" >концерт</td>\n",
       "      <td id=\"T_aa4d0_row2_col16\" class=\"data row2 col16\" >концерты</td>\n",
       "      <td id=\"T_aa4d0_row2_col17\" class=\"data row2 col17\" >№1020</td>\n",
       "      <td id=\"T_aa4d0_row2_col18\" class=\"data row2 col18\" >Лугоградская область</td>\n",
       "      <td id=\"T_aa4d0_row2_col19\" class=\"data row2 col19\" >Кристалевск</td>\n",
       "      <td id=\"T_aa4d0_row2_col20\" class=\"data row2 col20\" >193.000000</td>\n",
       "      <td id=\"T_aa4d0_row2_col21\" class=\"data row2 col21\" >930.000000</td>\n",
       "      <td id=\"T_aa4d0_row2_col22\" class=\"data row2 col22\" >Школа живописи \"Солнце\" Групп</td>\n",
       "      <td id=\"T_aa4d0_row2_col23\" class=\"data row2 col23\" >бул. Отрадный, д. 4 стр. 1</td>\n",
       "      <td id=\"T_aa4d0_row2_col24\" class=\"data row2 col24\" >2024-10-23 00:00:00</td>\n",
       "      <td id=\"T_aa4d0_row2_col25\" class=\"data row2 col25\" >100</td>\n",
       "      <td id=\"T_aa4d0_row2_col26\" class=\"data row2 col26\" >20.053100</td>\n",
       "      <td id=\"T_aa4d0_row2_col27\" class=\"data row2 col27\" >kzt</td>\n",
       "      <td id=\"T_aa4d0_row2_col28\" class=\"data row2 col28\" >902.740000</td>\n",
       "      <td id=\"T_aa4d0_row2_col29\" class=\"data row2 col29\" >300.913333</td>\n",
       "      <td id=\"T_aa4d0_row2_col30\" class=\"data row2 col30\" >10</td>\n",
       "      <td id=\"T_aa4d0_row2_col31\" class=\"data row2 col31\" >осень</td>\n",
       "      <td id=\"T_aa4d0_row2_col32\" class=\"data row2 col32\" >Wednesday</td>\n",
       "      <td id=\"T_aa4d0_row2_col33\" class=\"data row2 col33\" >Weekday</td>\n",
       "    </tr>\n",
       "    <tr>\n",
       "      <th id=\"T_aa4d0_level0_row3\" class=\"row_heading level0 row3\" >7</th>\n",
       "      <td id=\"T_aa4d0_row3_col0\" class=\"data row3 col0\" >4657981</td>\n",
       "      <td id=\"T_aa4d0_row3_col1\" class=\"data row3 col1\" >000a55a418c128c</td>\n",
       "      <td id=\"T_aa4d0_row3_col2\" class=\"data row3 col2\" >2024-09-29 00:00:00</td>\n",
       "      <td id=\"T_aa4d0_row3_col3\" class=\"data row3 col3\" >2024-09-29 19:39:12</td>\n",
       "      <td id=\"T_aa4d0_row3_col4\" class=\"data row3 col4\" >265857</td>\n",
       "      <td id=\"T_aa4d0_row3_col5\" class=\"data row3 col5\" >нет</td>\n",
       "      <td id=\"T_aa4d0_row3_col6\" class=\"data row3 col6\" >12</td>\n",
       "      <td id=\"T_aa4d0_row3_col7\" class=\"data row3 col7\" >rub</td>\n",
       "      <td id=\"T_aa4d0_row3_col8\" class=\"data row3 col8\" >mobile</td>\n",
       "      <td id=\"T_aa4d0_row3_col9\" class=\"data row3 col9\" >47.780000</td>\n",
       "      <td id=\"T_aa4d0_row3_col10\" class=\"data row3 col10\" >Лучшие билеты</td>\n",
       "      <td id=\"T_aa4d0_row3_col11\" class=\"data row3 col11\" >1</td>\n",
       "      <td id=\"T_aa4d0_row3_col12\" class=\"data row3 col12\" >955.520000</td>\n",
       "      <td id=\"T_aa4d0_row3_col13\" class=\"data row3 col13\" >nan</td>\n",
       "      <td id=\"T_aa4d0_row3_col14\" class=\"data row3 col14\" >0d876e01-851e-458b-ba61-753e0e0c4063</td>\n",
       "      <td id=\"T_aa4d0_row3_col15\" class=\"data row3 col15\" >спектакль</td>\n",
       "      <td id=\"T_aa4d0_row3_col16\" class=\"data row3 col16\" >театр</td>\n",
       "      <td id=\"T_aa4d0_row3_col17\" class=\"data row3 col17\" >№1637</td>\n",
       "      <td id=\"T_aa4d0_row3_col18\" class=\"data row3 col18\" >Поленовский край</td>\n",
       "      <td id=\"T_aa4d0_row3_col19\" class=\"data row3 col19\" >Дальнозолотск</td>\n",
       "      <td id=\"T_aa4d0_row3_col20\" class=\"data row3 col20\" >18.000000</td>\n",
       "      <td id=\"T_aa4d0_row3_col21\" class=\"data row3 col21\" >3159.000000</td>\n",
       "      <td id=\"T_aa4d0_row3_col22\" class=\"data row3 col22\" >Клуб начинающих писателей \"Таблицы\" Групп</td>\n",
       "      <td id=\"T_aa4d0_row3_col23\" class=\"data row3 col23\" >ул. О.Кошевого, д. 7</td>\n",
       "      <td id=\"T_aa4d0_row3_col24\" class=\"data row3 col24\" >2024-09-29 00:00:00</td>\n",
       "      <td id=\"T_aa4d0_row3_col25\" class=\"data row3 col25\" >100</td>\n",
       "      <td id=\"T_aa4d0_row3_col26\" class=\"data row3 col26\" >19.374100</td>\n",
       "      <td id=\"T_aa4d0_row3_col27\" class=\"data row3 col27\" >kzt</td>\n",
       "      <td id=\"T_aa4d0_row3_col28\" class=\"data row3 col28\" >47.780000</td>\n",
       "      <td id=\"T_aa4d0_row3_col29\" class=\"data row3 col29\" >47.780000</td>\n",
       "      <td id=\"T_aa4d0_row3_col30\" class=\"data row3 col30\" >9</td>\n",
       "      <td id=\"T_aa4d0_row3_col31\" class=\"data row3 col31\" >осень</td>\n",
       "      <td id=\"T_aa4d0_row3_col32\" class=\"data row3 col32\" >Sunday</td>\n",
       "      <td id=\"T_aa4d0_row3_col33\" class=\"data row3 col33\" >Weekend</td>\n",
       "    </tr>\n",
       "    <tr>\n",
       "      <th id=\"T_aa4d0_level0_row4\" class=\"row_heading level0 row4\" >8</th>\n",
       "      <td id=\"T_aa4d0_row4_col0\" class=\"data row4 col0\" >4657952</td>\n",
       "      <td id=\"T_aa4d0_row4_col1\" class=\"data row4 col1\" >000a55a418c128c</td>\n",
       "      <td id=\"T_aa4d0_row4_col2\" class=\"data row4 col2\" >2024-10-15 00:00:00</td>\n",
       "      <td id=\"T_aa4d0_row4_col3\" class=\"data row4 col3\" >2024-10-15 10:29:04</td>\n",
       "      <td id=\"T_aa4d0_row4_col4\" class=\"data row4 col4\" >271579</td>\n",
       "      <td id=\"T_aa4d0_row4_col5\" class=\"data row4 col5\" >нет</td>\n",
       "      <td id=\"T_aa4d0_row4_col6\" class=\"data row4 col6\" >12</td>\n",
       "      <td id=\"T_aa4d0_row4_col7\" class=\"data row4 col7\" >rub</td>\n",
       "      <td id=\"T_aa4d0_row4_col8\" class=\"data row4 col8\" >mobile</td>\n",
       "      <td id=\"T_aa4d0_row4_col9\" class=\"data row4 col9\" >74.840000</td>\n",
       "      <td id=\"T_aa4d0_row4_col10\" class=\"data row4 col10\" >Лучшие билеты</td>\n",
       "      <td id=\"T_aa4d0_row4_col11\" class=\"data row4 col11\" >2</td>\n",
       "      <td id=\"T_aa4d0_row4_col12\" class=\"data row4 col12\" >2494.730000</td>\n",
       "      <td id=\"T_aa4d0_row4_col13\" class=\"data row4 col13\" >16.000000</td>\n",
       "      <td id=\"T_aa4d0_row4_col14\" class=\"data row4 col14\" >ddc795f8-7ef8-4eb0-b299-cb3e6ee24ba1</td>\n",
       "      <td id=\"T_aa4d0_row4_col15\" class=\"data row4 col15\" >спектакль</td>\n",
       "      <td id=\"T_aa4d0_row4_col16\" class=\"data row4 col16\" >театр</td>\n",
       "      <td id=\"T_aa4d0_row4_col17\" class=\"data row4 col17\" >№1637</td>\n",
       "      <td id=\"T_aa4d0_row4_col18\" class=\"data row4 col18\" >Поленовский край</td>\n",
       "      <td id=\"T_aa4d0_row4_col19\" class=\"data row4 col19\" >Дальнозолотск</td>\n",
       "      <td id=\"T_aa4d0_row4_col20\" class=\"data row4 col20\" >18.000000</td>\n",
       "      <td id=\"T_aa4d0_row4_col21\" class=\"data row4 col21\" >3159.000000</td>\n",
       "      <td id=\"T_aa4d0_row4_col22\" class=\"data row4 col22\" >Клуб начинающих писателей \"Таблицы\" Групп</td>\n",
       "      <td id=\"T_aa4d0_row4_col23\" class=\"data row4 col23\" >ул. О.Кошевого, д. 7</td>\n",
       "      <td id=\"T_aa4d0_row4_col24\" class=\"data row4 col24\" >2024-10-15 00:00:00</td>\n",
       "      <td id=\"T_aa4d0_row4_col25\" class=\"data row4 col25\" >100</td>\n",
       "      <td id=\"T_aa4d0_row4_col26\" class=\"data row4 col26\" >19.718500</td>\n",
       "      <td id=\"T_aa4d0_row4_col27\" class=\"data row4 col27\" >kzt</td>\n",
       "      <td id=\"T_aa4d0_row4_col28\" class=\"data row4 col28\" >74.840000</td>\n",
       "      <td id=\"T_aa4d0_row4_col29\" class=\"data row4 col29\" >37.420000</td>\n",
       "      <td id=\"T_aa4d0_row4_col30\" class=\"data row4 col30\" >10</td>\n",
       "      <td id=\"T_aa4d0_row4_col31\" class=\"data row4 col31\" >осень</td>\n",
       "      <td id=\"T_aa4d0_row4_col32\" class=\"data row4 col32\" >Tuesday</td>\n",
       "      <td id=\"T_aa4d0_row4_col33\" class=\"data row4 col33\" >Weekday</td>\n",
       "    </tr>\n",
       "  </tbody>\n",
       "</table>\n"
      ],
      "text/plain": [
       "<pandas.io.formats.style.Styler at 0x2ad5bf32520>"
      ]
     },
     "execution_count": 73,
     "metadata": {},
     "output_type": "execute_result"
    }
   ],
   "source": [
    "# ВЫводим первые строки\n",
    "df_aut.head().style"
   ]
  },
  {
   "cell_type": "code",
   "execution_count": 74,
   "metadata": {},
   "outputs": [
    {
     "data": {
      "text/plain": [
       "weekday_or_weekend\n",
       "Weekday    13226\n",
       "Weekend     7167\n",
       "Name: user_id, dtype: int64"
      ]
     },
     "execution_count": 74,
     "metadata": {},
     "output_type": "execute_result"
    }
   ],
   "source": [
    "# Сравниваем пользовательскую активность в будние и выходные дни\n",
    "df_aut.groupby('weekday_or_weekend')['user_id'].nunique()"
   ]
  },
  {
   "cell_type": "markdown",
   "metadata": {},
   "source": [
    "По результатам расчетов можно сделать вывод:\n",
    "- Осенью количество заказов растет пропорционально росту количества пользователей. Причем стабильный рост демонстируется по будним дням, а спад происходит на выходных;\n",
    "- Осенью среднее число заказов показывает небольшой рост, а средняя стоимость билета наоборот падение. Причем зависимость, чем больше рост среднего числа заказов, тем больше падение средней стоимости билета;\n",
    "- Осенью в будние дни активность пользователей почти в два раза выше, чем в выходные (будние 13226, выходные 7167)."
   ]
  },
  {
   "cell_type": "markdown",
   "metadata": {},
   "source": [
    "### 3.3. Популярные события и партнёры"
   ]
  },
  {
   "cell_type": "code",
   "execution_count": 75,
   "metadata": {},
   "outputs": [
    {
     "data": {
      "text/plain": [
       "region_name\n",
       "Каменевский регион          3914\n",
       "Североярская область        2610\n",
       "Широковская область          803\n",
       "Светополянский округ         764\n",
       "Речиновская область          529\n",
       "                            ... \n",
       "Верхозёрский край              2\n",
       "Светолесский край              2\n",
       "Сосноводолинская область       1\n",
       "Теплоозёрский округ            0\n",
       "Лесноярский край               0\n",
       "Name: event_id, Length: 81, dtype: int64"
      ]
     },
     "metadata": {},
     "output_type": "display_data"
    }
   ],
   "source": [
    "# Рассчитываем количество уникальных мероприятий по регионам осенью\n",
    "events_region = df_aut.groupby('region_name')['event_id'].nunique().sort_values(ascending=False)\n",
    "display(events_region)"
   ]
  },
  {
   "cell_type": "code",
   "execution_count": 76,
   "metadata": {},
   "outputs": [],
   "source": [
    "# Рассчитываем общее количество уникальных мероприятий\n",
    "total_unique_events = df_aut['event_id'].nunique()"
   ]
  },
  {
   "cell_type": "code",
   "execution_count": 77,
   "metadata": {},
   "outputs": [
    {
     "data": {
      "text/plain": [
       "region_name\n",
       "Каменевский регион          24.65\n",
       "Североярская область        16.44\n",
       "Широковская область          5.06\n",
       "Светополянский округ         4.81\n",
       "Речиновская область          3.33\n",
       "                            ...  \n",
       "Верхозёрский край            0.01\n",
       "Светолесский край            0.01\n",
       "Сосноводолинская область     0.01\n",
       "Теплоозёрский округ          0.00\n",
       "Лесноярский край             0.00\n",
       "Name: event_id, Length: 81, dtype: float64"
      ]
     },
     "metadata": {},
     "output_type": "display_data"
    }
   ],
   "source": [
    "# Рассчитываем долю проводимых мероприятий для каждого региона\n",
    "events_share_region = round(events_region / total_unique_events * 100, 2)\n",
    "display(events_share_region)"
   ]
  },
  {
   "cell_type": "code",
   "execution_count": 78,
   "metadata": {},
   "outputs": [
    {
     "data": {
      "text/plain": [
       "region_name\n",
       "Каменевский регион          46706\n",
       "Североярская область        20663\n",
       "Медовская область           12043\n",
       "Широковская область          8715\n",
       "Озернинский край             7524\n",
       "                            ...  \n",
       "Крутоводский регион            14\n",
       "Верхозёрский край              11\n",
       "Сосноводолинская область        9\n",
       "Лесноярский край                0\n",
       "Теплоозёрский округ             0\n",
       "Name: order_id, Length: 81, dtype: int64"
      ]
     },
     "metadata": {},
     "output_type": "display_data"
    }
   ],
   "source": [
    "# Рассчитываем общее количество заказов по регионам осенью\n",
    "orders_region = df_aut.groupby('region_name')['order_id'].count().sort_values(ascending=False)\n",
    "display(orders_region)"
   ]
  },
  {
   "cell_type": "code",
   "execution_count": 79,
   "metadata": {},
   "outputs": [],
   "source": [
    "# Рассчитываем общее количество заказов\n",
    "total_orders = df_aut['order_id'].count()"
   ]
  },
  {
   "cell_type": "code",
   "execution_count": 80,
   "metadata": {},
   "outputs": [
    {
     "data": {
      "text/plain": [
       "region_name\n",
       "Каменевский регион          27.68\n",
       "Североярская область        12.25\n",
       "Медовская область            7.14\n",
       "Широковская область          5.16\n",
       "Озернинский край             4.46\n",
       "                            ...  \n",
       "Крутоводский регион          0.01\n",
       "Верхозёрский край            0.01\n",
       "Сосноводолинская область     0.01\n",
       "Лесноярский край             0.00\n",
       "Теплоозёрский округ          0.00\n",
       "Name: order_id, Length: 81, dtype: float64"
      ]
     },
     "metadata": {},
     "output_type": "display_data"
    }
   ],
   "source": [
    "# Рассчитываем долю заказов для каждого региона\n",
    "orders_share_region = round(orders_region / total_orders * 100, 2)\n",
    "display(orders_share_region)"
   ]
  },
  {
   "cell_type": "code",
   "execution_count": 81,
   "metadata": {
    "scrolled": true
   },
   "outputs": [
    {
     "data": {
      "image/png": "[encoded data removed]",
      "text/plain": [
       "<Figure size 720x360 with 1 Axes>"
      ]
     },
     "metadata": {
      "needs_background": "light"
     },
     "output_type": "display_data"
    }
   ],
   "source": [
    "# Определяем n — количество топ-регионов для визуализации\n",
    "n = 7\n",
    "\n",
    "# Визуализируем топ-n регионов\n",
    "top_n_regions = events_region.sort_values(ascending=False).iloc[:n]\n",
    "top_n_regions.plot(kind='bar', figsize=(10, 5), rot=45)\n",
    "plt.title(f'Топ-{n} регионов по количеству уникальных мероприятий')\n",
    "plt.xlabel('Регион')\n",
    "plt.ylabel('Количество уникальных мероприятий')\n",
    "plt.grid(axis='y')\n",
    "plt.show()"
   ]
  },
  {
   "cell_type": "code",
   "execution_count": 82,
   "metadata": {},
   "outputs": [
    {
     "data": {
      "image/png": "[encoded data removed]",
      "text/plain": [
       "<Figure size 720x360 with 1 Axes>"
      ]
     },
     "metadata": {
      "needs_background": "light"
     },
     "output_type": "display_data"
    }
   ],
   "source": [
    "# Определяем n — количество топ-регионов для визуализации\n",
    "n = 7\n",
    "\n",
    "# Визуализируем топ-n регионов по количеству заказов\n",
    "top_n_regions_o = orders_region.sort_values(ascending=False).iloc[:n]\n",
    "top_n_regions_o.plot(kind='bar', figsize=(10, 5), rot=45)\n",
    "plt.title(f'Топ-{n} регионов по количеству заказов')\n",
    "plt.xlabel('Регион')\n",
    "plt.ylabel('Количество заказов')\n",
    "plt.grid(axis='y')\n",
    "plt.show()"
   ]
  },
  {
   "cell_type": "markdown",
   "metadata": {},
   "source": [
    "- По количеству уникальных мероприятий на первом месте Каменевский регион с долей в 24,65% от всех регионов. На втором месте Североярская область с долей 16,44%. Далее идет более равномерное распределение доли уникальных мероприятий по регионам от 5% и ниже соответственно. Причем в Теплоозёрском округе и Лесноярском крае доля равна 0, то есть там мероприятия не проводились.\n",
    "- По количеству заказов на первом месте Каменевский регион с долей в 27,68% от всех регионов. На втором месте Североярская область с долей 12,25%. Далее идет более равномерное распределение доли заказов по регионам от 7% и ниже соответственно. В Теплоозёрском округе и Лесноярском крае доля заказов также равна 0, то есть там заказы не оформлялись."
   ]
  },
  {
   "cell_type": "code",
   "execution_count": 83,
   "metadata": {},
   "outputs": [
    {
     "data": {
      "text/plain": [
       "service_name\n",
       "Лови билет!               3618\n",
       "Билеты без проблем        2845\n",
       "Билеты в руки             2471\n",
       "Облачко                   1409\n",
       "Лучшие билеты             1397\n",
       "Мой билет                 1003\n",
       "Тебе билет!                859\n",
       "Прачечная                  728\n",
       "Весь в билетах             600\n",
       "Яблоко                     537\n",
       "Городской дом культуры     289\n",
       "Show_ticket                204\n",
       "За билетом!                200\n",
       "Край билетов               193\n",
       "Дом культуры               191\n",
       "Crazy ticket!              178\n",
       "Быстробилет                133\n",
       "Мир касс                   131\n",
       "Восьмёрка                   92\n",
       "Выступления.ру              79\n",
       "Росбилет                    41\n",
       "КарандашРУ                  28\n",
       "Вперёд!                     21\n",
       "Телебилет                   12\n",
       "Шоу начинается!             11\n",
       "Билет по телефону           10\n",
       "Радио ticket                 7\n",
       "Реестр                       4\n",
       "Дырокол                      2\n",
       "Тех билет                    2\n",
       "Зе Бест!                     1\n",
       "Билеты в интернете           1\n",
       "Быстрый кассир               1\n",
       "Лимоны                       1\n",
       "Кино билет                   1\n",
       "Цвет и билет                 0\n",
       "Name: event_id, dtype: int64"
      ]
     },
     "metadata": {},
     "output_type": "display_data"
    }
   ],
   "source": [
    "# Рассчитываем количество уникальных мероприятий для каждого билетного партнёра\n",
    "events_service = df_aut.groupby('service_name')['event_id'].nunique().sort_values(ascending=False)\n",
    "display(events_service)"
   ]
  },
  {
   "cell_type": "code",
   "execution_count": 84,
   "metadata": {},
   "outputs": [
    {
     "data": {
      "text/plain": [
       "service_name\n",
       "Лови билет!               22.79\n",
       "Билеты без проблем        17.92\n",
       "Билеты в руки             15.56\n",
       "Облачко                    8.87\n",
       "Лучшие билеты              8.80\n",
       "Мой билет                  6.32\n",
       "Тебе билет!                5.41\n",
       "Прачечная                  4.58\n",
       "Весь в билетах             3.78\n",
       "Яблоко                     3.38\n",
       "Городской дом культуры     1.82\n",
       "Show_ticket                1.28\n",
       "За билетом!                1.26\n",
       "Край билетов               1.22\n",
       "Дом культуры               1.20\n",
       "Crazy ticket!              1.12\n",
       "Быстробилет                0.84\n",
       "Мир касс                   0.83\n",
       "Восьмёрка                  0.58\n",
       "Выступления.ру             0.50\n",
       "Росбилет                   0.26\n",
       "КарандашРУ                 0.18\n",
       "Вперёд!                    0.13\n",
       "Телебилет                  0.08\n",
       "Шоу начинается!            0.07\n",
       "Билет по телефону          0.06\n",
       "Радио ticket               0.04\n",
       "Реестр                     0.03\n",
       "Дырокол                    0.01\n",
       "Тех билет                  0.01\n",
       "Зе Бест!                   0.01\n",
       "Билеты в интернете         0.01\n",
       "Быстрый кассир             0.01\n",
       "Лимоны                     0.01\n",
       "Кино билет                 0.01\n",
       "Цвет и билет               0.00\n",
       "Name: event_id, dtype: float64"
      ]
     },
     "metadata": {},
     "output_type": "display_data"
    }
   ],
   "source": [
    "# Рассчитываем долю проводимых мероприятий для каждого билетного партнёра\n",
    "events_share_service = round(events_service / total_unique_events * 100, 2)\n",
    "display(events_share_service)"
   ]
  },
  {
   "cell_type": "code",
   "execution_count": 85,
   "metadata": {},
   "outputs": [
    {
     "data": {
      "text/plain": [
       "service_name\n",
       "Билеты без проблем        32475\n",
       "Лови билет!               25802\n",
       "Билеты в руки             25732\n",
       "Мой билет                 19403\n",
       "Облачко                   15478\n",
       "Лучшие билеты             12438\n",
       "Весь в билетах             9426\n",
       "Прачечная                  5798\n",
       "Тебе билет!                3766\n",
       "Яблоко                     3473\n",
       "Край билетов               3004\n",
       "Дом культуры               1740\n",
       "Городской дом культуры     1738\n",
       "За билетом!                1738\n",
       "Show_ticket                1300\n",
       "Быстробилет                1162\n",
       "Мир касс                    988\n",
       "Выступления.ру              917\n",
       "Crazy ticket!               550\n",
       "Шоу начинается!             406\n",
       "Восьмёрка                   390\n",
       "Радио ticket                322\n",
       "Телебилет                   206\n",
       "Росбилет                    189\n",
       "КарандашРУ                   69\n",
       "Дырокол                      62\n",
       "Билет по телефону            50\n",
       "Кино билет                   48\n",
       "Вперёд!                      38\n",
       "Реестр                       16\n",
       "Быстрый кассир                8\n",
       "Тех билет                     5\n",
       "Билеты в интернете            4\n",
       "Зе Бест!                      2\n",
       "Лимоны                        1\n",
       "Цвет и билет                  0\n",
       "Name: order_id, dtype: int64"
      ]
     },
     "metadata": {},
     "output_type": "display_data"
    }
   ],
   "source": [
    "# Рассчитываем общее количество заказов для каждого билетного партнёра\n",
    "orders_service = df_aut.groupby('service_name')['order_id'].count().sort_values(ascending=False)\n",
    "display(orders_service)"
   ]
  },
  {
   "cell_type": "code",
   "execution_count": 86,
   "metadata": {},
   "outputs": [
    {
     "data": {
      "text/plain": [
       "service_name\n",
       "Билеты без проблем        19.25\n",
       "Лови билет!               15.29\n",
       "Билеты в руки             15.25\n",
       "Мой билет                 11.50\n",
       "Облачко                    9.17\n",
       "Лучшие билеты              7.37\n",
       "Весь в билетах             5.59\n",
       "Прачечная                  3.44\n",
       "Тебе билет!                2.23\n",
       "Яблоко                     2.06\n",
       "Край билетов               1.78\n",
       "Дом культуры               1.03\n",
       "Городской дом культуры     1.03\n",
       "За билетом!                1.03\n",
       "Show_ticket                0.77\n",
       "Быстробилет                0.69\n",
       "Мир касс                   0.59\n",
       "Выступления.ру             0.54\n",
       "Crazy ticket!              0.33\n",
       "Шоу начинается!            0.24\n",
       "Восьмёрка                  0.23\n",
       "Радио ticket               0.19\n",
       "Телебилет                  0.12\n",
       "Росбилет                   0.11\n",
       "КарандашРУ                 0.04\n",
       "Дырокол                    0.04\n",
       "Билет по телефону          0.03\n",
       "Кино билет                 0.03\n",
       "Вперёд!                    0.02\n",
       "Реестр                     0.01\n",
       "Быстрый кассир             0.00\n",
       "Тех билет                  0.00\n",
       "Билеты в интернете         0.00\n",
       "Зе Бест!                   0.00\n",
       "Лимоны                     0.00\n",
       "Цвет и билет               0.00\n",
       "Name: order_id, dtype: float64"
      ]
     },
     "metadata": {},
     "output_type": "display_data"
    }
   ],
   "source": [
    "# Рассчитываем долю заказов для каждого билетного партнёра\n",
    "orders_share_service = round(orders_service / total_orders * 100, 2)\n",
    "display(orders_share_service)"
   ]
  },
  {
   "cell_type": "code",
   "execution_count": 87,
   "metadata": {},
   "outputs": [
    {
     "data": {
      "text/plain": [
       "service_name\n",
       "Билеты без проблем        13867461.90\n",
       "Мой билет                 11543015.86\n",
       "Облачко                   10611051.69\n",
       "Лови билет!               10412236.58\n",
       "Весь в билетах             9378863.91\n",
       "Билеты в руки              7619000.37\n",
       "Край билетов               3037065.17\n",
       "Яблоко                     2763332.31\n",
       "Прачечная                  2548310.47\n",
       "Тебе билет!                2181782.10\n",
       "Лучшие билеты              1672790.03\n",
       "Дом культуры               1640817.41\n",
       "За билетом!                1200925.26\n",
       "Городской дом культуры     1054292.87\n",
       "Быстробилет                 929493.20\n",
       "Show_ticket                 906167.06\n",
       "Мир касс                    835427.38\n",
       "Выступления.ру              606630.12\n",
       "Шоу начинается!             405148.16\n",
       "Crazy ticket!               319451.55\n",
       "Росбилет                    286815.50\n",
       "Восьмёрка                   238422.40\n",
       "Телебилет                   113377.05\n",
       "Дырокол                      88888.88\n",
       "Кино билет                   81729.24\n",
       "Радио ticket                 44719.95\n",
       "Билет по телефону            37807.82\n",
       "Реестр                       15271.47\n",
       "Вперёд!                      14540.02\n",
       "КарандашРУ                   13689.57\n",
       "Быстрый кассир                7780.71\n",
       "Тех билет                     1722.63\n",
       "Билеты в интернете             548.23\n",
       "Лимоны                         119.93\n",
       "Зе Бест!                        30.01\n",
       "Цвет и билет                     0.00\n",
       "Name: revenue, dtype: float64"
      ]
     },
     "metadata": {},
     "output_type": "display_data"
    }
   ],
   "source": [
    "# Рассчитываем суммарную выручку для каждого билетного партнёра\n",
    "revenue_service = df_aut.groupby('service_name')['revenue'].sum().sort_values(ascending=False)\n",
    "display(revenue_service)"
   ]
  },
  {
   "cell_type": "code",
   "execution_count": 88,
   "metadata": {},
   "outputs": [],
   "source": [
    "# Рассчитываем общую выручку\n",
    "total_revenue = df_aut['revenue'].sum()"
   ]
  },
  {
   "cell_type": "code",
   "execution_count": 89,
   "metadata": {},
   "outputs": [
    {
     "data": {
      "text/plain": [
       "service_name\n",
       "Билеты без проблем        16.42\n",
       "Мой билет                 13.66\n",
       "Облачко                   12.56\n",
       "Лови билет!               12.33\n",
       "Весь в билетах            11.10\n",
       "Билеты в руки              9.02\n",
       "Край билетов               3.60\n",
       "Яблоко                     3.27\n",
       "Прачечная                  3.02\n",
       "Тебе билет!                2.58\n",
       "Лучшие билеты              1.98\n",
       "Дом культуры               1.94\n",
       "За билетом!                1.42\n",
       "Городской дом культуры     1.25\n",
       "Быстробилет                1.10\n",
       "Show_ticket                1.07\n",
       "Мир касс                   0.99\n",
       "Выступления.ру             0.72\n",
       "Шоу начинается!            0.48\n",
       "Crazy ticket!              0.38\n",
       "Росбилет                   0.34\n",
       "Восьмёрка                  0.28\n",
       "Телебилет                  0.13\n",
       "Дырокол                    0.11\n",
       "Кино билет                 0.10\n",
       "Радио ticket               0.05\n",
       "Билет по телефону          0.04\n",
       "Реестр                     0.02\n",
       "Вперёд!                    0.02\n",
       "КарандашРУ                 0.02\n",
       "Быстрый кассир             0.01\n",
       "Тех билет                  0.00\n",
       "Билеты в интернете         0.00\n",
       "Лимоны                     0.00\n",
       "Зе Бест!                   0.00\n",
       "Цвет и билет               0.00\n",
       "Name: revenue, dtype: float64"
      ]
     },
     "metadata": {},
     "output_type": "display_data"
    }
   ],
   "source": [
    "# Рассчитываем долю выручки для каждого билетного партнёра\n",
    "revenue_share_service = round(revenue_service / total_revenue * 100, 2)\n",
    "display(revenue_share_service)"
   ]
  },
  {
   "cell_type": "markdown",
   "metadata": {},
   "source": [
    "- По количеству уникальных мероприятий на первом месте `Лови билет!` с долей в 22,79% от всех билетных партнеров. На втором месте `Билеты без проблем` с долей 17,92%. На третьем месте `Билеты в руки` с долей 15,56%. Далее идет более равномерное распределение доли от 8% и ниже соответственно. Причем в `Цвет и билет` доля равна 0.\n",
    "- По количеству заказов на первом месте `Билеты без проблем` с долей 19.25,68% от всех билетных партнеров. На втором месте `Лови билет!` с долей 15.29%. На третьем месте `Билеты в руки` с долей 15.25%. Далее идет более равномерное распределение доли заказов от 11% и ниже соответственно. Причем в `Цвет и билет` доля равна 0.\n",
    "- По суммарной выручке на первом месте `Билеты без проблем` с долей 16,42%. На втором месте `Мой билет` с долей 13,66%. На третьем месте `Облачко` с долей 12.56%. Партнер `Лови билет!` на четвертом месте с долей 12,32%, хотя по количеству мероприятий этот оператор был на первом месте. Можно увидеть зависимость, что лидером суммарной выручки оказался лидер по количеству билетов. `Цвет и билет` ожидаемо не показал выручки."
   ]
  },
  {
   "cell_type": "markdown",
   "metadata": {},
   "source": [
    "### 4. Статистический анализ данных"
   ]
  },
  {
   "cell_type": "markdown",
   "metadata": {},
   "source": [
    "#### Гипотеза 1: Среднее количество заказов на одного пользователя мобильного приложения выше по сравнению с пользователями стационарных устройств."
   ]
  },
  {
   "cell_type": "markdown",
   "metadata": {},
   "source": [
    "- Нулевая гипотеза H₀: Среднее колчество заказов на одного пользователя мобильного приложения по сравнению с пользователями стационарных устройств не различается.\n",
    "\n",
    "- Альтернативная гипотеза H₁: Среднее количество заказов на одного пользователя мобильного приложения выше по сравнению с пользователями стационарных устройств и это различие статистически значимо."
   ]
  },
  {
   "cell_type": "code",
   "execution_count": 90,
   "metadata": {},
   "outputs": [],
   "source": [
    "# Фильтруем пользователей по группе мобильных устройств\n",
    "mobile = df_aut[df_aut['device_type_canonical'] == 'mobile']"
   ]
  },
  {
   "cell_type": "code",
   "execution_count": 91,
   "metadata": {},
   "outputs": [],
   "source": [
    "# Фильтруем пользователей по группе стационарных устройств\n",
    "desktop = df_aut[df_aut['device_type_canonical'] == 'desktop']"
   ]
  },
  {
   "cell_type": "code",
   "execution_count": 92,
   "metadata": {},
   "outputs": [
    {
     "data": {
      "text/plain": [
       "3251"
      ]
     },
     "metadata": {},
     "output_type": "display_data"
    }
   ],
   "source": [
    "# Проверяем группы на пересечение пользователей\n",
    "intersection = set(mobile['user_id']).intersection(set(desktop['user_id']))\n",
    "display(len(intersection))"
   ]
  },
  {
   "cell_type": "code",
   "execution_count": 93,
   "metadata": {},
   "outputs": [],
   "source": [
    "# Удаляем пересекающихся пользователей в обоих группах из группы мобильных устройств\n",
    "mobile = mobile[~mobile['user_id'].isin(intersection)]"
   ]
  },
  {
   "cell_type": "code",
   "execution_count": 94,
   "metadata": {},
   "outputs": [],
   "source": [
    "# Удаляем пересекающихся пользователей в обоих группах из группы стационарных устройств\n",
    "desktop = desktop[~desktop['user_id'].isin(intersection)]"
   ]
  },
  {
   "cell_type": "code",
   "execution_count": 95,
   "metadata": {},
   "outputs": [
    {
     "data": {
      "text/plain": [
       "0"
      ]
     },
     "metadata": {},
     "output_type": "display_data"
    }
   ],
   "source": [
    "# Проверяем удаление\n",
    "intersection_2 = set(mobile['user_id']).intersection(set(desktop['user_id']))\n",
    "display(len(intersection_2))"
   ]
  },
  {
   "cell_type": "code",
   "execution_count": 96,
   "metadata": {},
   "outputs": [
    {
     "data": {
      "text/plain": [
       "31304"
      ]
     },
     "metadata": {},
     "output_type": "display_data"
    }
   ],
   "source": [
    "# Рассчитываем общее количество заказов для группы мобильных устройств\n",
    "mobile_orders = mobile['order_id'].count()\n",
    "display(mobile_orders)"
   ]
  },
  {
   "cell_type": "code",
   "execution_count": 97,
   "metadata": {},
   "outputs": [
    {
     "data": {
      "text/plain": [
       "3190"
      ]
     },
     "metadata": {},
     "output_type": "display_data"
    }
   ],
   "source": [
    "# Рассчитываем общее количество заказов для группы стационарных устройств\n",
    "desktop_orders = desktop['order_id'].count()\n",
    "display(desktop_orders)"
   ]
  },
  {
   "cell_type": "code",
   "execution_count": 98,
   "metadata": {},
   "outputs": [
    {
     "data": {
      "text/plain": [
       "10944"
      ]
     },
     "metadata": {},
     "output_type": "display_data"
    }
   ],
   "source": [
    "# Рассчитываем количество уникальных пользователей для группы мобильных устройств\n",
    "mobile_users = mobile['user_id'].nunique()\n",
    "display(mobile_users)"
   ]
  },
  {
   "cell_type": "code",
   "execution_count": 99,
   "metadata": {},
   "outputs": [
    {
     "data": {
      "text/plain": [
       "1621"
      ]
     },
     "metadata": {},
     "output_type": "display_data"
    }
   ],
   "source": [
    "# Рассчитываем количество уникальных пользователей для группы стационарных устройств\n",
    "desktop_users = desktop['user_id'].nunique()\n",
    "display(desktop_users)"
   ]
  },
  {
   "cell_type": "code",
   "execution_count": 100,
   "metadata": {},
   "outputs": [
    {
     "data": {
      "text/plain": [
       "2.86"
      ]
     },
     "metadata": {},
     "output_type": "display_data"
    }
   ],
   "source": [
    "# Рассчитываем среднее количество заказов на одного пользователя мобильного устройства\n",
    "avg_mobile_per_user = round(mobile_orders / mobile_users, 2)\n",
    "display(avg_mobile_per_user)"
   ]
  },
  {
   "cell_type": "code",
   "execution_count": 101,
   "metadata": {},
   "outputs": [
    {
     "data": {
      "text/plain": [
       "1.97"
      ]
     },
     "metadata": {},
     "output_type": "display_data"
    }
   ],
   "source": [
    "# Рассчитываем среднее количество заказов на одного пользователя стационарных устройств\n",
    "avg_desktop_per_user = round(desktop_orders / desktop_users, 2)\n",
    "display(avg_desktop_per_user)"
   ]
  },
  {
   "cell_type": "code",
   "execution_count": 102,
   "metadata": {},
   "outputs": [
    {
     "data": {
      "image/png": "[encoded data removed]",
      "text/plain": [
       "<Figure size 720x360 with 1 Axes>"
      ]
     },
     "metadata": {
      "needs_background": "light"
     },
     "output_type": "display_data"
    }
   ],
   "source": [
    "# Создаём гистограмму\n",
    "plt.figure(figsize=(10, 5))\n",
    "plt.hist(mobile.groupby('user_id')['order_id'].count(), bins=20, edgecolor='black')\n",
    "plt.title('Гистограмма количества заказов пользователей мобильных устройств')\n",
    "plt.xlabel('Значение')\n",
    "plt.ylabel('Частота')\n",
    "plt.grid(axis='y')\n",
    "plt.show()\n"
   ]
  },
  {
   "cell_type": "code",
   "execution_count": 103,
   "metadata": {
    "scrolled": true
   },
   "outputs": [
    {
     "data": {
      "image/png": "[encoded data removed]",
      "text/plain": [
       "<Figure size 720x360 with 1 Axes>"
      ]
     },
     "metadata": {
      "needs_background": "light"
     },
     "output_type": "display_data"
    }
   ],
   "source": [
    "# Создаём гистограмму\n",
    "plt.figure(figsize=(10, 5))\n",
    "plt.hist(desktop.groupby('user_id')['order_id'].count(), bins=20, edgecolor='black')\n",
    "plt.title('Гистограмма количества заказов пользователей стационарных устройств')\n",
    "plt.xlabel('Значение')\n",
    "plt.ylabel('Частота')\n",
    "plt.grid(axis='y')\n",
    "plt.show()\n"
   ]
  },
  {
   "cell_type": "code",
   "execution_count": 104,
   "metadata": {},
   "outputs": [
    {
     "name": "stdout",
     "output_type": "stream",
     "text": [
      "Статистика теста: 0.45368528366088867\n",
      "p-значение: 0.0\n",
      "Данные отличаются от нормально распределённых (отвергаем нулевую гипотезу)\n"
     ]
    },
    {
     "name": "stderr",
     "output_type": "stream",
     "text": [
      "C:\\Users\\Евгений\\AppData\\Roaming\\Python\\Python39\\site-packages\\scipy\\stats\\_morestats.py:1761: UserWarning: p-value may not be accurate for N > 5000.\n",
      "  warnings.warn(\"p-value may not be accurate for N > 5000.\")\n"
     ]
    }
   ],
   "source": [
    "# Проводим тест Шапиро для пользователей мобильных устройств\n",
    "stat, p = shapiro(mobile.groupby('user_id')['order_id'].count())\n",
    "print(f'Статистика теста: {stat}')\n",
    "print(f'p-значение: {p}')\n",
    "\n",
    "# Интерпретация результата\n",
    "alpha = 0.05\n",
    "if p > alpha:\n",
    "    print(\"Данные не отличаются от нормально распределённых (не отвергаем нулевую гипотезу)\")\n",
    "else:\n",
    "    print(\"Данные отличаются от нормально распределённых (отвергаем нулевую гипотезу)\")\n"
   ]
  },
  {
   "cell_type": "code",
   "execution_count": 105,
   "metadata": {},
   "outputs": [
    {
     "name": "stdout",
     "output_type": "stream",
     "text": [
      "Статистика теста: 0.2984495162963867\n",
      "p-значение: 0.0\n",
      "Данные отличаются от нормально распределённых (отвергаем нулевую гипотезу)\n"
     ]
    }
   ],
   "source": [
    "# Проводим тест Шапиро для пользователей стационарных устройств\n",
    "stat, p = shapiro(desktop.groupby('user_id')['order_id'].count())\n",
    "print(f'Статистика теста: {stat}')\n",
    "print(f'p-значение: {p}')\n",
    "\n",
    "# Интерпретация результата\n",
    "alpha = 0.05\n",
    "if p > alpha:\n",
    "    print(\"Данные не отличаются от нормально распределённых (не отвергаем нулевую гипотезу)\")\n",
    "else:\n",
    "    print(\"Данные отличаются от нормально распределённых (отвергаем нулевую гипотезу)\")\n"
   ]
  },
  {
   "cell_type": "markdown",
   "metadata": {},
   "source": [
    "Для проверки гипотезы о том, что среднее количество заказов на одного пользователя мобильного приложения выше по сравнению с пользователями стационарных устройств будем использовать тест Манна-Уитни поскольку тест основан на рангах, он менее чувствителен к экстремальным значениям или выбросам в данных по сравнению с параметрическими тестами."
   ]
  },
  {
   "cell_type": "code",
   "execution_count": 106,
   "metadata": {},
   "outputs": [
    {
     "name": "stdout",
     "output_type": "stream",
     "text": [
      "Значение p-value = 7.989340353734217e-40\n",
      "Нулевая гипотеза не находит подтверждения! Среднее количество заказов на одного пользователя мобильного приложения выше по сравнению с пользователями стационарных устройств и это различие статистически значимо\n"
     ]
    }
   ],
   "source": [
    "# Проводим тест Манна-Уитни\n",
    "metric_m = mobile.groupby('user_id')['order_id'].count()\n",
    "metriс_d = desktop.groupby('user_id')['order_id'].count()\n",
    "\n",
    "alpha = 0.05\n",
    "stat_mw, p_value_mw = mannwhitneyu(\n",
    "    metric_m\n",
    "    , metriс_d\n",
    "    , alternative = 'greater'\n",
    ")\n",
    "print(f'Значение p-value = {p_value_mw}')\n",
    "      \n",
    "if p_value_mw > alpha:\n",
    "    print('Нулевая гипотеза находит подтверждение! Среднее колчество заказов на одного пользователя мобильного приложения по сравнению с пользователями стационарных устройств не различается')\n",
    "else:\n",
    "    print('Нулевая гипотеза не находит подтверждения! Среднее количество заказов на одного пользователя мобильного приложения выше по сравнению с пользователями стационарных устройств и это различие статистически значимо')"
   ]
  },
  {
   "cell_type": "code",
   "execution_count": 107,
   "metadata": {},
   "outputs": [],
   "source": [
    "# # Проводим тест Стьюдента\n",
    "# metric_m = mobile.groupby('user_id')['order_id'].count()\n",
    "# metriс_d = desktop.groupby('user_id')['order_id'].count()\n",
    "\n",
    "# alpha = 0.05\n",
    "# stat_ttest, p_value_ttest = ttest_ind(\n",
    "#     metric_m\n",
    "#     , metriс_d\n",
    "#     , alternative = 'greater'\n",
    "# )\n",
    "# print(f'Значение p-value = {p_value_ttest}')\n",
    "      \n",
    "# if p_value_ttest > alpha:\n",
    "#     print('Нулевая гипотеза находит подтверждение! Среднее колчество заказов на одного пользователя мобильного приложения по сравнению с пользователями стационарных устройств не различается')\n",
    "# else:\n",
    "#     print('Нулевая гипотеза не находит подтверждения! Среднее количество заказов на одного пользователя мобильного приложения выше по сравнению с пользователями стационарных устройств и это различие статистически значимо')"
   ]
  },
  {
   "cell_type": "markdown",
   "metadata": {},
   "source": [
    "#### Гипотеза 2: Среднее время между заказами пользователей мобильных приложений выше по сравнению с пользователями стационарных устройств."
   ]
  },
  {
   "cell_type": "markdown",
   "metadata": {},
   "source": [
    "- Нулевая гипотеза H₀: Среднее время между заказами пользователей мобильных приложений по сравнению с пользователями стационарных устройств не различается.\n",
    "\n",
    "- Альтернативная гипотеза H₁: Среднее время между заказами пользователей мобильных приложений выше по сравнению с пользователями стационарных устройств."
   ]
  },
  {
   "cell_type": "code",
   "execution_count": 108,
   "metadata": {},
   "outputs": [],
   "source": [
    "# Создаем новый датафрейм с отсортированными заказами по времени\n",
    "df_3 = df_aut.sort_values(by=['user_id', 'created_ts_msk'])"
   ]
  },
  {
   "cell_type": "code",
   "execution_count": 109,
   "metadata": {},
   "outputs": [],
   "source": [
    "# Создаем новый столбец с разницей между последовательными заказами\n",
    "df_3['time_diff'] = df_3.groupby('user_id')['created_ts_msk'].diff()"
   ]
  },
  {
   "cell_type": "code",
   "execution_count": 110,
   "metadata": {},
   "outputs": [
    {
     "data": {
      "text/html": [
       "<div>\n",
       "<style scoped>\n",
       "    .dataframe tbody tr th:only-of-type {\n",
       "        vertical-align: middle;\n",
       "    }\n",
       "\n",
       "    .dataframe tbody tr th {\n",
       "        vertical-align: top;\n",
       "    }\n",
       "\n",
       "    .dataframe thead th {\n",
       "        text-align: right;\n",
       "    }\n",
       "</style>\n",
       "<table border=\"1\" class=\"dataframe\">\n",
       "  <thead>\n",
       "    <tr style=\"text-align: right;\">\n",
       "      <th></th>\n",
       "      <th>order_id</th>\n",
       "      <th>user_id</th>\n",
       "      <th>created_dt_msk</th>\n",
       "      <th>created_ts_msk</th>\n",
       "      <th>event_id</th>\n",
       "      <th>cinema_circuit</th>\n",
       "      <th>age_limit</th>\n",
       "      <th>currency_code</th>\n",
       "      <th>device_type_canonical</th>\n",
       "      <th>revenue</th>\n",
       "      <th>...</th>\n",
       "      <th>nominal</th>\n",
       "      <th>curs</th>\n",
       "      <th>cdx</th>\n",
       "      <th>revenue_rub</th>\n",
       "      <th>one_ticket_revenue_rub</th>\n",
       "      <th>month</th>\n",
       "      <th>season</th>\n",
       "      <th>day_of_week</th>\n",
       "      <th>weekday_or_weekend</th>\n",
       "      <th>time_diff</th>\n",
       "    </tr>\n",
       "  </thead>\n",
       "  <tbody>\n",
       "    <tr>\n",
       "      <th>2</th>\n",
       "      <td>7292370</td>\n",
       "      <td>0005ca5e93f2cf4</td>\n",
       "      <td>2024-10-06</td>\n",
       "      <td>2024-10-06 13:56:02</td>\n",
       "      <td>578454</td>\n",
       "      <td>нет</td>\n",
       "      <td>0</td>\n",
       "      <td>rub</td>\n",
       "      <td>mobile</td>\n",
       "      <td>1258.57</td>\n",
       "      <td>...</td>\n",
       "      <td>100</td>\n",
       "      <td>19.6475</td>\n",
       "      <td>kzt</td>\n",
       "      <td>1258.57</td>\n",
       "      <td>314.642500</td>\n",
       "      <td>10</td>\n",
       "      <td>осень</td>\n",
       "      <td>Sunday</td>\n",
       "      <td>Weekend</td>\n",
       "      <td>NaT</td>\n",
       "    </tr>\n",
       "    <tr>\n",
       "      <th>4</th>\n",
       "      <td>972400</td>\n",
       "      <td>000898990054619</td>\n",
       "      <td>2024-10-04</td>\n",
       "      <td>2024-10-04 22:33:15</td>\n",
       "      <td>509453</td>\n",
       "      <td>нет</td>\n",
       "      <td>18</td>\n",
       "      <td>rub</td>\n",
       "      <td>mobile</td>\n",
       "      <td>1390.41</td>\n",
       "      <td>...</td>\n",
       "      <td>100</td>\n",
       "      <td>19.6648</td>\n",
       "      <td>kzt</td>\n",
       "      <td>1390.41</td>\n",
       "      <td>463.470000</td>\n",
       "      <td>10</td>\n",
       "      <td>осень</td>\n",
       "      <td>Friday</td>\n",
       "      <td>Weekday</td>\n",
       "      <td>NaT</td>\n",
       "    </tr>\n",
       "    <tr>\n",
       "      <th>5</th>\n",
       "      <td>2613713</td>\n",
       "      <td>000898990054619</td>\n",
       "      <td>2024-10-23</td>\n",
       "      <td>2024-10-23 15:12:00</td>\n",
       "      <td>500862</td>\n",
       "      <td>нет</td>\n",
       "      <td>12</td>\n",
       "      <td>rub</td>\n",
       "      <td>mobile</td>\n",
       "      <td>902.74</td>\n",
       "      <td>...</td>\n",
       "      <td>100</td>\n",
       "      <td>20.0531</td>\n",
       "      <td>kzt</td>\n",
       "      <td>902.74</td>\n",
       "      <td>300.913333</td>\n",
       "      <td>10</td>\n",
       "      <td>осень</td>\n",
       "      <td>Wednesday</td>\n",
       "      <td>Weekday</td>\n",
       "      <td>18 days 16:38:45</td>\n",
       "    </tr>\n",
       "    <tr>\n",
       "      <th>7</th>\n",
       "      <td>4657981</td>\n",
       "      <td>000a55a418c128c</td>\n",
       "      <td>2024-09-29</td>\n",
       "      <td>2024-09-29 19:39:12</td>\n",
       "      <td>265857</td>\n",
       "      <td>нет</td>\n",
       "      <td>12</td>\n",
       "      <td>rub</td>\n",
       "      <td>mobile</td>\n",
       "      <td>47.78</td>\n",
       "      <td>...</td>\n",
       "      <td>100</td>\n",
       "      <td>19.3741</td>\n",
       "      <td>kzt</td>\n",
       "      <td>47.78</td>\n",
       "      <td>47.780000</td>\n",
       "      <td>9</td>\n",
       "      <td>осень</td>\n",
       "      <td>Sunday</td>\n",
       "      <td>Weekend</td>\n",
       "      <td>NaT</td>\n",
       "    </tr>\n",
       "    <tr>\n",
       "      <th>8</th>\n",
       "      <td>4657952</td>\n",
       "      <td>000a55a418c128c</td>\n",
       "      <td>2024-10-15</td>\n",
       "      <td>2024-10-15 10:29:04</td>\n",
       "      <td>271579</td>\n",
       "      <td>нет</td>\n",
       "      <td>12</td>\n",
       "      <td>rub</td>\n",
       "      <td>mobile</td>\n",
       "      <td>74.84</td>\n",
       "      <td>...</td>\n",
       "      <td>100</td>\n",
       "      <td>19.7185</td>\n",
       "      <td>kzt</td>\n",
       "      <td>74.84</td>\n",
       "      <td>37.420000</td>\n",
       "      <td>10</td>\n",
       "      <td>осень</td>\n",
       "      <td>Tuesday</td>\n",
       "      <td>Weekday</td>\n",
       "      <td>15 days 14:49:52</td>\n",
       "    </tr>\n",
       "  </tbody>\n",
       "</table>\n",
       "<p>5 rows × 35 columns</p>\n",
       "</div>"
      ],
      "text/plain": [
       "   order_id          user_id created_dt_msk      created_ts_msk  event_id  \\\n",
       "2   7292370  0005ca5e93f2cf4     2024-10-06 2024-10-06 13:56:02    578454   \n",
       "4    972400  000898990054619     2024-10-04 2024-10-04 22:33:15    509453   \n",
       "5   2613713  000898990054619     2024-10-23 2024-10-23 15:12:00    500862   \n",
       "7   4657981  000a55a418c128c     2024-09-29 2024-09-29 19:39:12    265857   \n",
       "8   4657952  000a55a418c128c     2024-10-15 2024-10-15 10:29:04    271579   \n",
       "\n",
       "  cinema_circuit age_limit currency_code device_type_canonical  revenue  ...  \\\n",
       "2            нет         0           rub                mobile  1258.57  ...   \n",
       "4            нет        18           rub                mobile  1390.41  ...   \n",
       "5            нет        12           rub                mobile   902.74  ...   \n",
       "7            нет        12           rub                mobile    47.78  ...   \n",
       "8            нет        12           rub                mobile    74.84  ...   \n",
       "\n",
       "  nominal     curs  cdx  revenue_rub one_ticket_revenue_rub month season  \\\n",
       "2     100  19.6475  kzt      1258.57             314.642500    10  осень   \n",
       "4     100  19.6648  kzt      1390.41             463.470000    10  осень   \n",
       "5     100  20.0531  kzt       902.74             300.913333    10  осень   \n",
       "7     100  19.3741  kzt        47.78              47.780000     9  осень   \n",
       "8     100  19.7185  kzt        74.84              37.420000    10  осень   \n",
       "\n",
       "  day_of_week weekday_or_weekend        time_diff  \n",
       "2      Sunday            Weekend              NaT  \n",
       "4      Friday            Weekday              NaT  \n",
       "5   Wednesday            Weekday 18 days 16:38:45  \n",
       "7      Sunday            Weekend              NaT  \n",
       "8     Tuesday            Weekday 15 days 14:49:52  \n",
       "\n",
       "[5 rows x 35 columns]"
      ]
     },
     "execution_count": 110,
     "metadata": {},
     "output_type": "execute_result"
    }
   ],
   "source": [
    "# Выводим первые строки\n",
    "df_3.head()"
   ]
  },
  {
   "cell_type": "code",
   "execution_count": 111,
   "metadata": {},
   "outputs": [],
   "source": [
    "# Фильтруем пользователей по группе мобильных устройств\n",
    "mobile_2 = df_3[df_3['device_type_canonical'] == 'mobile']"
   ]
  },
  {
   "cell_type": "code",
   "execution_count": 112,
   "metadata": {},
   "outputs": [],
   "source": [
    "# Фильтруем пользователей по группе стационарных устройств\n",
    "desktop_2 = df_3[df_3['device_type_canonical'] == 'desktop']"
   ]
  },
  {
   "cell_type": "code",
   "execution_count": 113,
   "metadata": {},
   "outputs": [
    {
     "data": {
      "text/plain": [
       "3251"
      ]
     },
     "metadata": {},
     "output_type": "display_data"
    }
   ],
   "source": [
    "# Проверяем группы на пересечение пользователей\n",
    "intersection_3 = set(mobile_2['user_id']).intersection(set(desktop_2['user_id']))\n",
    "display(len(intersection_3))"
   ]
  },
  {
   "cell_type": "code",
   "execution_count": 114,
   "metadata": {},
   "outputs": [],
   "source": [
    "# Удаляем пересекающихся пользователей в обоих группах из группы мобильных устройств\n",
    "mobile_2 = mobile_2[~mobile_2['user_id'].isin(intersection)]"
   ]
  },
  {
   "cell_type": "code",
   "execution_count": 115,
   "metadata": {},
   "outputs": [],
   "source": [
    "# Удаляем пересекающихся пользователей в обоих группах из группы стационарных устройств\n",
    "desktop_2 = desktop_2[~desktop_2['user_id'].isin(intersection)]"
   ]
  },
  {
   "cell_type": "code",
   "execution_count": 116,
   "metadata": {},
   "outputs": [
    {
     "data": {
      "text/plain": [
       "0"
      ]
     },
     "metadata": {},
     "output_type": "display_data"
    }
   ],
   "source": [
    "# Проверяем удаление\n",
    "intersection_4 = set(mobile_2['user_id']).intersection(set(desktop_2['user_id']))\n",
    "display(len(intersection_4))"
   ]
  },
  {
   "cell_type": "code",
   "execution_count": 117,
   "metadata": {},
   "outputs": [
    {
     "data": {
      "text/plain": [
       "Timedelta('4 days 14:54:14.921709233')"
      ]
     },
     "metadata": {},
     "output_type": "display_data"
    }
   ],
   "source": [
    "# Рассчитываем среднее время между заказами пользователей мобильных устройств\n",
    "mobile_avg_time = mobile_2['time_diff'].mean()\n",
    "display(mobile_avg_time)"
   ]
  },
  {
   "cell_type": "code",
   "execution_count": 118,
   "metadata": {},
   "outputs": [
    {
     "data": {
      "text/plain": [
       "Timedelta('2 days 13:35:56.796685787')"
      ]
     },
     "metadata": {},
     "output_type": "display_data"
    }
   ],
   "source": [
    "# Рассчитываем среднее время между заказами пользователей стационарных устройств\n",
    "desktop_avg_time = desktop_2['time_diff'].mean()\n",
    "display(desktop_avg_time)"
   ]
  },
  {
   "cell_type": "code",
   "execution_count": 119,
   "metadata": {},
   "outputs": [],
   "source": [
    "# Создаем новый столбец для преобразования временных интервалов в секунды\n",
    "mobile_2['time_diff_seconds'] = mobile_2['time_diff'].dt.total_seconds()"
   ]
  },
  {
   "cell_type": "code",
   "execution_count": 120,
   "metadata": {},
   "outputs": [],
   "source": [
    "# Создаем новый столбец для преобразования временных интервалов в секунды\n",
    "desktop_2['time_diff_seconds'] = desktop_2['time_diff'].dt.total_seconds()"
   ]
  },
  {
   "cell_type": "code",
   "execution_count": 121,
   "metadata": {},
   "outputs": [],
   "source": [
    "# Заполняем пропуски в столбце time_diff_seconds\n",
    "mobile_2['time_diff_seconds'] = mobile_2['time_diff'].fillna(pd.Timedelta('0s'))"
   ]
  },
  {
   "cell_type": "code",
   "execution_count": 122,
   "metadata": {},
   "outputs": [],
   "source": [
    "# Заполняем пропуски в столбце time_diff_seconds\n",
    "desktop_2['time_diff_seconds'] = desktop_2['time_diff'].fillna(pd.Timedelta('0s'))"
   ]
  },
  {
   "cell_type": "code",
   "execution_count": 123,
   "metadata": {},
   "outputs": [
    {
     "data": {
      "text/html": [
       "<div>\n",
       "<style scoped>\n",
       "    .dataframe tbody tr th:only-of-type {\n",
       "        vertical-align: middle;\n",
       "    }\n",
       "\n",
       "    .dataframe tbody tr th {\n",
       "        vertical-align: top;\n",
       "    }\n",
       "\n",
       "    .dataframe thead th {\n",
       "        text-align: right;\n",
       "    }\n",
       "</style>\n",
       "<table border=\"1\" class=\"dataframe\">\n",
       "  <thead>\n",
       "    <tr style=\"text-align: right;\">\n",
       "      <th></th>\n",
       "      <th>order_id</th>\n",
       "      <th>user_id</th>\n",
       "      <th>created_dt_msk</th>\n",
       "      <th>created_ts_msk</th>\n",
       "      <th>event_id</th>\n",
       "      <th>cinema_circuit</th>\n",
       "      <th>age_limit</th>\n",
       "      <th>currency_code</th>\n",
       "      <th>device_type_canonical</th>\n",
       "      <th>revenue</th>\n",
       "      <th>...</th>\n",
       "      <th>curs</th>\n",
       "      <th>cdx</th>\n",
       "      <th>revenue_rub</th>\n",
       "      <th>one_ticket_revenue_rub</th>\n",
       "      <th>month</th>\n",
       "      <th>season</th>\n",
       "      <th>day_of_week</th>\n",
       "      <th>weekday_or_weekend</th>\n",
       "      <th>time_diff</th>\n",
       "      <th>time_diff_seconds</th>\n",
       "    </tr>\n",
       "  </thead>\n",
       "  <tbody>\n",
       "    <tr>\n",
       "      <th>92</th>\n",
       "      <td>8634925</td>\n",
       "      <td>0040e12d70fae81</td>\n",
       "      <td>2024-09-02</td>\n",
       "      <td>2024-09-02 19:49:14</td>\n",
       "      <td>559476</td>\n",
       "      <td>нет</td>\n",
       "      <td>6</td>\n",
       "      <td>kzt</td>\n",
       "      <td>desktop</td>\n",
       "      <td>347.18</td>\n",
       "      <td>...</td>\n",
       "      <td>18.9330</td>\n",
       "      <td>kzt</td>\n",
       "      <td>65.731589</td>\n",
       "      <td>21.910530</td>\n",
       "      <td>9</td>\n",
       "      <td>осень</td>\n",
       "      <td>Monday</td>\n",
       "      <td>Weekday</td>\n",
       "      <td>NaT</td>\n",
       "      <td>0 days 00:00:00</td>\n",
       "    </tr>\n",
       "    <tr>\n",
       "      <th>127</th>\n",
       "      <td>2994686</td>\n",
       "      <td>006d1660d830822</td>\n",
       "      <td>2024-09-01</td>\n",
       "      <td>2024-09-01 16:43:50</td>\n",
       "      <td>558435</td>\n",
       "      <td>нет</td>\n",
       "      <td>6</td>\n",
       "      <td>rub</td>\n",
       "      <td>desktop</td>\n",
       "      <td>31.09</td>\n",
       "      <td>...</td>\n",
       "      <td>18.9330</td>\n",
       "      <td>kzt</td>\n",
       "      <td>31.090000</td>\n",
       "      <td>10.363333</td>\n",
       "      <td>9</td>\n",
       "      <td>осень</td>\n",
       "      <td>Sunday</td>\n",
       "      <td>Weekend</td>\n",
       "      <td>NaT</td>\n",
       "      <td>0 days 00:00:00</td>\n",
       "    </tr>\n",
       "    <tr>\n",
       "      <th>128</th>\n",
       "      <td>2994802</td>\n",
       "      <td>006d1660d830822</td>\n",
       "      <td>2024-09-25</td>\n",
       "      <td>2024-09-25 13:18:41</td>\n",
       "      <td>569860</td>\n",
       "      <td>нет</td>\n",
       "      <td>6</td>\n",
       "      <td>rub</td>\n",
       "      <td>desktop</td>\n",
       "      <td>86.21</td>\n",
       "      <td>...</td>\n",
       "      <td>19.3262</td>\n",
       "      <td>kzt</td>\n",
       "      <td>86.210000</td>\n",
       "      <td>21.552500</td>\n",
       "      <td>9</td>\n",
       "      <td>осень</td>\n",
       "      <td>Wednesday</td>\n",
       "      <td>Weekday</td>\n",
       "      <td>23 days 20:34:51</td>\n",
       "      <td>23 days 20:34:51</td>\n",
       "    </tr>\n",
       "    <tr>\n",
       "      <th>129</th>\n",
       "      <td>2994744</td>\n",
       "      <td>006d1660d830822</td>\n",
       "      <td>2024-09-29</td>\n",
       "      <td>2024-09-29 17:02:46</td>\n",
       "      <td>569874</td>\n",
       "      <td>нет</td>\n",
       "      <td>6</td>\n",
       "      <td>rub</td>\n",
       "      <td>desktop</td>\n",
       "      <td>46.13</td>\n",
       "      <td>...</td>\n",
       "      <td>19.3741</td>\n",
       "      <td>kzt</td>\n",
       "      <td>46.130000</td>\n",
       "      <td>15.376667</td>\n",
       "      <td>9</td>\n",
       "      <td>осень</td>\n",
       "      <td>Sunday</td>\n",
       "      <td>Weekend</td>\n",
       "      <td>4 days 03:44:05</td>\n",
       "      <td>4 days 03:44:05</td>\n",
       "    </tr>\n",
       "    <tr>\n",
       "      <th>130</th>\n",
       "      <td>2994715</td>\n",
       "      <td>006d1660d830822</td>\n",
       "      <td>2024-10-03</td>\n",
       "      <td>2024-10-03 15:04:48</td>\n",
       "      <td>355361</td>\n",
       "      <td>нет</td>\n",
       "      <td>0</td>\n",
       "      <td>rub</td>\n",
       "      <td>desktop</td>\n",
       "      <td>212.11</td>\n",
       "      <td>...</td>\n",
       "      <td>19.6841</td>\n",
       "      <td>kzt</td>\n",
       "      <td>212.110000</td>\n",
       "      <td>70.703333</td>\n",
       "      <td>10</td>\n",
       "      <td>осень</td>\n",
       "      <td>Thursday</td>\n",
       "      <td>Weekday</td>\n",
       "      <td>3 days 22:02:02</td>\n",
       "      <td>3 days 22:02:02</td>\n",
       "    </tr>\n",
       "  </tbody>\n",
       "</table>\n",
       "<p>5 rows × 36 columns</p>\n",
       "</div>"
      ],
      "text/plain": [
       "     order_id          user_id created_dt_msk      created_ts_msk  event_id  \\\n",
       "92    8634925  0040e12d70fae81     2024-09-02 2024-09-02 19:49:14    559476   \n",
       "127   2994686  006d1660d830822     2024-09-01 2024-09-01 16:43:50    558435   \n",
       "128   2994802  006d1660d830822     2024-09-25 2024-09-25 13:18:41    569860   \n",
       "129   2994744  006d1660d830822     2024-09-29 2024-09-29 17:02:46    569874   \n",
       "130   2994715  006d1660d830822     2024-10-03 2024-10-03 15:04:48    355361   \n",
       "\n",
       "    cinema_circuit age_limit currency_code device_type_canonical  revenue  \\\n",
       "92             нет         6           kzt               desktop   347.18   \n",
       "127            нет         6           rub               desktop    31.09   \n",
       "128            нет         6           rub               desktop    86.21   \n",
       "129            нет         6           rub               desktop    46.13   \n",
       "130            нет         0           rub               desktop   212.11   \n",
       "\n",
       "     ...     curs  cdx  revenue_rub  one_ticket_revenue_rub month season  \\\n",
       "92   ...  18.9330  kzt    65.731589               21.910530     9  осень   \n",
       "127  ...  18.9330  kzt    31.090000               10.363333     9  осень   \n",
       "128  ...  19.3262  kzt    86.210000               21.552500     9  осень   \n",
       "129  ...  19.3741  kzt    46.130000               15.376667     9  осень   \n",
       "130  ...  19.6841  kzt   212.110000               70.703333    10  осень   \n",
       "\n",
       "    day_of_week weekday_or_weekend        time_diff time_diff_seconds  \n",
       "92       Monday            Weekday              NaT   0 days 00:00:00  \n",
       "127      Sunday            Weekend              NaT   0 days 00:00:00  \n",
       "128   Wednesday            Weekday 23 days 20:34:51  23 days 20:34:51  \n",
       "129      Sunday            Weekend  4 days 03:44:05   4 days 03:44:05  \n",
       "130    Thursday            Weekday  3 days 22:02:02   3 days 22:02:02  \n",
       "\n",
       "[5 rows x 36 columns]"
      ]
     },
     "execution_count": 123,
     "metadata": {},
     "output_type": "execute_result"
    }
   ],
   "source": [
    "# Выводим первые строки\n",
    "desktop_2.head()"
   ]
  },
  {
   "cell_type": "markdown",
   "metadata": {},
   "source": [
    "Для проверки гипотезы о том, что среднее время между заказами пользователей мобильных приложений выше по сравнению с пользователями стационарных устройств будем использовать тест Манна-Уитни поскольку тест основан на рангах, он менее чувствителен к экстремальным значениям или выбросам в данных по сравнению с параметрическими тестами."
   ]
  },
  {
   "cell_type": "code",
   "execution_count": 124,
   "metadata": {},
   "outputs": [
    {
     "name": "stdout",
     "output_type": "stream",
     "text": [
      "Значение p-value = 6.935192674659579e-126\n",
      "Нулевая гипотеза не находит подтверждения! Среднее время между заказами пользователей мобильного приложения выше по сравнению с пользователями стационарных устройств и это различие статистически значимо\n"
     ]
    }
   ],
   "source": [
    "# Проводим тест Манна-Уитни\n",
    "metric_m_2 = mobile_2['time_diff_seconds']\n",
    "metriс_d_2 = desktop_2['time_diff_seconds']\n",
    "\n",
    "alpha = 0.05\n",
    "stat_mw, p_value_mw = mannwhitneyu(\n",
    "    metric_m_2\n",
    "    , metriс_d_2\n",
    "    , alternative = 'greater'\n",
    ")\n",
    "print(f'Значение p-value = {p_value_mw}')\n",
    "      \n",
    "if p_value_mw > alpha:\n",
    "    print('Нулевая гипотеза находит подтверждение! Среднее время между заказами пользователей пользователя мобильного приложения по сравнению с пользователями стационарных устройств не различается')\n",
    "else:\n",
    "    print('Нулевая гипотеза не находит подтверждения! Среднее время между заказами пользователей мобильного приложения выше по сравнению с пользователями стационарных устройств и это различие статистически значимо')"
   ]
  },
  {
   "cell_type": "markdown",
   "metadata": {},
   "source": [
    "После проведения статистического анализа можно сделать вывод, что обе гипотезы получили подтверждение. Среднее количество заказов на одного пользователя мобильного приложения (2,86) примерно на один заказ выше по сравнению с пользователями стационарных устройств (1,97).\n",
    "Среднее время между заказами пользователей мобильных приложений (4 дня) примерно на два дня выше по сравнению с пользователями стационарных устройств (2 дня)."
   ]
  },
  {
   "cell_type": "markdown",
   "metadata": {},
   "source": [
    "## Итоговый вывод"
   ]
  },
  {
   "cell_type": "markdown",
   "metadata": {},
   "source": [
    "Для анализа использовались данные о сервисе Яндекс Афиша за период с 01.06.2024 по 31.10.2024. \n",
    "Данные состоят из трех датасетов:\n",
    "- `final_tickets_orders_df.csv` - информация обо всех заказах билетов, совершенных с двух типов устройств - мобильных и стационарных;\n",
    "- `final_tickets_events_df` - информация о событиях, включая город и регион события, а также информация о площадке проведения мероприятия;\n",
    "- `final_tickets_tenge_df.csv` - информация о курсе тенге к российскому рублю за 2024 год. Значения в рублях представлено для 100 тенге."
   ]
  },
  {
   "cell_type": "markdown",
   "metadata": {},
   "source": [
    "По результатам расчета количества заказов по месяцам хорошо видно, что от июня к ноябрю фиксируется рост. Более высокий рост фиксируется в сентябре и октябре."
   ]
  },
  {
   "cell_type": "markdown",
   "metadata": {},
   "source": [
    "Анализ распределения заказов по сегментам и их сезонные изменения: \n",
    "- Осенью доля заказов упала в категориях `концерты`, `другое`, `стендап` и `выставки`, а увеличилась доля заказов в категориях `театр`, `спорт` и `елки`;\n",
    "- Осенью доля заказов упала в категориях мероприятий по возрастному рейтингу `6`, `16` и `18`, а увеличилась `0` и `12`;\n",
    "- Осенью доля заказов упала по типу устройства `mobile`, а увеличилась `desktop`;\n",
    "- Осенью средняя стоимость билета упала в категориях `концерты`, `елки`, `театр`, `другое`, `спорт`, а увеличилась `стендап`, `выставки`."
   ]
  },
  {
   "cell_type": "markdown",
   "metadata": {},
   "source": [
    "Осенняя активность пользователей:\n",
    "- Осенью количество заказов растет пропорционально росту количества пользователей. Причем стабильный рост демонстируется по будним дням, а спад происходит на выходных;\n",
    "- Осенью среднее число заказов показывает небольшой рост, а средняя стоимость билета наоборот падение. Причем зависимость, чем больше рост среднего числа заказов, тем больше падение средней стоимости билета;\n",
    "- Осенью в будние дни активность пользователей почти в два раза выше, чем в выходные (будние 13226, выходные 7167)."
   ]
  },
  {
   "cell_type": "markdown",
   "metadata": {},
   "source": [
    "Популярные события:\n",
    "- По количеству уникальных мероприятий на первом месте Каменевский регион с долей в 24,65% от всех регионов. На втором месте Североярская область с долей 16,44%. Далее идет более равномерное распределение доли уникальных мероприятий по регионам от 5% и ниже соответственно. Причем в Теплоозёрском округе и Лесноярском крае доля равна 0, то есть там мероприятия не проводились.\n",
    "- По количеству заказов на первом месте Каменевский регион с долей в 27,68% от всех регионов. На втором месте Североярская область с долей 12,24%. Далее идет более равномерное распределение доли заказов по регионам от 7% и ниже соответственно. В Теплоозёрском округе и Лесноярском крае доля заказов также равна 0, то есть там заказы не оформлялись."
   ]
  },
  {
   "cell_type": "markdown",
   "metadata": {},
   "source": [
    "Популярные партнеры:\n",
    "- По количеству уникальных мероприятий на первом месте `Лови билет!` с долей в 22,79% от всех билетных партнеров. На втором месте `Билеты без проблем` с долей 17,92%. На третьем месте `Билеты в руки` с долей 15,56%. Далее идет более равномерное распределение доли от 8% и ниже соответственно. Причем в `Цвет и билет` доля равна 0.\n",
    "- По количеству заказов на первом месте `Билеты без проблем` с долей 19.25,68% от всех билетных партнеров. На втором месте `Лови билет!` с долей 15.29%. На третьем месте `Билеты в руки` с долей 15.25%. Далее идет более равномерное распределение доли заказов от 11% и ниже соответственно. Причем в `Цвет и билет` доля равна 0.\n",
    "- По суммарной выручке на первом месте `Билеты без проблем` с долей 16,42%. На втором месте `Мой билет` с долей 13,66%. На третьем месте `Облачко` с долей 12.56%. Партнер `Лови билет!` на четвертом месте с долей 12,32%, хотя по количеству мероприятий этот оператор был на первом месте. Можно увидеть зависимость, что лидером суммарной выручки оказался лидер по количеству билетов. `Цвет и билет` ожидаемо не показал выручки."
   ]
  },
  {
   "cell_type": "markdown",
   "metadata": {},
   "source": [
    "После проведения статистического анализа можно сделать вывод, что обе гипотезы получили подтверждение. Среднее количество заказов на одного пользователя мобильного приложения (2,86) примерно на один заказ выше по сравнению с пользователями стационарных устройств (1,97).\n",
    "Среднее время между заказами пользователей мобильных приложений (4 дня) примерно на два дня выше по сравнению с пользователями стационарных устройств (2 дня)."
   ]
  },
  {
   "cell_type": "markdown",
   "metadata": {},
   "source": [
    "Рекомендации:\n",
    "\n",
    "Разрабатывать новые функции и сервисы, ориентированные на мобильные устройства.\n",
    "\n",
    "Проводить чаще события, приносящие наибольшую выручку. А события с наименьшей выручкой проводить реже. Возможно стоит более подробно изучить аудиторию, выбирающих те или иные события.\n",
    "\n",
    "Разрабатывать специальные предложения и акции, учитывающие сезонные колебания. Для того, чтобы они были более эффективными провести анализ данных за несколько периодов. Так получится более детально выявить сезонные закономерности."
   ]
  },
  {
   "cell_type": "markdown",
   "metadata": {},
   "source": []
  }
 ],
 "metadata": {
  "colab": {
   "provenance": []
  },
  "kernelspec": {
   "display_name": "Python 3 (ipykernel)",
   "language": "python",
   "name": "python3"
  },
  "language_info": {
   "codemirror_mode": {
    "name": "ipython",
    "version": 3
   },
   "file_extension": ".py",
   "mimetype": "text/x-python",
   "name": "python",
   "nbconvert_exporter": "python",
   "pygments_lexer": "ipython3",
   "version": "3.9.7"
  },
  "toc": {
   "base_numbering": 1,
   "nav_menu": {},
   "number_sections": true,
   "sideBar": true,
   "skip_h1_title": true,
   "title_cell": "Table of Contents",
   "title_sidebar": "Contents",
   "toc_cell": false,
   "toc_position": {},
   "toc_section_display": true,
   "toc_window_display": false
  }
 },
 "nbformat": 4,
 "nbformat_minor": 1
}
